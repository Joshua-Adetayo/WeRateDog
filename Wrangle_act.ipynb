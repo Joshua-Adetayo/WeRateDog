{
 "cells": [
  {
   "cell_type": "markdown",
   "id": "13070fd3",
   "metadata": {},
   "source": [
    "# Project: Wrangling a Dataset (WeRateDogs)\n",
    "\n",
    "## Table of Contents\n",
    "<ul>\n",
    "<li><a href=\"#intro\">Introduction</a></li>\n",
    "<li><a href=\"#data_gathering\">Data Gathering</a></li>\n",
    "<li><a href=\"#assessing\">Assessing Data</a></li>\n",
    "<li><a href=\"#Cleaning\">Data Cleaning</a></li>\n",
    "<li><a href=\"#eda\">Data Analysis</a></li>\n",
    "<li><a href=\"#conclusions\">Conclusions</a></li>\n",
    "</ul>"
   ]
  },
  {
   "cell_type": "markdown",
   "id": "9b608b97",
   "metadata": {},
   "source": [
    "<a id='intro'></a>\n",
    "## Introduction\n",
    "\n",
    "### About Dataset\n",
    ">The dataset that I will be wrangling (and analyzing and visualizing) is the tweet archive of Twitter user @dog_rates, also known as WeRateDogs. WeRateDogs is a Twitter account that rates people's dogs with a humorous comment about the dog. These ratings almost always have a denominator of 10. The numerators, though? Almost always greater than 10. 11/10, 12/10, 13/10, etc. Why? Because \"they're good dogs Brent.\" WeRateDogs has over 4 million followers and has received international media coverage.\n",
    "\n",
    "### Question(s) for Analysis\n",
    ">1. To know the top 10 most common Dog breeds.\n",
    "\n",
    ">2. To know the top 10 dog breeds with highest likes.\n",
    "\n",
    ">3. To know the top 10 dog breeds with highest retweets.\n"
   ]
  },
  {
   "cell_type": "markdown",
   "id": "74e85ac4",
   "metadata": {},
   "source": [
    "###### Importation of Packages"
   ]
  },
  {
   "cell_type": "code",
   "execution_count": 83,
   "id": "ad3340b7",
   "metadata": {},
   "outputs": [],
   "source": [
    "# Importing the required python packages\n",
    "#!pip install tweepy\n",
    "import pandas as pd\n",
    "import numpy as np\n",
    "import seaborn as sns\n",
    "import matplotlib.pyplot as plt\n",
    "%matplotlib inline\n",
    "import requests\n",
    "import tweepy\n",
    "from tweepy import OAuthHandler\n",
    "import json\n",
    "import re\n",
    "from timeit import default_timer as timer"
   ]
  },
  {
   "cell_type": "markdown",
   "id": "b0efaaa9",
   "metadata": {},
   "source": [
    "In this section of the report, I will load in the data, check for quality and tidyness issues, fix the issues and clean the dataset for analysis."
   ]
  },
  {
   "cell_type": "markdown",
   "id": "c65b850b",
   "metadata": {},
   "source": [
    "<a id='data_gathering'></a>\n",
    "\n",
    "### Data Gathering"
   ]
  },
  {
   "cell_type": "code",
   "execution_count": 84,
   "id": "a7e858cc",
   "metadata": {},
   "outputs": [],
   "source": [
    "# Reading the twitter archive into a dataframe using read_csv from pandas\n",
    "twt_df=pd.read_csv('twitter-archive-enhanced.csv')"
   ]
  },
  {
   "cell_type": "code",
   "execution_count": 85,
   "id": "4340c2c7",
   "metadata": {},
   "outputs": [],
   "source": [
    "# Downloading image prediction dataset using the requests package and reading it into a dataframe using read_csv from pandas\n",
    "#url='https://d17h27t6h515a5.cloudfront.net/topher/2017/August/599fd2ad_image-predictions/image-predictions.tsv'\n",
    "#response=requests.get(url)\n",
    "#with open(\"image-predictions.tsv\", mode='wb') as file:\n",
    "   # file.write(response.content)\n",
    "img_pred_df=pd.read_csv(\"image-predictions.tsv\", sep='\\t')"
   ]
  },
  {
   "cell_type": "code",
   "execution_count": 86,
   "id": "8e18c362",
   "metadata": {},
   "outputs": [],
   "source": [
    "# Reading the twitter json file into a dataframe using read_json from pandas\n",
    "twt_json_df = pd.read_json('tweet-json.txt', lines=True)\n",
    "# Drop unnecessary columns\n",
    "twt_json_df.drop(twt_json_df.columns.difference(['id', 'retweet_count', 'favorite_count']), axis=1, inplace=True)"
   ]
  },
  {
   "cell_type": "markdown",
   "id": "2281b470",
   "metadata": {},
   "source": [
    "<a id='assessing'></a>\n",
    "\n",
    "### Assessing Data"
   ]
  },
  {
   "cell_type": "code",
   "execution_count": 87,
   "id": "769af62c",
   "metadata": {
    "scrolled": true
   },
   "outputs": [
    {
     "data": {
      "text/html": [
       "<div>\n",
       "<style scoped>\n",
       "    .dataframe tbody tr th:only-of-type {\n",
       "        vertical-align: middle;\n",
       "    }\n",
       "\n",
       "    .dataframe tbody tr th {\n",
       "        vertical-align: top;\n",
       "    }\n",
       "\n",
       "    .dataframe thead th {\n",
       "        text-align: right;\n",
       "    }\n",
       "</style>\n",
       "<table border=\"1\" class=\"dataframe\">\n",
       "  <thead>\n",
       "    <tr style=\"text-align: right;\">\n",
       "      <th></th>\n",
       "      <th>tweet_id</th>\n",
       "      <th>in_reply_to_status_id</th>\n",
       "      <th>in_reply_to_user_id</th>\n",
       "      <th>timestamp</th>\n",
       "      <th>source</th>\n",
       "      <th>text</th>\n",
       "      <th>retweeted_status_id</th>\n",
       "      <th>retweeted_status_user_id</th>\n",
       "      <th>retweeted_status_timestamp</th>\n",
       "      <th>expanded_urls</th>\n",
       "      <th>rating_numerator</th>\n",
       "      <th>rating_denominator</th>\n",
       "      <th>name</th>\n",
       "      <th>doggo</th>\n",
       "      <th>floofer</th>\n",
       "      <th>pupper</th>\n",
       "      <th>puppo</th>\n",
       "    </tr>\n",
       "  </thead>\n",
       "  <tbody>\n",
       "    <tr>\n",
       "      <th>0</th>\n",
       "      <td>892420643555336193</td>\n",
       "      <td>NaN</td>\n",
       "      <td>NaN</td>\n",
       "      <td>2017-08-01 16:23:56 +0000</td>\n",
       "      <td>&lt;a href=\"http://twitter.com/download/iphone\" r...</td>\n",
       "      <td>This is Phineas. He's a mystical boy. Only eve...</td>\n",
       "      <td>NaN</td>\n",
       "      <td>NaN</td>\n",
       "      <td>NaN</td>\n",
       "      <td>https://twitter.com/dog_rates/status/892420643...</td>\n",
       "      <td>13</td>\n",
       "      <td>10</td>\n",
       "      <td>Phineas</td>\n",
       "      <td>None</td>\n",
       "      <td>None</td>\n",
       "      <td>None</td>\n",
       "      <td>None</td>\n",
       "    </tr>\n",
       "    <tr>\n",
       "      <th>1</th>\n",
       "      <td>892177421306343426</td>\n",
       "      <td>NaN</td>\n",
       "      <td>NaN</td>\n",
       "      <td>2017-08-01 00:17:27 +0000</td>\n",
       "      <td>&lt;a href=\"http://twitter.com/download/iphone\" r...</td>\n",
       "      <td>This is Tilly. She's just checking pup on you....</td>\n",
       "      <td>NaN</td>\n",
       "      <td>NaN</td>\n",
       "      <td>NaN</td>\n",
       "      <td>https://twitter.com/dog_rates/status/892177421...</td>\n",
       "      <td>13</td>\n",
       "      <td>10</td>\n",
       "      <td>Tilly</td>\n",
       "      <td>None</td>\n",
       "      <td>None</td>\n",
       "      <td>None</td>\n",
       "      <td>None</td>\n",
       "    </tr>\n",
       "    <tr>\n",
       "      <th>2</th>\n",
       "      <td>891815181378084864</td>\n",
       "      <td>NaN</td>\n",
       "      <td>NaN</td>\n",
       "      <td>2017-07-31 00:18:03 +0000</td>\n",
       "      <td>&lt;a href=\"http://twitter.com/download/iphone\" r...</td>\n",
       "      <td>This is Archie. He is a rare Norwegian Pouncin...</td>\n",
       "      <td>NaN</td>\n",
       "      <td>NaN</td>\n",
       "      <td>NaN</td>\n",
       "      <td>https://twitter.com/dog_rates/status/891815181...</td>\n",
       "      <td>12</td>\n",
       "      <td>10</td>\n",
       "      <td>Archie</td>\n",
       "      <td>None</td>\n",
       "      <td>None</td>\n",
       "      <td>None</td>\n",
       "      <td>None</td>\n",
       "    </tr>\n",
       "    <tr>\n",
       "      <th>3</th>\n",
       "      <td>891689557279858688</td>\n",
       "      <td>NaN</td>\n",
       "      <td>NaN</td>\n",
       "      <td>2017-07-30 15:58:51 +0000</td>\n",
       "      <td>&lt;a href=\"http://twitter.com/download/iphone\" r...</td>\n",
       "      <td>This is Darla. She commenced a snooze mid meal...</td>\n",
       "      <td>NaN</td>\n",
       "      <td>NaN</td>\n",
       "      <td>NaN</td>\n",
       "      <td>https://twitter.com/dog_rates/status/891689557...</td>\n",
       "      <td>13</td>\n",
       "      <td>10</td>\n",
       "      <td>Darla</td>\n",
       "      <td>None</td>\n",
       "      <td>None</td>\n",
       "      <td>None</td>\n",
       "      <td>None</td>\n",
       "    </tr>\n",
       "    <tr>\n",
       "      <th>4</th>\n",
       "      <td>891327558926688256</td>\n",
       "      <td>NaN</td>\n",
       "      <td>NaN</td>\n",
       "      <td>2017-07-29 16:00:24 +0000</td>\n",
       "      <td>&lt;a href=\"http://twitter.com/download/iphone\" r...</td>\n",
       "      <td>This is Franklin. He would like you to stop ca...</td>\n",
       "      <td>NaN</td>\n",
       "      <td>NaN</td>\n",
       "      <td>NaN</td>\n",
       "      <td>https://twitter.com/dog_rates/status/891327558...</td>\n",
       "      <td>12</td>\n",
       "      <td>10</td>\n",
       "      <td>Franklin</td>\n",
       "      <td>None</td>\n",
       "      <td>None</td>\n",
       "      <td>None</td>\n",
       "      <td>None</td>\n",
       "    </tr>\n",
       "  </tbody>\n",
       "</table>\n",
       "</div>"
      ],
      "text/plain": [
       "             tweet_id  in_reply_to_status_id  in_reply_to_user_id  \\\n",
       "0  892420643555336193                    NaN                  NaN   \n",
       "1  892177421306343426                    NaN                  NaN   \n",
       "2  891815181378084864                    NaN                  NaN   \n",
       "3  891689557279858688                    NaN                  NaN   \n",
       "4  891327558926688256                    NaN                  NaN   \n",
       "\n",
       "                   timestamp  \\\n",
       "0  2017-08-01 16:23:56 +0000   \n",
       "1  2017-08-01 00:17:27 +0000   \n",
       "2  2017-07-31 00:18:03 +0000   \n",
       "3  2017-07-30 15:58:51 +0000   \n",
       "4  2017-07-29 16:00:24 +0000   \n",
       "\n",
       "                                              source  \\\n",
       "0  <a href=\"http://twitter.com/download/iphone\" r...   \n",
       "1  <a href=\"http://twitter.com/download/iphone\" r...   \n",
       "2  <a href=\"http://twitter.com/download/iphone\" r...   \n",
       "3  <a href=\"http://twitter.com/download/iphone\" r...   \n",
       "4  <a href=\"http://twitter.com/download/iphone\" r...   \n",
       "\n",
       "                                                text  retweeted_status_id  \\\n",
       "0  This is Phineas. He's a mystical boy. Only eve...                  NaN   \n",
       "1  This is Tilly. She's just checking pup on you....                  NaN   \n",
       "2  This is Archie. He is a rare Norwegian Pouncin...                  NaN   \n",
       "3  This is Darla. She commenced a snooze mid meal...                  NaN   \n",
       "4  This is Franklin. He would like you to stop ca...                  NaN   \n",
       "\n",
       "   retweeted_status_user_id retweeted_status_timestamp  \\\n",
       "0                       NaN                        NaN   \n",
       "1                       NaN                        NaN   \n",
       "2                       NaN                        NaN   \n",
       "3                       NaN                        NaN   \n",
       "4                       NaN                        NaN   \n",
       "\n",
       "                                       expanded_urls  rating_numerator  \\\n",
       "0  https://twitter.com/dog_rates/status/892420643...                13   \n",
       "1  https://twitter.com/dog_rates/status/892177421...                13   \n",
       "2  https://twitter.com/dog_rates/status/891815181...                12   \n",
       "3  https://twitter.com/dog_rates/status/891689557...                13   \n",
       "4  https://twitter.com/dog_rates/status/891327558...                12   \n",
       "\n",
       "   rating_denominator      name doggo floofer pupper puppo  \n",
       "0                  10   Phineas  None    None   None  None  \n",
       "1                  10     Tilly  None    None   None  None  \n",
       "2                  10    Archie  None    None   None  None  \n",
       "3                  10     Darla  None    None   None  None  \n",
       "4                  10  Franklin  None    None   None  None  "
      ]
     },
     "execution_count": 87,
     "metadata": {},
     "output_type": "execute_result"
    }
   ],
   "source": [
    "# To display the first five rows of the dataset\n",
    "twt_df.head()"
   ]
  },
  {
   "cell_type": "code",
   "execution_count": 88,
   "id": "f0f074e0",
   "metadata": {},
   "outputs": [
    {
     "name": "stdout",
     "output_type": "stream",
     "text": [
      "<class 'pandas.core.frame.DataFrame'>\n",
      "RangeIndex: 2356 entries, 0 to 2355\n",
      "Data columns (total 17 columns):\n",
      " #   Column                      Non-Null Count  Dtype  \n",
      "---  ------                      --------------  -----  \n",
      " 0   tweet_id                    2356 non-null   int64  \n",
      " 1   in_reply_to_status_id       78 non-null     float64\n",
      " 2   in_reply_to_user_id         78 non-null     float64\n",
      " 3   timestamp                   2356 non-null   object \n",
      " 4   source                      2356 non-null   object \n",
      " 5   text                        2356 non-null   object \n",
      " 6   retweeted_status_id         181 non-null    float64\n",
      " 7   retweeted_status_user_id    181 non-null    float64\n",
      " 8   retweeted_status_timestamp  181 non-null    object \n",
      " 9   expanded_urls               2297 non-null   object \n",
      " 10  rating_numerator            2356 non-null   int64  \n",
      " 11  rating_denominator          2356 non-null   int64  \n",
      " 12  name                        2356 non-null   object \n",
      " 13  doggo                       2356 non-null   object \n",
      " 14  floofer                     2356 non-null   object \n",
      " 15  pupper                      2356 non-null   object \n",
      " 16  puppo                       2356 non-null   object \n",
      "dtypes: float64(4), int64(3), object(10)\n",
      "memory usage: 313.0+ KB\n"
     ]
    }
   ],
   "source": [
    "twt_df.info()"
   ]
  },
  {
   "cell_type": "code",
   "execution_count": 89,
   "id": "8446b377",
   "metadata": {},
   "outputs": [
    {
     "data": {
      "text/html": [
       "<div>\n",
       "<style scoped>\n",
       "    .dataframe tbody tr th:only-of-type {\n",
       "        vertical-align: middle;\n",
       "    }\n",
       "\n",
       "    .dataframe tbody tr th {\n",
       "        vertical-align: top;\n",
       "    }\n",
       "\n",
       "    .dataframe thead th {\n",
       "        text-align: right;\n",
       "    }\n",
       "</style>\n",
       "<table border=\"1\" class=\"dataframe\">\n",
       "  <thead>\n",
       "    <tr style=\"text-align: right;\">\n",
       "      <th></th>\n",
       "      <th>tweet_id</th>\n",
       "      <th>jpg_url</th>\n",
       "      <th>img_num</th>\n",
       "      <th>p1</th>\n",
       "      <th>p1_conf</th>\n",
       "      <th>p1_dog</th>\n",
       "      <th>p2</th>\n",
       "      <th>p2_conf</th>\n",
       "      <th>p2_dog</th>\n",
       "      <th>p3</th>\n",
       "      <th>p3_conf</th>\n",
       "      <th>p3_dog</th>\n",
       "    </tr>\n",
       "  </thead>\n",
       "  <tbody>\n",
       "    <tr>\n",
       "      <th>0</th>\n",
       "      <td>666020888022790149</td>\n",
       "      <td>https://pbs.twimg.com/media/CT4udn0WwAA0aMy.jpg</td>\n",
       "      <td>1</td>\n",
       "      <td>Welsh_springer_spaniel</td>\n",
       "      <td>0.465074</td>\n",
       "      <td>True</td>\n",
       "      <td>collie</td>\n",
       "      <td>0.156665</td>\n",
       "      <td>True</td>\n",
       "      <td>Shetland_sheepdog</td>\n",
       "      <td>0.061428</td>\n",
       "      <td>True</td>\n",
       "    </tr>\n",
       "    <tr>\n",
       "      <th>1</th>\n",
       "      <td>666029285002620928</td>\n",
       "      <td>https://pbs.twimg.com/media/CT42GRgUYAA5iDo.jpg</td>\n",
       "      <td>1</td>\n",
       "      <td>redbone</td>\n",
       "      <td>0.506826</td>\n",
       "      <td>True</td>\n",
       "      <td>miniature_pinscher</td>\n",
       "      <td>0.074192</td>\n",
       "      <td>True</td>\n",
       "      <td>Rhodesian_ridgeback</td>\n",
       "      <td>0.072010</td>\n",
       "      <td>True</td>\n",
       "    </tr>\n",
       "    <tr>\n",
       "      <th>2</th>\n",
       "      <td>666033412701032449</td>\n",
       "      <td>https://pbs.twimg.com/media/CT4521TWwAEvMyu.jpg</td>\n",
       "      <td>1</td>\n",
       "      <td>German_shepherd</td>\n",
       "      <td>0.596461</td>\n",
       "      <td>True</td>\n",
       "      <td>malinois</td>\n",
       "      <td>0.138584</td>\n",
       "      <td>True</td>\n",
       "      <td>bloodhound</td>\n",
       "      <td>0.116197</td>\n",
       "      <td>True</td>\n",
       "    </tr>\n",
       "    <tr>\n",
       "      <th>3</th>\n",
       "      <td>666044226329800704</td>\n",
       "      <td>https://pbs.twimg.com/media/CT5Dr8HUEAA-lEu.jpg</td>\n",
       "      <td>1</td>\n",
       "      <td>Rhodesian_ridgeback</td>\n",
       "      <td>0.408143</td>\n",
       "      <td>True</td>\n",
       "      <td>redbone</td>\n",
       "      <td>0.360687</td>\n",
       "      <td>True</td>\n",
       "      <td>miniature_pinscher</td>\n",
       "      <td>0.222752</td>\n",
       "      <td>True</td>\n",
       "    </tr>\n",
       "    <tr>\n",
       "      <th>4</th>\n",
       "      <td>666049248165822465</td>\n",
       "      <td>https://pbs.twimg.com/media/CT5IQmsXIAAKY4A.jpg</td>\n",
       "      <td>1</td>\n",
       "      <td>miniature_pinscher</td>\n",
       "      <td>0.560311</td>\n",
       "      <td>True</td>\n",
       "      <td>Rottweiler</td>\n",
       "      <td>0.243682</td>\n",
       "      <td>True</td>\n",
       "      <td>Doberman</td>\n",
       "      <td>0.154629</td>\n",
       "      <td>True</td>\n",
       "    </tr>\n",
       "  </tbody>\n",
       "</table>\n",
       "</div>"
      ],
      "text/plain": [
       "             tweet_id                                          jpg_url  \\\n",
       "0  666020888022790149  https://pbs.twimg.com/media/CT4udn0WwAA0aMy.jpg   \n",
       "1  666029285002620928  https://pbs.twimg.com/media/CT42GRgUYAA5iDo.jpg   \n",
       "2  666033412701032449  https://pbs.twimg.com/media/CT4521TWwAEvMyu.jpg   \n",
       "3  666044226329800704  https://pbs.twimg.com/media/CT5Dr8HUEAA-lEu.jpg   \n",
       "4  666049248165822465  https://pbs.twimg.com/media/CT5IQmsXIAAKY4A.jpg   \n",
       "\n",
       "   img_num                      p1   p1_conf  p1_dog                  p2  \\\n",
       "0        1  Welsh_springer_spaniel  0.465074    True              collie   \n",
       "1        1                 redbone  0.506826    True  miniature_pinscher   \n",
       "2        1         German_shepherd  0.596461    True            malinois   \n",
       "3        1     Rhodesian_ridgeback  0.408143    True             redbone   \n",
       "4        1      miniature_pinscher  0.560311    True          Rottweiler   \n",
       "\n",
       "    p2_conf  p2_dog                   p3   p3_conf  p3_dog  \n",
       "0  0.156665    True    Shetland_sheepdog  0.061428    True  \n",
       "1  0.074192    True  Rhodesian_ridgeback  0.072010    True  \n",
       "2  0.138584    True           bloodhound  0.116197    True  \n",
       "3  0.360687    True   miniature_pinscher  0.222752    True  \n",
       "4  0.243682    True             Doberman  0.154629    True  "
      ]
     },
     "execution_count": 89,
     "metadata": {},
     "output_type": "execute_result"
    }
   ],
   "source": [
    "img_pred_df.head()"
   ]
  },
  {
   "cell_type": "code",
   "execution_count": 90,
   "id": "a692cb81",
   "metadata": {},
   "outputs": [
    {
     "name": "stdout",
     "output_type": "stream",
     "text": [
      "<class 'pandas.core.frame.DataFrame'>\n",
      "RangeIndex: 2075 entries, 0 to 2074\n",
      "Data columns (total 12 columns):\n",
      " #   Column    Non-Null Count  Dtype  \n",
      "---  ------    --------------  -----  \n",
      " 0   tweet_id  2075 non-null   int64  \n",
      " 1   jpg_url   2075 non-null   object \n",
      " 2   img_num   2075 non-null   int64  \n",
      " 3   p1        2075 non-null   object \n",
      " 4   p1_conf   2075 non-null   float64\n",
      " 5   p1_dog    2075 non-null   bool   \n",
      " 6   p2        2075 non-null   object \n",
      " 7   p2_conf   2075 non-null   float64\n",
      " 8   p2_dog    2075 non-null   bool   \n",
      " 9   p3        2075 non-null   object \n",
      " 10  p3_conf   2075 non-null   float64\n",
      " 11  p3_dog    2075 non-null   bool   \n",
      "dtypes: bool(3), float64(3), int64(2), object(4)\n",
      "memory usage: 152.1+ KB\n"
     ]
    }
   ],
   "source": [
    "img_pred_df.info()"
   ]
  },
  {
   "cell_type": "code",
   "execution_count": 91,
   "id": "83851881",
   "metadata": {},
   "outputs": [
    {
     "data": {
      "text/html": [
       "<div>\n",
       "<style scoped>\n",
       "    .dataframe tbody tr th:only-of-type {\n",
       "        vertical-align: middle;\n",
       "    }\n",
       "\n",
       "    .dataframe tbody tr th {\n",
       "        vertical-align: top;\n",
       "    }\n",
       "\n",
       "    .dataframe thead th {\n",
       "        text-align: right;\n",
       "    }\n",
       "</style>\n",
       "<table border=\"1\" class=\"dataframe\">\n",
       "  <thead>\n",
       "    <tr style=\"text-align: right;\">\n",
       "      <th></th>\n",
       "      <th>id</th>\n",
       "      <th>retweet_count</th>\n",
       "      <th>favorite_count</th>\n",
       "    </tr>\n",
       "  </thead>\n",
       "  <tbody>\n",
       "    <tr>\n",
       "      <th>0</th>\n",
       "      <td>892420643555336193</td>\n",
       "      <td>8853</td>\n",
       "      <td>39467</td>\n",
       "    </tr>\n",
       "    <tr>\n",
       "      <th>1</th>\n",
       "      <td>892177421306343426</td>\n",
       "      <td>6514</td>\n",
       "      <td>33819</td>\n",
       "    </tr>\n",
       "    <tr>\n",
       "      <th>2</th>\n",
       "      <td>891815181378084864</td>\n",
       "      <td>4328</td>\n",
       "      <td>25461</td>\n",
       "    </tr>\n",
       "    <tr>\n",
       "      <th>3</th>\n",
       "      <td>891689557279858688</td>\n",
       "      <td>8964</td>\n",
       "      <td>42908</td>\n",
       "    </tr>\n",
       "    <tr>\n",
       "      <th>4</th>\n",
       "      <td>891327558926688256</td>\n",
       "      <td>9774</td>\n",
       "      <td>41048</td>\n",
       "    </tr>\n",
       "  </tbody>\n",
       "</table>\n",
       "</div>"
      ],
      "text/plain": [
       "                   id  retweet_count  favorite_count\n",
       "0  892420643555336193           8853           39467\n",
       "1  892177421306343426           6514           33819\n",
       "2  891815181378084864           4328           25461\n",
       "3  891689557279858688           8964           42908\n",
       "4  891327558926688256           9774           41048"
      ]
     },
     "execution_count": 91,
     "metadata": {},
     "output_type": "execute_result"
    }
   ],
   "source": [
    "twt_json_df.head()"
   ]
  },
  {
   "cell_type": "code",
   "execution_count": 92,
   "id": "fd3a028c",
   "metadata": {
    "scrolled": false
   },
   "outputs": [
    {
     "name": "stdout",
     "output_type": "stream",
     "text": [
      "<class 'pandas.core.frame.DataFrame'>\n",
      "RangeIndex: 2354 entries, 0 to 2353\n",
      "Data columns (total 3 columns):\n",
      " #   Column          Non-Null Count  Dtype\n",
      "---  ------          --------------  -----\n",
      " 0   id              2354 non-null   int64\n",
      " 1   retweet_count   2354 non-null   int64\n",
      " 2   favorite_count  2354 non-null   int64\n",
      "dtypes: int64(3)\n",
      "memory usage: 55.3 KB\n"
     ]
    }
   ],
   "source": [
    "twt_json_df.info()"
   ]
  },
  {
   "cell_type": "code",
   "execution_count": 93,
   "id": "41d5a277",
   "metadata": {},
   "outputs": [
    {
     "data": {
      "text/plain": [
       "<a href=\"http://twitter.com/download/iphone\" rel=\"nofollow\">Twitter for iPhone</a>     2221\n",
       "<a href=\"http://vine.co\" rel=\"nofollow\">Vine - Make a Scene</a>                          91\n",
       "<a href=\"http://twitter.com\" rel=\"nofollow\">Twitter Web Client</a>                       33\n",
       "<a href=\"https://about.twitter.com/products/tweetdeck\" rel=\"nofollow\">TweetDeck</a>      11\n",
       "Name: source, dtype: int64"
      ]
     },
     "execution_count": 93,
     "metadata": {},
     "output_type": "execute_result"
    }
   ],
   "source": [
    "# Checking the different tweet source.\n",
    "twt_df.source.value_counts()"
   ]
  },
  {
   "cell_type": "code",
   "execution_count": 94,
   "id": "e4fe0f9a",
   "metadata": {
    "scrolled": true
   },
   "outputs": [
    {
     "data": {
      "text/plain": [
       "array(['Phineas', 'Tilly', 'Archie', 'Darla', 'Franklin', 'None', 'Jax',\n",
       "       'Zoey', 'Cassie', 'Koda', 'Bruno', 'Ted', 'Stuart', 'Oliver',\n",
       "       'Jim', 'Zeke', 'Ralphus', 'Canela', 'Gerald', 'Jeffrey', 'such',\n",
       "       'Maya', 'Mingus', 'Derek', 'Roscoe', 'Waffles', 'Jimbo', 'Maisey',\n",
       "       'Lilly', 'Earl', 'Lola', 'Kevin', 'Yogi', 'Noah', 'Bella',\n",
       "       'Grizzwald', 'Rusty', 'Gus', 'Stanley', 'Alfy', 'Koko', 'Rey',\n",
       "       'Gary', 'a', 'Elliot', 'Louis', 'Jesse', 'Romeo', 'Bailey',\n",
       "       'Duddles', 'Jack', 'Emmy', 'Steven', 'Beau', 'Snoopy', 'Shadow',\n",
       "       'Terrance', 'Aja', 'Penny', 'Dante', 'Nelly', 'Ginger', 'Benedict',\n",
       "       'Venti', 'Goose', 'Nugget', 'Cash', 'Coco', 'Jed', 'Sebastian',\n",
       "       'Walter', 'Sierra', 'Monkey', 'Harry', 'Kody', 'Lassie', 'Rover',\n",
       "       'Napolean', 'Dawn', 'Boomer', 'Cody', 'Rumble', 'Clifford',\n",
       "       'quite', 'Dewey', 'Scout', 'Gizmo', 'Cooper', 'Harold', 'Shikha',\n",
       "       'Jamesy', 'Lili', 'Sammy', 'Meatball', 'Paisley', 'Albus',\n",
       "       'Neptune', 'Quinn', 'Belle', 'Zooey', 'Dave', 'Jersey', 'Hobbes',\n",
       "       'Burt', 'Lorenzo', 'Carl', 'Jordy', 'Milky', 'Trooper', 'Winston',\n",
       "       'Sophie', 'Wyatt', 'Rosie', 'Thor', 'Oscar', 'Luna', 'Callie',\n",
       "       'Cermet', 'George', 'Marlee', 'Arya', 'Einstein', 'Alice',\n",
       "       'Rumpole', 'Benny', 'Aspen', 'Jarod', 'Wiggles', 'General',\n",
       "       'Sailor', 'Astrid', 'Iggy', 'Snoop', 'Kyle', 'Leo', 'Riley',\n",
       "       'Gidget', 'Noosh', 'Odin', 'Jerry', 'Charlie', 'Georgie', 'Rontu',\n",
       "       'Cannon', 'Furzey', 'Daisy', 'Tuck', 'Barney', 'Vixen', 'Jarvis',\n",
       "       'Mimosa', 'Pickles', 'Bungalo', 'Brady', 'Margo', 'Sadie', 'Hank',\n",
       "       'Tycho', 'Stephan', 'Indie', 'Winnie', 'Bentley', 'Ken', 'Max',\n",
       "       'Maddie', 'Pipsy', 'Monty', 'Sojourner', 'Odie', 'Arlo', 'Sunny',\n",
       "       'Vincent', 'Lucy', 'Clark', 'Mookie', 'Meera', 'Buddy', 'Ava',\n",
       "       'Rory', 'Eli', 'Ash', 'Tucker', 'Tobi', 'Chester', 'Wilson',\n",
       "       'Sunshine', 'Lipton', 'Gabby', 'Bronte', 'Poppy', 'Rhino',\n",
       "       'Willow', 'not', 'Orion', 'Eevee', 'Smiley', 'Logan', 'Moreton',\n",
       "       'Klein', 'Miguel', 'Emanuel', 'Kuyu', 'Dutch', 'Pete', 'Scooter',\n",
       "       'Reggie', 'Kyro', 'Samson', 'Loki', 'Mia', 'Malcolm', 'Dexter',\n",
       "       'Alfie', 'Fiona', 'one', 'Mutt', 'Bear', 'Doobert', 'Beebop',\n",
       "       'Alexander', 'Sailer', 'Brutus', 'Kona', 'Boots', 'Ralphie',\n",
       "       'Phil', 'Cupid', 'Pawnd', 'Pilot', 'Ike', 'Mo', 'Toby', 'Sweet',\n",
       "       'Pablo', 'Nala', 'Balto', 'Crawford', 'Gabe', 'Mattie', 'Jimison',\n",
       "       'Hercules', 'Duchess', 'Harlso', 'Sampson', 'Sundance', 'Luca',\n",
       "       'Flash', 'Finn', 'Peaches', 'Howie', 'Jazzy', 'Anna', 'Bo',\n",
       "       'Seamus', 'Wafer', 'Chelsea', 'Tom', 'Moose', 'Florence', 'Autumn',\n",
       "       'Dido', 'Eugene', 'Herschel', 'Strudel', 'Tebow', 'Chloe', 'Betty',\n",
       "       'Timber', 'Binky', 'Dudley', 'Comet', 'Larry', 'Levi', 'Akumi',\n",
       "       'Titan', 'Olivia', 'Alf', 'Oshie', 'Bruce', 'Chubbs', 'Sky',\n",
       "       'Atlas', 'Eleanor', 'Layla', 'Rocky', 'Baron', 'Tyr', 'Bauer',\n",
       "       'Swagger', 'Brandi', 'Mary', 'Moe', 'Halo', 'Augie', 'Craig',\n",
       "       'Sam', 'Hunter', 'Pavlov', 'Maximus', 'Wallace', 'Ito', 'Milo',\n",
       "       'Ollie', 'Cali', 'Lennon', 'incredibly', 'Major', 'Duke',\n",
       "       'Reginald', 'Sansa', 'Shooter', 'Django', 'Diogi', 'Sonny',\n",
       "       'Philbert', 'Marley', 'Severus', 'Ronnie', 'Anakin', 'Bones',\n",
       "       'Mauve', 'Chef', 'Doc', 'Sobe', 'Longfellow', 'Mister', 'Iroh',\n",
       "       'Baloo', 'Stubert', 'Paull', 'Timison', 'Davey', 'Pancake',\n",
       "       'Tyrone', 'Snicku', 'Ruby', 'Brody', 'Rizzy', 'Mack', 'Butter',\n",
       "       'Nimbus', 'Laika', 'Dobby', 'Juno', 'Maude', 'Lily', 'Newt',\n",
       "       'Benji', 'Nida', 'Robin', 'Monster', 'BeBe', 'Remus', 'Mabel',\n",
       "       'Misty', 'Happy', 'Mosby', 'Maggie', 'Leela', 'Ralphy', 'Brownie',\n",
       "       'Meyer', 'Stella', 'mad', 'Frank', 'Tonks', 'Lincoln', 'Oakley',\n",
       "       'Dale', 'Rizzo', 'Arnie', 'Pinot', 'Dallas', 'Hero', 'Frankie',\n",
       "       'Stormy', 'Mairi', 'Loomis', 'Godi', 'Kenny', 'Deacon', 'Timmy',\n",
       "       'Harper', 'Chipson', 'Combo', 'Dash', 'Bell', 'Hurley', 'Jay',\n",
       "       'Mya', 'Strider', 'an', 'Wesley', 'Solomon', 'Huck', 'very', 'O',\n",
       "       'Blue', 'Finley', 'Sprinkles', 'Heinrich', 'Shakespeare', 'Fizz',\n",
       "       'Chip', 'Grey', 'Roosevelt', 'Gromit', 'Willem', 'Dakota', 'Dixie',\n",
       "       'Al', 'Jackson', 'just', 'Carbon', 'DonDon', 'Kirby', 'Lou',\n",
       "       'Nollie', 'Chevy', 'Tito', 'Louie', 'Rupert', 'Rufus', 'Brudge',\n",
       "       'Shadoe', 'Colby', 'Angel', 'Brat', 'Tove', 'my', 'Aubie', 'Kota',\n",
       "       'Eve', 'Glenn', 'Shelby', 'Sephie', 'Bonaparte', 'Albert',\n",
       "       'Wishes', 'Rose', 'Theo', 'Rocco', 'Fido', 'Emma', 'Spencer',\n",
       "       'Lilli', 'Boston', 'Brandonald', 'Corey', 'Leonard', 'Chompsky',\n",
       "       'Beckham', 'Devón', 'Gert', 'Watson', 'Rubio', 'Keith', 'Dex',\n",
       "       'Carly', 'Ace', 'Tayzie', 'Grizzie', 'Fred', 'Gilbert', 'Zoe',\n",
       "       'Stewie', 'Calvin', 'Lilah', 'Spanky', 'Jameson', 'Piper',\n",
       "       'Atticus', 'Blu', 'Dietrich', 'Divine', 'Tripp', 'his', 'Cora',\n",
       "       'Huxley', 'Keurig', 'Bookstore', 'Linus', 'Abby', 'Shaggy',\n",
       "       'Shiloh', 'Gustav', 'Arlen', 'Percy', 'Lenox', 'Sugar', 'Harvey',\n",
       "       'Blanket', 'actually', 'Geno', 'Stark', 'Beya', 'Kilo', 'Kayla',\n",
       "       'Maxaroni', 'Doug', 'Edmund', 'Aqua', 'Theodore', 'Chase',\n",
       "       'getting', 'Rorie', 'Simba', 'Charles', 'Bayley', 'Axel',\n",
       "       'Storkson', 'Remy', 'Chadrick', 'Kellogg', 'Buckley', 'Livvie',\n",
       "       'Terry', 'Hermione', 'Ralpher', 'Aldrick', 'this', 'unacceptable',\n",
       "       'Rooney', 'Crystal', 'Ziva', 'Stefan', 'Pupcasso', 'Puff',\n",
       "       'Flurpson', 'Coleman', 'Enchilada', 'Raymond', 'all', 'Rueben',\n",
       "       'Cilantro', 'Karll', 'Sprout', 'Blitz', 'Bloop', 'Lillie',\n",
       "       'Ashleigh', 'Kreggory', 'Sarge', 'Luther', 'Ivar', 'Jangle',\n",
       "       'Schnitzel', 'Panda', 'Berkeley', 'Ralphé', 'Charleson', 'Clyde',\n",
       "       'Harnold', 'Sid', 'Pippa', 'Otis', 'Carper', 'Bowie',\n",
       "       'Alexanderson', 'Suki', 'Barclay', 'Skittle', 'Ebby', 'Flávio',\n",
       "       'Smokey', 'Link', 'Jennifur', 'Ozzy', 'Bluebert', 'Stephanus',\n",
       "       'Bubbles', 'old', 'Zeus', 'Bertson', 'Nico', 'Michelangelope',\n",
       "       'Siba', 'Calbert', 'Curtis', 'Travis', 'Thumas', 'Kanu', 'Lance',\n",
       "       'Opie', 'Kane', 'Olive', 'Chuckles', 'Staniel', 'Sora', 'Beemo',\n",
       "       'Gunner', 'infuriating', 'Lacy', 'Tater', 'Olaf', 'Cecil', 'Vince',\n",
       "       'Karma', 'Billy', 'Walker', 'Rodney', 'Klevin', 'Malikai',\n",
       "       'Bobble', 'River', 'Jebberson', 'Remington', 'Farfle', 'Jiminus',\n",
       "       'Clarkus', 'Finnegus', 'Cupcake', 'Kathmandu', 'Ellie', 'Katie',\n",
       "       'Kara', 'Adele', 'Zara', 'Ambrose', 'Jimothy', 'Bode', 'Terrenth',\n",
       "       'Reese', 'Chesterson', 'Lucia', 'Bisquick', 'Ralphson', 'Socks',\n",
       "       'Rambo', 'Rudy', 'Fiji', 'Rilo', 'Bilbo', 'Coopson', 'Yoda',\n",
       "       'Millie', 'Chet', 'Crouton', 'Daniel', 'Kaia', 'Murphy', 'Dotsy',\n",
       "       'Eazy', 'Coops', 'Fillup', 'Miley', 'Charl', 'Reagan', 'Yukon',\n",
       "       'CeCe', 'Cuddles', 'Claude', 'Jessiga', 'Carter', 'Ole', 'Pherb',\n",
       "       'Blipson', 'Reptar', 'Trevith', 'Berb', 'Bob', 'Colin', 'Brian',\n",
       "       'Oliviér', 'Grady', 'Kobe', 'Freddery', 'Bodie', 'Dunkin', 'Wally',\n",
       "       'Tupawc', 'Amber', 'Edgar', 'Teddy', 'Kingsley', 'Brockly',\n",
       "       'Richie', 'Molly', 'Vinscent', 'Cedrick', 'Hazel', 'Lolo', 'Eriq',\n",
       "       'Phred', 'the', 'Oddie', 'Maxwell', 'Geoff', 'Covach', 'Durg',\n",
       "       'Fynn', 'Ricky', 'Herald', 'Lucky', 'Ferg', 'Trip', 'Clarence',\n",
       "       'Hamrick', 'Brad', 'Pubert', 'Frönq', 'Derby', 'Lizzie', 'Ember',\n",
       "       'Blakely', 'Opal', 'Marq', 'Kramer', 'Barry', 'Gordon', 'Baxter',\n",
       "       'Mona', 'Horace', 'Crimson', 'Birf', 'Hammond', 'Lorelei', 'Marty',\n",
       "       'Brooks', 'Petrick', 'Hubertson', 'Gerbald', 'Oreo', 'Bruiser',\n",
       "       'Perry', 'Bobby', 'Jeph', 'Obi', 'Tino', 'Kulet', 'Sweets', 'Lupe',\n",
       "       'Tiger', 'Jiminy', 'Griffin', 'Banjo', 'Brandy', 'Lulu', 'Darrel',\n",
       "       'Taco', 'Joey', 'Patrick', 'Kreg', 'Todo', 'Tess', 'Ulysses',\n",
       "       'Toffee', 'Apollo', 'Asher', 'Glacier', 'Chuck', 'Champ', 'Ozzie',\n",
       "       'Griswold', 'Cheesy', 'Moofasa', 'Hector', 'Goliath', 'Kawhi',\n",
       "       'by', 'Emmie', 'Penelope', 'Willie', 'Rinna', 'Mike', 'William',\n",
       "       'Dwight', 'Evy', 'officially', 'Rascal', 'Linda', 'Tug', 'Tango',\n",
       "       'Grizz', 'Jerome', 'Crumpet', 'Jessifer', 'Izzy', 'Ralph', 'Sandy',\n",
       "       'Humphrey', 'Tassy', 'Juckson', 'Chuq', 'Tyrus', 'Karl',\n",
       "       'Godzilla', 'Vinnie', 'Kenneth', 'Herm', 'Bert', 'Striker',\n",
       "       'Donny', 'Pepper', 'Bernie', 'Buddah', 'Lenny', 'Arnold', 'Zuzu',\n",
       "       'Mollie', 'Laela', 'Tedders', 'Superpup', 'Rufio', 'Jeb', 'Rodman',\n",
       "       'Jonah', 'Chesney', 'life', 'Henry', 'Bobbay', 'Mitch', 'Kaiya',\n",
       "       'Acro', 'Aiden', 'Obie', 'Dot', 'Shnuggles', 'Kendall', 'Jeffri',\n",
       "       'Steve', 'Mac', 'Fletcher', 'Kenzie', 'Pumpkin', 'Schnozz',\n",
       "       'Gustaf', 'Cheryl', 'Ed', 'Leonidas', 'Norman', 'Caryl', 'Scott',\n",
       "       'Taz', 'Darby', 'Jackie', 'light', 'Jazz', 'Franq', 'Pippin',\n",
       "       'Rolf', 'Snickers', 'Ridley', 'Cal', 'Bradley', 'Bubba', 'Tuco',\n",
       "       'Patch', 'Mojo', 'Batdog', 'Dylan', 'space', 'Mark', 'JD',\n",
       "       'Alejandro', 'Scruffers', 'Pip', 'Julius', 'Tanner', 'Sparky',\n",
       "       'Anthony', 'Holly', 'Jett', 'Amy', 'Sage', 'Andy', 'Mason',\n",
       "       'Trigger', 'Antony', 'Creg', 'Traviss', 'Gin', 'Jeffrie', 'Danny',\n",
       "       'Ester', 'Pluto', 'Bloo', 'Edd', 'Willy', 'Herb', 'Damon',\n",
       "       'Peanut', 'Nigel', 'Butters', 'Sandra', 'Fabio', 'Randall', 'Liam',\n",
       "       'Tommy', 'Ben', 'Raphael', 'Julio', 'Andru', 'Kloey', 'Shawwn',\n",
       "       'Skye', 'Kollin', 'Ronduh', 'Billl', 'Saydee', 'Dug', 'Tessa',\n",
       "       'Sully', 'Kirk', 'Ralf', 'Clarq', 'Jaspers', 'Samsom', 'Harrison',\n",
       "       'Chaz', 'Jeremy', 'Jaycob', 'Lambeau', 'Ruffles', 'Amélie', 'Bobb',\n",
       "       'Banditt', 'Kevon', 'Winifred', 'Hanz', 'Churlie', 'Zeek',\n",
       "       'Timofy', 'Maks', 'Jomathan', 'Kallie', 'Marvin', 'Spark',\n",
       "       'Gòrdón', 'Jo', 'DayZ', 'Jareld', 'Torque', 'Ron', 'Skittles',\n",
       "       'Cleopatricia', 'Erik', 'Stu', 'Tedrick', 'Filup', 'Kial',\n",
       "       'Naphaniel', 'Dook', 'Hall', 'Philippe', 'Biden', 'Fwed',\n",
       "       'Genevieve', 'Joshwa', 'Bradlay', 'Clybe', 'Keet', 'Carll',\n",
       "       'Jockson', 'Josep', 'Lugan', 'Christoper'], dtype=object)"
      ]
     },
     "execution_count": 94,
     "metadata": {},
     "output_type": "execute_result"
    }
   ],
   "source": [
    "#Checking for unique dog names. \n",
    "twt_df.name.unique()"
   ]
  },
  {
   "cell_type": "markdown",
   "id": "31cc1aba",
   "metadata": {},
   "source": [
    "##### Observation\n",
    "> It was observrd that during the extraction of the dataset some dog name's are wrongly extracted. Words such as ( a, one, by, an, my etc.) were included. The next line of codes are used to check for the full contents from which these wrong names are extracted from, to see if there is a correct name in the content."
   ]
  },
  {
   "cell_type": "code",
   "execution_count": 95,
   "id": "6512843c",
   "metadata": {},
   "outputs": [
    {
     "name": "stdout",
     "output_type": "stream",
     "text": [
      "There's going to be a dog terminal at JFK Airport. This is not a drill. 10/10  \n",
      "https://t.co/dp5h9bCwU7\n",
      "----------\n",
      "What jokester sent in a pic without a dog in it? This is not @rock_rates. This is @dog_rates. Thank you ...10/10 https://t.co/nDPaYHrtNX\n"
     ]
    }
   ],
   "source": [
    "error_name=twt_df[twt_df.name=='not'].text\n",
    "text_sample_size = error_name.size - 1\n",
    "for i, entry in enumerate(error_name):\n",
    "    print(entry)\n",
    "    if i != text_sample_size:\n",
    "        print('----------')"
   ]
  },
  {
   "cell_type": "markdown",
   "id": "b87b4b68",
   "metadata": {},
   "source": [
    "###### Observation\n",
    "> It was observed that dog with **'not'** as name is invalid. Therefore, I decided to put a null value in the name."
   ]
  },
  {
   "cell_type": "code",
   "execution_count": 96,
   "id": "7de08a39",
   "metadata": {},
   "outputs": [
    {
     "name": "stdout",
     "output_type": "stream",
     "text": [
      "I've yet to rate a Venezuelan Hover Wiener. This is such an honor. 14/10 paw-inspiring af (IG: roxy.thedoxy) https://t.co/20VrLAA8ba\n"
     ]
    }
   ],
   "source": [
    "error_name=twt_df[twt_df.name=='such'].text\n",
    "text_sample_size = error_name.size - 1\n",
    "for i, entry in enumerate(error_name):\n",
    "    print(entry)\n",
    "    if i != text_sample_size:\n",
    "        print('----------')"
   ]
  },
  {
   "cell_type": "markdown",
   "id": "5836bfd8",
   "metadata": {},
   "source": [
    "###### Observation\n",
    "> It was observed that dog with **'such'** as name is invalid. Therefore, I decided to put a null value in the name."
   ]
  },
  {
   "cell_type": "code",
   "execution_count": 97,
   "id": "00edd59e",
   "metadata": {
    "scrolled": true
   },
   "outputs": [
    {
     "name": "stdout",
     "output_type": "stream",
     "text": [
      "Here is a pupper approaching maximum borkdrive. Zooming at never before seen speeds. 14/10 paw-inspiring af \n",
      "(IG: puffie_the_chow) https://t.co/ghXBIIeQZF\n",
      "----------\n",
      "Here is a perfect example of someone who has their priorities in order. 13/10 for both owner and Forrest https://t.co/LRyMrU7Wfq\n",
      "----------\n",
      "Guys this is getting so out of hand. We only rate dogs. This is a Galapagos Speed Panda. Pls only send dogs... 10/10 https://t.co/8lpAGaZRFn\n",
      "----------\n",
      "This is a mighty rare blue-tailed hammer sherk. Human almost lost a limb trying to take these. Be careful guys. 8/10 https://t.co/TGenMeXreW\n",
      "----------\n",
      "Viewer discretion is advised. This is a terrible attack in progress. Not even in water (tragic af). 4/10 bad sherk https://t.co/L3U0j14N5R\n",
      "----------\n",
      "This is a carrot. We only rate dogs. Please only send in dogs. You all really should know this by now ...11/10 https://t.co/9e48aPrBm2\n",
      "----------\n",
      "This is a very rare Great Alaskan Bush Pupper. Hard to stumble upon without spooking. 12/10 would pet passionately https://t.co/xOBKCdpzaa\n",
      "----------\n",
      "People please. This is a Deadly Mediterranean Plop T-Rex. We only rate dogs. Only send in dogs. Thanks you... 11/10 https://t.co/2ATDsgHD4n\n",
      "----------\n",
      "This is a taco. We only rate dogs. Please only send in dogs. Dogs are what we rate. Not tacos. Thank you... 10/10 https://t.co/cxl6xGY8B9\n",
      "----------\n",
      "Here is a heartbreaking scene of an incredible pupper being laid to rest. 10/10 RIP pupper https://t.co/81mvJ0rGRu\n",
      "----------\n",
      "Here is a whole flock of puppers.  60/50 I'll take the lot https://t.co/9dpcw6MdWa\n",
      "----------\n",
      "This is a Butternut Cumberfloof. It's not windy they just look like that. 11/10 back at it again with the red socks https://t.co/hMjzhdUHaW\n",
      "----------\n",
      "This is a Wild Tuscan Poofwiggle. Careful not to startle. Rare tongue slip. One eye magical. 12/10 would def pet https://t.co/4EnShAQjv6\n",
      "----------\n",
      "\"Pupper is a present to world. Here is a bow for pupper.\" 12/10 precious as hell https://t.co/ItSsE92gCW\n",
      "----------\n",
      "This is a rare Arctic Wubberfloof. Unamused by the happenings. No longer has the appetites. 12/10 would totally hug https://t.co/krvbacIX0N\n",
      "----------\n",
      "Guys this really needs to stop. We've been over this way too many times. This is a giraffe. We only rate dogs.. 7/10 https://t.co/yavgkHYPOC\n",
      "----------\n",
      "This is a dog swinging. I really enjoyed it so I hope you all do as well. 11/10 https://t.co/Ozo9KHTRND\n",
      "----------\n",
      "This is a Sizzlin Menorah spaniel from Brooklyn named Wylie. Lovable eyes. Chiller as hell. 10/10 and I'm out.. poof https://t.co/7E0AiJXPmI\n",
      "----------\n",
      "Seriously guys?! Only send in dogs. I only rate dogs. This is a baby black bear... 11/10 https://t.co/H7kpabTfLj\n",
      "----------\n",
      "C'mon guys. We've been over this. We only rate dogs. This is a cow. Please only submit dogs. Thank you...... 9/10 https://t.co/WjcELNEqN2\n",
      "----------\n",
      "This is a fluffy albino Bacardi Columbia mix. Excellent at the tweets. 11/10 would hug gently https://t.co/diboDRUuEI\n",
      "----------\n",
      "This is a Sagitariot Baklava mix. Loves her new hat. 11/10 radiant pup https://t.co/Bko5kFJYUU\n",
      "----------\n",
      "This is a heavily opinionated dog. Loves walls. Nobody knows how the hair works. Always ready for a kiss. 4/10 https://t.co/dFiaKZ9cDl\n",
      "----------\n",
      "This is a Lofted Aphrodisiac Terrier named Kip. Big fan of bed n breakfasts. Fits perfectly. 10/10 would pet firmly https://t.co/gKlLpNzIl3\n",
      "----------\n",
      "This is a baby Rand Paul. Curls for days. 11/10 would cuddle the hell out of https://t.co/xHXNaPAYRe\n",
      "----------\n",
      "This is a Tuscaloosa Alcatraz named Jacob (Yacōb). Loves to sit in swing. Stellar tongue. 11/10 look at his feet https://t.co/2IslQ8ZSc7\n",
      "----------\n",
      "This is a Helvetica Listerine named Rufus. This time Rufus will be ready for the UPS guy. He'll never expect it 9/10 https://t.co/34OhVhMkVr\n",
      "----------\n",
      "This is a Deciduous Trimester mix named Spork. Only 1 ear works. No seat belt. Incredibly reckless. 9/10 still cute https://t.co/CtuJoLHiDo\n",
      "----------\n",
      "This is a Rich Mahogany Seltzer named Cherokee. Just got destroyed by a snowball. Isn't very happy about it. 9/10 https://t.co/98ZBi6o4dj\n",
      "----------\n",
      "This is a Speckled Cauliflower Yosemite named Hemry. He's terrified of intruder dog. Not one bit comfortable. 9/10 https://t.co/yV3Qgjh8iN\n",
      "----------\n",
      "This is a spotted Lipitor Rumpelstiltskin named Alphred. He can't wait for the Turkey. 10/10 would pet really well https://t.co/6GUGO7azNX\n",
      "----------\n",
      "This is a brave dog. Excellent free climber. Trying to get closer to God. Not very loyal though. Doesn't bark. 5/10 https://t.co/ODnILTr4QM\n",
      "----------\n",
      "This is a Coriander Baton Rouge named Alfredo. Loves to cuddle with smaller well-dressed dog. 10/10 would hug lots https://t.co/eCRdwouKCl\n",
      "----------\n",
      "This is a Slovakian Helter Skelter Feta named Leroi. Likes to skip on roofs. Good traction. Much balance. 10/10 wow! https://t.co/Dmy2mY2Qj5\n",
      "----------\n",
      "This is a wild Toblerone from Papua New Guinea. Mouth always open. Addicted to hay. Acts blind. 7/10 handsome dog https://t.co/IGmVbz07tZ\n",
      "----------\n",
      "Here is a horned dog. Much grace. Can jump over moons (dam!). Paws not soft. Bad at barking. 7/10 can still pet tho https://t.co/2Su7gmsnZm\n",
      "----------\n",
      "This is a Birmingham Quagmire named Chuk. Loves to relax and watch the game while sippin on that iced mocha. 10/10 https://t.co/HvNg9JWxFt\n",
      "----------\n",
      "Here is a mother dog caring for her pups. Snazzy red mohawk. Doesn't wag tail. Pups look confused. Overall 4/10 https://t.co/YOHe6lf09m\n",
      "----------\n",
      "This is a Trans Siberian Kellogg named Alfonso. Huge ass eyeballs. Actually Dobby from Harry Potter. 7/10 https://t.co/XpseHBlAAb\n",
      "----------\n",
      "This is a Shotokon Macadamia mix named Cheryl. Sophisticated af. Looks like a disappointed librarian. Shh (lol) 9/10 https://t.co/J4GnJ5Swba\n",
      "----------\n",
      "This is a rare Hungarian Pinot named Jessiga. She is either mid-stroke or got stuck in the washing machine. 8/10 https://t.co/ZU0i0KJyqD\n",
      "----------\n",
      "This is a southwest Coriander named Klint. Hat looks expensive. Still on house arrest :(\n",
      "9/10 https://t.co/IQTOMqDUIe\n",
      "----------\n",
      "This is a northern Wahoo named Kohl. He runs this town. Chases tumbleweeds. Draws gun wicked fast. 11/10 legendary https://t.co/J4vn2rOYFk\n",
      "----------\n",
      "This is a Dasani Kingfisher from Maine. His name is Daryl. Daryl doesn't like being swallowed by a panda. 8/10 https://t.co/jpaeu6LNmW\n",
      "----------\n",
      "This is a curly Ticonderoga named Pepe. No feet. Loves to jet ski. 11/10 would hug until forever https://t.co/cyDfaK8NBc\n",
      "----------\n",
      "This is a purebred Bacardi named Octaviath. Can shoot spaghetti out of mouth. 10/10 https://t.co/uEvsGLOFHa\n",
      "----------\n",
      "This is a golden Buckminsterfullerene named Johm. Drives trucks. Lumberjack (?). Enjoys wall. 8/10 would hug softly https://t.co/uQbZJM2DQB\n",
      "----------\n",
      "This is a southern Vesuvius bumblegruff. Can drive a truck (wow). Made friends with 5 other nifty dogs (neat). 7/10 https://t.co/LopTBkKa8h\n",
      "----------\n",
      "This is a funny dog. Weird toes. Won't come down. Loves branch. Refuses to eat his food. Hard to cuddle with. 3/10 https://t.co/IIXis0zta0\n",
      "----------\n",
      "My oh my. This is a rare blond Canadian terrier on wheels. Only $8.98. Rather docile. 9/10 very rare https://t.co/yWBqbrzy8O\n",
      "----------\n",
      "Here is a Siberian heavily armored polar bear mix. Strong owner. 10/10 I would do unspeakable things to pet this dog https://t.co/rdivxLiqEt\n",
      "----------\n",
      "This is a truly beautiful English Wilson Staff retriever. Has a nice phone. Privileged. 10/10 would trade lives with https://t.co/fvIbQfHjIe\n",
      "----------\n",
      "This is a purebred Piers Morgan. Loves to Netflix and chill. Always looks like he forgot to unplug the iron. 6/10 https://t.co/DWnyCjf2mx\n",
      "----------\n",
      "Here is a very happy pup. Big fan of well-maintained decks. Just look at that tongue. 9/10 would cuddle af https://t.co/y671yMhoiR\n",
      "----------\n",
      "This is a western brown Mitsubishi terrier. Upset about leaf. Actually 2 dogs here. 7/10 would walk the shit out of https://t.co/r7mOb2m0UI\n"
     ]
    }
   ],
   "source": [
    "error_name=twt_df[twt_df.name=='a'].text\n",
    "text_sample_size = error_name.size - 1\n",
    "for i, entry in enumerate(error_name):\n",
    "    print(entry)\n",
    "    if i != text_sample_size:\n",
    "        print('----------')"
   ]
  },
  {
   "cell_type": "markdown",
   "id": "b50407c1",
   "metadata": {},
   "source": [
    "###### Observation\n",
    "> It was observed that dogs with **'a'** as name are invalid. Therefore, I decided to put a null value in the name."
   ]
  },
  {
   "cell_type": "code",
   "execution_count": 98,
   "id": "2128b929",
   "metadata": {},
   "outputs": [
    {
     "name": "stdout",
     "output_type": "stream",
     "text": [
      "Occasionally, we're sent fantastic stories. This is one of them. 14/10 for Grace https://t.co/bZ4axuH6OK\n",
      "----------\n",
      "This is one of the most inspirational stories I've ever come across. I have no words. 14/10 for both doggo and owner https://t.co/I5ld3eKD5k\n",
      "----------\n",
      "This is one of the most reckless puppers I've ever seen. How she got a license in the first place is beyond me. 6/10 https://t.co/z5bAdtn9kd\n",
      "----------\n",
      "This is one esteemed pupper. Just graduated college. 10/10 what a champ https://t.co/nyReCVRiyd\n"
     ]
    }
   ],
   "source": [
    "error_name=twt_df[twt_df.name=='one'].text\n",
    "text_sample_size = error_name.size - 1\n",
    "for i, entry in enumerate(error_name):\n",
    "    print(entry)\n",
    "    if i != text_sample_size:\n",
    "        print('----------')"
   ]
  },
  {
   "cell_type": "markdown",
   "id": "50ab6207",
   "metadata": {},
   "source": [
    "###### Observation\n",
    "> It was observed that dogs with **'one'** as name are invalid. Therefore, I decided to put a null value in the name."
   ]
  },
  {
   "cell_type": "code",
   "execution_count": 99,
   "id": "7b76830a",
   "metadata": {
    "scrolled": true
   },
   "outputs": [
    {
     "name": "stdout",
     "output_type": "stream",
     "text": [
      "This is by far the most coordinated series of pictures I was sent. Downright impressive in every way. 12/10 for all https://t.co/etzLo3sdZE\n"
     ]
    }
   ],
   "source": [
    "error_name=twt_df[twt_df.name=='by'].text\n",
    "for i, entry in enumerate(error_name):\n",
    "    print(entry)"
   ]
  },
  {
   "cell_type": "markdown",
   "id": "9d8bffd7",
   "metadata": {},
   "source": [
    "###### Observation\n",
    "> It was observed that dog with **'by'** as names is invalid. Therefore, I decided to put a null value in the name."
   ]
  },
  {
   "cell_type": "code",
   "execution_count": 100,
   "id": "ea94c22c",
   "metadata": {
    "scrolled": true
   },
   "outputs": [
    {
     "name": "stdout",
     "output_type": "stream",
     "text": [
      "This is my dog. Her name is Zoey. She knows I've been rating other dogs. She's not happy. 13/10 no bias at all https://t.co/ep1NkYoiwB\n"
     ]
    }
   ],
   "source": [
    "error_name=twt_df[twt_df.name=='my'].text\n",
    "text_sample_size = error_name.size - 1\n",
    "for i, entry in enumerate(error_name):\n",
    "    print(entry)\n",
    "    if i != text_sample_size:\n",
    "        print('----------')"
   ]
  },
  {
   "cell_type": "markdown",
   "id": "4594c231",
   "metadata": {},
   "source": [
    "###### Observation\n",
    "> It was observed that dog with **'my'** as name is invalid. Therefore, I decided to input the correct name which is Zoey."
   ]
  },
  {
   "cell_type": "code",
   "execution_count": 101,
   "id": "fecb26ff",
   "metadata": {
    "scrolled": true
   },
   "outputs": [
    {
     "name": "stdout",
     "output_type": "stream",
     "text": [
      "This is O'Malley. That is how he sleeps. Doesn't care what you think about it. 10/10 comfy af https://t.co/Pq150LeRaC\n"
     ]
    }
   ],
   "source": [
    "error_name=twt_df[twt_df.name=='O'].text\n",
    "for i, entry in enumerate(error_name):\n",
    "    print(entry)"
   ]
  },
  {
   "cell_type": "markdown",
   "id": "a19beea2",
   "metadata": {},
   "source": [
    "###### Observation\n",
    "> It was observed that dog with **'O'** as name is valid but incomplete. Therefore, I decided to input the complete name."
   ]
  },
  {
   "cell_type": "code",
   "execution_count": 102,
   "id": "98757cd8",
   "metadata": {
    "scrolled": true
   },
   "outputs": [
    {
     "name": "stdout",
     "output_type": "stream",
     "text": [
      "This is life-changing. 12/10 https://t.co/SroTpI6psB\n"
     ]
    }
   ],
   "source": [
    "error_name=twt_df[twt_df.name=='life'].text\n",
    "for i, entry in enumerate(error_name):\n",
    "    print(entry)"
   ]
  },
  {
   "cell_type": "markdown",
   "id": "12069ca8",
   "metadata": {},
   "source": [
    "###### Observation\n",
    "> It was observed that dog with **'life'** as names is invalid. Therefore, I decided to put a null value in the name."
   ]
  },
  {
   "cell_type": "code",
   "execution_count": 103,
   "id": "2a4505eb",
   "metadata": {
    "scrolled": false
   },
   "outputs": [
    {
     "name": "stdout",
     "output_type": "stream",
     "text": [
      "Meet Al Cabone. He's a gangsta puppa. Rather h*ckin ruthless. Shows no mercy sometimes. 11/10 pet w extreme caution https://t.co/OUwWbEKOUV\n"
     ]
    }
   ],
   "source": [
    "error_name=twt_df[twt_df.name=='Al'].text\n",
    "for i, entry in enumerate(error_name):\n",
    "    print(entry)"
   ]
  },
  {
   "cell_type": "markdown",
   "id": "2bceaba8",
   "metadata": {},
   "source": [
    "###### Observation\n",
    "> It was observed that dog with **'Al'** as name is valid but imcomplete. Therefore, I decided to input the complete name."
   ]
  },
  {
   "cell_type": "code",
   "execution_count": 104,
   "id": "f05a87f3",
   "metadata": {
    "scrolled": true
   },
   "outputs": [
    {
     "name": "stdout",
     "output_type": "stream",
     "text": [
      "This is all I want in my life. 12/10 for super sleepy pupper https://t.co/4RlLA5ObMh\n"
     ]
    }
   ],
   "source": [
    "error_name=twt_df[twt_df.name=='all'].text\n",
    "for i, entry in enumerate(error_name):\n",
    "    print(entry)"
   ]
  },
  {
   "cell_type": "markdown",
   "id": "e507224e",
   "metadata": {},
   "source": [
    "###### Observation\n",
    "> It was observed that dog with **'all'** as name is invalid. Therefore, I decided to put a null value in the name."
   ]
  },
  {
   "cell_type": "code",
   "execution_count": 105,
   "id": "a8b3f16b",
   "metadata": {
    "scrolled": true
   },
   "outputs": [
    {
     "name": "stdout",
     "output_type": "stream",
     "text": [
      "RT @dog_rates: This is an East African Chalupa Seal. We only rate dogs. Please only send in dogs. Thank you... 10/10 https://t.co/iHe6liLwWR\n",
      "----------\n",
      "This is an Iraqi Speed Kangaroo. It is not a dog. Please only send in dogs. I'm very angry with all of you ...9/10 https://t.co/5qpBTTpgUt\n",
      "----------\n",
      "This is an East African Chalupa Seal. We only rate dogs. Please only send in dogs. Thank you... 10/10 https://t.co/iHe6liLwWR\n",
      "----------\n",
      "This is an Irish Rigatoni terrier named Berta. Completely made of rope. No eyes. Quite large. Loves to dance. 10/10 https://t.co/EM5fDykrJg\n",
      "----------\n",
      "This is an extremely rare horned Parthenon. Not amused. Wears shoes. Overall very nice. 9/10 would pet aggressively https://t.co/QpRjllzWAL\n",
      "----------\n",
      "This is an Albanian 3 1/2 legged  Episcopalian. Loves well-polished hardwood flooring. Penis on the collar. 9/10 https://t.co/d9NcXFKwLv\n",
      "----------\n",
      "This is an odd dog. Hard on the outside but loving on the inside. Petting still fun. Doesn't play catch well. 2/10 https://t.co/v5A4vzSDdc\n"
     ]
    }
   ],
   "source": [
    "error_name=twt_df[twt_df.name=='an'].text\n",
    "text_sample_size = error_name.size - 1\n",
    "for i, entry in enumerate(error_name):\n",
    "    print(entry)\n",
    "    if i != text_sample_size:\n",
    "        print('----------')"
   ]
  },
  {
   "cell_type": "markdown",
   "id": "4671b5c9",
   "metadata": {},
   "source": [
    "###### Observation\n",
    "> It was observed that dogs with **'an'** as name are invalid. Therefore, I decided to put a null value in the name."
   ]
  },
  {
   "cell_type": "code",
   "execution_count": 106,
   "id": "f0713220",
   "metadata": {
    "scrolled": true
   },
   "outputs": [
    {
     "name": "stdout",
     "output_type": "stream",
     "text": [
      "This is Dot. He found out you only pretended to throw the ball that one time. You don't fuck with Dot. 8/10 https://t.co/Ymg4fwKlZd\n"
     ]
    }
   ],
   "source": [
    "error_name=twt_df[twt_df.name=='Dot'].text\n",
    "for i, entry in enumerate(error_name):\n",
    "    print(entry)"
   ]
  },
  {
   "cell_type": "markdown",
   "id": "28624733",
   "metadata": {},
   "source": [
    "###### Observation\n",
    "> It was observed that dog with **'Dot'** as name is valid. Therefore, I decided retain the name Dot."
   ]
  },
  {
   "cell_type": "code",
   "execution_count": 107,
   "id": "3df6e7d6",
   "metadata": {
    "scrolled": false
   },
   "outputs": [
    {
     "name": "stdout",
     "output_type": "stream",
     "text": [
      "Stop sending in lobsters. This is the final warning. We only rate dogs. Thank you... 9/10 https://t.co/B9ZXXKJYNx\n",
      "----------\n",
      "This is the newly formed pupper a capella group. They're just starting out but I see tons of potential. 8/10 for all https://t.co/wbAcvFoNtn\n",
      "----------\n",
      "This is the happiest pupper I've ever seen. 10/10 would trade lives with https://t.co/ep8ATEJwRb\n",
      "----------\n",
      "This is the saddest/sweetest/best picture I've been sent. 12/10 😢🐶 https://t.co/vQ2Lw1BLBF\n",
      "----------\n",
      "This is the best thing I've ever seen so spread it like wildfire &amp; maybe we'll find the genius who created it. 13/10 https://t.co/q6RsuOVYwU\n",
      "----------\n",
      "Never forget this vine. You will not stop watching for at least 15 minutes. This is the second coveted.. 13/10 https://t.co/roqIxCvEB3\n",
      "----------\n",
      "This is the happiest dog you will ever see. Very committed owner. Nice couch. 10/10 https://t.co/RhUEAloehK\n",
      "----------\n",
      "Here is the Rand Paul of retrievers folks! He's probably good at poker. Can drink beer (lol rad). 8/10 good dog https://t.co/pYAJkAe76p\n"
     ]
    }
   ],
   "source": [
    "error_name=twt_df[twt_df.name=='the'].text\n",
    "text_sample_size = error_name.size - 1\n",
    "for i, entry in enumerate(error_name):\n",
    "    print(entry)\n",
    "    if i != text_sample_size:\n",
    "        print('----------')"
   ]
  },
  {
   "cell_type": "markdown",
   "id": "8eb59a0d",
   "metadata": {},
   "source": [
    "###### Observation\n",
    "> It was observed that dogs with **'the'** as name are invalid. Therefore, I decided to put a null value in the name."
   ]
  },
  {
   "cell_type": "code",
   "execution_count": 108,
   "id": "2d9a8a79",
   "metadata": {
    "scrolled": true
   },
   "outputs": [
    {
     "name": "stdout",
     "output_type": "stream",
     "text": [
      "This is old now but it's absolutely heckin fantastic and I can't not share it with you all. 13/10  https://t.co/wJX74TSgzP\n"
     ]
    }
   ],
   "source": [
    "error_name=twt_df[twt_df.name=='old'].text\n",
    "text_sample_size = error_name.size - 1\n",
    "for i, entry in enumerate(error_name):\n",
    "    print(entry)\n",
    "    if i != text_sample_size:\n",
    "        print('----------')"
   ]
  },
  {
   "cell_type": "markdown",
   "id": "0ec9fe81",
   "metadata": {},
   "source": [
    "###### Observation\n",
    "> It was observed that dog with **'old'** as name is invalid. Therefore, I decided to put a null value in the name."
   ]
  },
  {
   "cell_type": "code",
   "execution_count": 109,
   "id": "7b8d2ad7",
   "metadata": {},
   "outputs": [
    {
     "name": "stdout",
     "output_type": "stream",
     "text": [
      "This is actually a pupper and I'd pet it so well. 12/10\n",
      "https://t.co/RNqS7C4Y4N\n",
      "----------\n",
      "This is actually a lion. We only rate dogs. For the last time please only send dogs. Thank u.\n",
      "12/10 would still pet https://t.co/Pp26dMQxap\n"
     ]
    }
   ],
   "source": [
    "error_name=twt_df[twt_df.name=='actually'].text\n",
    "text_sample_size = error_name.size - 1\n",
    "for i, entry in enumerate(error_name):\n",
    "    print(entry)\n",
    "    if i != text_sample_size:\n",
    "        print('----------')"
   ]
  },
  {
   "cell_type": "markdown",
   "id": "0ebce470",
   "metadata": {},
   "source": [
    "###### Observation\n",
    "> It was observed that dogs with **'actually'** as name are invalid. Therefore, I decided to put a null value in the name."
   ]
  },
  {
   "cell_type": "code",
   "execution_count": 110,
   "id": "b0a4976d",
   "metadata": {},
   "outputs": [
    {
     "name": "stdout",
     "output_type": "stream",
     "text": [
      "This is getting incredibly frustrating. This is a Mexican Golden Beaver. We only rate dogs. Only send dogs ...10/10 https://t.co/0yolOOyD3X\n",
      "----------\n",
      "Please stop sending in saber-toothed tigers. This is getting ridiculous. We only rate dogs.\n",
      "...8/10 https://t.co/iAeQNueou8\n"
     ]
    }
   ],
   "source": [
    "error_name=twt_df[twt_df.name=='getting'].text\n",
    "text_sample_size = error_name.size - 1\n",
    "for i, entry in enumerate(error_name):\n",
    "    print(entry)\n",
    "    if i != text_sample_size:\n",
    "        print('----------')"
   ]
  },
  {
   "cell_type": "markdown",
   "id": "b884fe71",
   "metadata": {},
   "source": [
    "###### Observation\n",
    "> It was observed that dogs with **'getting'** as name are not dogs. Therefore, I decided delete them."
   ]
  },
  {
   "cell_type": "code",
   "execution_count": 111,
   "id": "69bbaba5",
   "metadata": {
    "scrolled": true
   },
   "outputs": [
    {
     "name": "stdout",
     "output_type": "stream",
     "text": [
      "RT @dog_rates: We only rate dogs. This is quite clearly a smol broken polar bear. We'd appreciate if you only send dogs. Thank you... 12/10…\n",
      "----------\n",
      "We only rate dogs. This is quite clearly a smol broken polar bear. We'd appreciate if you only send dogs. Thank you... 12/10 https://t.co/g2nSyGenG9\n",
      "----------\n",
      "Guys, we only rate dogs. This is quite clearly a bulbasaur. Please only send dogs. Thank you... 12/10 human used pet, it's super effective https://t.co/Xc7uj1C64x\n",
      "----------\n",
      "This is quite the dog. Gets really excited when not in water. Not very soft tho. Bad at fetch. Can't do tricks. 2/10 https://t.co/aMCTNWO94t\n"
     ]
    }
   ],
   "source": [
    "error_name=twt_df[twt_df.name=='quite'].text\n",
    "text_sample_size = error_name.size - 1\n",
    "for i, entry in enumerate(error_name):\n",
    "    print(entry)\n",
    "    if i != text_sample_size:\n",
    "        print('----------')"
   ]
  },
  {
   "cell_type": "markdown",
   "id": "9a0e725c",
   "metadata": {},
   "source": [
    "###### Observation\n",
    "> It was observed that dogs with **'quite'** as name are invalid. Therefore, I decided to put a null value in the name."
   ]
  },
  {
   "cell_type": "code",
   "execution_count": 112,
   "id": "a184b6ea",
   "metadata": {
    "scrolled": true
   },
   "outputs": [
    {
     "name": "stdout",
     "output_type": "stream",
     "text": [
      "That is Quizno. This is his beach. He does not tolerate human shenanigans on his beach. 10/10 reclaim ur land doggo https://t.co/vdr7DaRSa7\n"
     ]
    }
   ],
   "source": [
    "error_name=twt_df[twt_df.name=='his'].text\n",
    "text_sample_size = error_name.size - 1\n",
    "for i, entry in enumerate(error_name):\n",
    "    print(entry)\n",
    "    if i != text_sample_size:\n",
    "        print('----------')"
   ]
  },
  {
   "cell_type": "markdown",
   "id": "d3a3ee70",
   "metadata": {},
   "source": [
    "###### Observation\n",
    "> It was observed that dog with **'his'** as name is Quizno. Therefore, I decided to put the real name."
   ]
  },
  {
   "cell_type": "code",
   "execution_count": 113,
   "id": "049d3d4d",
   "metadata": {},
   "outputs": [
    {
     "name": "stdout",
     "output_type": "stream",
     "text": [
      "Say hello to this unbelievably well behaved squad of doggos. 204/170 would try to pet all at once https://t.co/yGQI3He3xv\n"
     ]
    }
   ],
   "source": [
    "error_name=twt_df[twt_df.name=='this'].text\n",
    "text_sample_size = error_name.size - 1\n",
    "for i, entry in enumerate(error_name):\n",
    "    print(entry)\n",
    "    if i != text_sample_size:\n",
    "        print('----------')"
   ]
  },
  {
   "cell_type": "markdown",
   "id": "10bd19ea",
   "metadata": {},
   "source": [
    "###### Observation\n",
    "> It was observed that dog with **'this'** as name is invalid. Therefore, I decided to put a null value in the name."
   ]
  },
  {
   "cell_type": "code",
   "execution_count": 114,
   "id": "a2606119",
   "metadata": {
    "scrolled": true
   },
   "outputs": [
    {
     "data": {
      "text/plain": [
       "10     2333\n",
       "11        3\n",
       "50        3\n",
       "20        2\n",
       "80        2\n",
       "70        1\n",
       "7         1\n",
       "15        1\n",
       "150       1\n",
       "170       1\n",
       "0         1\n",
       "90        1\n",
       "40        1\n",
       "130       1\n",
       "110       1\n",
       "16        1\n",
       "120       1\n",
       "2         1\n",
       "Name: rating_denominator, dtype: int64"
      ]
     },
     "execution_count": 114,
     "metadata": {},
     "output_type": "execute_result"
    }
   ],
   "source": [
    "#Checking the unique denominator rating.\n",
    "twt_df.rating_denominator.value_counts()"
   ]
  },
  {
   "cell_type": "markdown",
   "id": "050de47e",
   "metadata": {},
   "source": [
    "###### Observation\n",
    "> According to the research motivation, the denominator rating is not expected to be more than 10. Therefore, I will change all values to 10."
   ]
  },
  {
   "cell_type": "code",
   "execution_count": 115,
   "id": "b3ab67fc",
   "metadata": {
    "scrolled": true
   },
   "outputs": [
    {
     "name": "stdout",
     "output_type": "stream",
     "text": [
      "This... is a Jubilant Antarctic House Bear. We only rate dogs. Please only send dogs. Thank you... 12/10 would suffocate in floof https://t.co/4Ad1jzJSdp\n",
      "----------\n",
      "Please only send dogs. We don't rate mechanics, no matter how h*ckin good. Thank you... 13/10 would sneak a pat https://t.co/Se5fZ9wp5E\n",
      "----------\n",
      "Ugh not again. We only rate dogs. Please don't send in well-dressed  floppy-tongued street penguins. Dogs only please. Thank you... 12/10 https://t.co/WiAMbTkDPf\n",
      "----------\n",
      "I can't believe this keeps happening. This, is a birb taking a bath. We only rate dogs. Please only send dogs. Thank you... 12/10 https://t.co/pwY9PQhtP2\n",
      "----------\n",
      "RT @dog_rates: We only rate dogs. This is quite clearly a smol broken polar bear. We'd appreciate if you only send dogs. Thank you... 12/10…\n",
      "----------\n",
      "Unbelievable. We only rate dogs. Please don't send in non-canines like the \"I\" from Pixar's opening credits. Thank you... 12/10 https://t.co/JMhDNv5wXZ\n",
      "----------\n",
      "Oh my this spooked me up. We only rate dogs, not happy ghosts. Please send dogs only. It's a very simple premise. Thank you... 13/10 https://t.co/M5Rz0R8SIQ\n",
      "----------\n",
      "We only rate dogs. Please don't send in Jesus. We're trying to remain professional and legitimate. Thank you... 14/10 https://t.co/wr3xsjeCIR\n",
      "----------\n",
      "We only rate dogs. Please don't send perfectly toasted marshmallows attempting to drive. Thank you... 13/10 https://t.co/nvZyyrp0kd\n",
      "----------\n",
      "We only rate dogs. This is quite clearly a smol broken polar bear. We'd appreciate if you only send dogs. Thank you... 12/10 https://t.co/g2nSyGenG9\n",
      "----------\n",
      "Guys, we only rate dogs. This is quite clearly a bulbasaur. Please only send dogs. Thank you... 12/10 human used pet, it's super effective https://t.co/Xc7uj1C64x\n",
      "----------\n",
      "At first I thought this was a shy doggo, but it's actually a Rare Canadian Floofer Owl. Amateurs would confuse the two. 11/10 only send dogs https://t.co/TXdT3tmuYk\n",
      "----------\n",
      "Seriously guys? Again? We only rate dogs. Please stop submitting other things like this super good hammerhead shark. Thank you... 12/10 https://t.co/TCMC90mSOT\n",
      "----------\n",
      "At first I thought this was a dog because of the sign, but it is clearly Wilson from Home Improvement. Please only send in dogs... 11/10 https://t.co/jqPk1BZ6xu\n",
      "----------\n",
      "Please stop sending in animals other than dogs. We only rate dogs. Not Furry Ecuadorian Sea Turtles. Thank you... 12/10 https://t.co/UOE79zb6VU\n",
      "----------\n",
      "C'mon guys. Please only send in dogs. We only rate dogs, not Exceptional-Tongued Peruvian Floor Bears. Thank you... 12/10 https://t.co/z30iQLiXNo\n",
      "----------\n",
      "We only rate dogs. Please don't send in any non-canines like this Floppy Tongued House Panda. Thank you... 12/10 would still pet https://t.co/8fX2VkExnL\n",
      "----------\n",
      "RT @dog_rates: Please only send in dogs. We only rate dogs, not seemingly heartbroken ewoks. Thank you... still 10/10 would console https:/…\n",
      "----------\n",
      "We only rate dogs. Please don't send in any more non-dogs like this Wild Albanian Street Moose. Thank you... 11/10 https://t.co/srXL2s868C\n",
      "----------\n",
      "RT @dog_rates: We only rate dogs. Please don't send pics of men capturing low level clouds. Thank you... 11/10 https://t.co/rLi83ZyCL5\n",
      "----------\n",
      "Please stop sending in non-canines like this Very Pettable Dozing Bath Tortoise. We only rate dogs. Only send dogs... 12/10 https://t.co/mcagPeENIh\n",
      "----------\n",
      "We only rate dogs. Please don't send pics of men capturing low level clouds. Thank you... 11/10 https://t.co/rLi83ZyCL5\n",
      "----------\n",
      "We only rate dogs. Please don't send in other things like this very good Christmas tree. Thank you... 13/10 https://t.co/rvSANEsQZJ\n",
      "----------\n",
      "RT @dog_rates: Meet Sammy. At first I was like \"that's a snowflake. we only rate dogs,\" but he would've melted by now, so 10/10 https://t.c…\n",
      "----------\n",
      "Please only send in dogs. We only rate dogs, not seemingly heartbroken ewoks. Thank you... still 10/10 would console https://t.co/HIraYS1Bzo\n",
      "----------\n",
      "RT @dog_rates: Idk why this keeps happening. We only rate dogs. Not Bangladeshi Couch Chipmunks. Please only send dogs... 12/10 https://t.c…\n",
      "----------\n",
      "We only rate dogs. Please stop sending in non-canines like this Freudian Poof Lion. This is incredibly frustrating... 11/10 https://t.co/IZidSrBvhi\n",
      "----------\n",
      "Idk why this keeps happening. We only rate dogs. Not Bangladeshi Couch Chipmunks. Please only send dogs... 12/10 https://t.co/ya7bviQUUf\n",
      "----------\n",
      "We only rate dogs. Pls stop sending in non-canines like this Urban Floof Giraffe. I can't handle this. 11/10 https://t.co/zHIqpM5Gni\n",
      "----------\n",
      "RT @dog_rates: This is an East African Chalupa Seal. We only rate dogs. Please only send in dogs. Thank you... 10/10 https://t.co/iHe6liLwWR\n",
      "----------\n",
      "RT @dog_rates: We only rate dogs. Pls stop sending in non-canines like this Mongolian grass snake. This is very frustrating. 11/10 https://…\n",
      "----------\n",
      "Guys this is getting so out of hand. We only rate dogs. This is a Galapagos Speed Panda. Pls only send dogs... 10/10 https://t.co/8lpAGaZRFn\n",
      "----------\n",
      "We only rate dogs. Pls stop sending in non-canines like this Arctic Floof Kangaroo. This is very frustrating. 11/10 https://t.co/qlUDuPoE3d\n",
      "----------\n",
      "RT @dog_rates: We only rate dogs... this is a Taiwanese Guide Walrus. Im getting real heckin tired of this. Please send dogs. 10/10 https:/…\n",
      "----------\n",
      "Guys.. we only rate dogs. Pls don't send any more pics of the Loch Ness Monster. Only send in dogs. Thank you. 11/10 https://t.co/obH5vMbm1j\n",
      "----------\n",
      "We only rate dogs... this is a Taiwanese Guide Walrus. Im getting real heckin tired of this. Please send dogs. 10/10 https://t.co/49hkNAsubi\n",
      "----------\n",
      "RT @dog_rates: This... is a Tyrannosaurus rex. We only rate dogs. Please only send in dogs. Thank you ...10/10 https://t.co/zxw8d5g94P\n",
      "----------\n",
      "Never seen a shark hold another shark like this before. Must be evolving. Both 10/10 please only send dogs though https://t.co/x4IUNKV79Y\n",
      "----------\n",
      "This is a carrot. We only rate dogs. Please only send in dogs. You all really should know this by now ...11/10 https://t.co/9e48aPrBm2\n",
      "----------\n",
      "This is an Iraqi Speed Kangaroo. It is not a dog. Please only send in dogs. I'm very angry with all of you ...9/10 https://t.co/5qpBTTpgUt\n",
      "----------\n",
      "We only rate dogs. Pls stop sending in non-canines like this Jamaican Flop Seal. This is very very frustrating. 9/10 https://t.co/nc53zEN0hZ\n",
      "----------\n",
      "This is getting incredibly frustrating. This is a Mexican Golden Beaver. We only rate dogs. Only send dogs ...10/10 https://t.co/0yolOOyD3X\n",
      "----------\n",
      "This... is a Tyrannosaurus rex. We only rate dogs. Please only send in dogs. Thank you ...10/10 https://t.co/zxw8d5g94P\n",
      "----------\n",
      "For the last time, we only rate dogs. Pls stop sending other animals like this Duck-Billed Platypus. Thank you. 9/10 https://t.co/twxYcPOafl\n",
      "----------\n",
      "We only rate dogs. Pls stop sending in non-canines like this Slovak Car Bunny. It makes my job very difficult. 11/10 https://t.co/VflvQLH2y5\n",
      "----------\n",
      "We only rate dogs. Please stop sending in non-canines like this Alaskan Flop Turtle. This is very frustrating. 10/10 https://t.co/qXteK6Atxc\n",
      "----------\n",
      "We only rate dogs. Please stop sending in your 31 year old sons that won't get out of your house. Thank you... 11/10 https://t.co/aTU53NNUkt\n",
      "----------\n",
      "We only rate dogs. Pls stop sending non-canines like this Bulgarian Eyeless Porch Bear. This is unacceptable... 9/10 https://t.co/2yctWAUZ3Z\n",
      "----------\n",
      "I'm getting super heckin frustrated with you all sending in non canines like this ostrich. We only rate dogs... 9/10 https://t.co/Rgbni2Ns8z\n",
      "----------\n",
      "People please. This is a Deadly Mediterranean Plop T-Rex. We only rate dogs. Only send in dogs. Thanks you... 11/10 https://t.co/2ATDsgHD4n\n",
      "----------\n",
      "This is a taco. We only rate dogs. Please only send in dogs. Dogs are what we rate. Not tacos. Thank you... 10/10 https://t.co/cxl6xGY8B9\n",
      "----------\n",
      "I know we only rate dogs, but since it's Easter I guess we could rate a bunny for a change. 10/10 petable as hell https://t.co/O2RlKXigHu\n",
      "----------\n",
      "Please don't send in any more polar bears. We only rate dogs. Thank you... 10/10 https://t.co/83RGhdIQz2\n",
      "----------\n",
      "We 👏🏻 only 👏🏻 rate 👏🏻 dogs. Pls stop sending in non-canines like this Dutch Panda Worm. This is infuriating. 11/10 https://t.co/odfLzBonG2\n",
      "----------\n",
      "Please stop sending in non canines like this Guatemalan Twiggle Bunny. We only rate dogs. Only send in dogs... 11/10 https://t.co/XKhobeGuvT\n",
      "----------\n",
      "Really guys? Again? I know this is a rare Albanian Bingo Seal, but we only rate dogs. Only send in dogs... 9/10 https://t.co/6JYLpUmBrC\n",
      "----------\n",
      "This is an East African Chalupa Seal. We only rate dogs. Please only send in dogs. Thank you... 10/10 https://t.co/iHe6liLwWR\n",
      "----------\n",
      "We only rate dogs. Pls stop sending in non-canines like this Mongolian grass snake. This is very frustrating. 11/10 https://t.co/22x9SbCYCU\n",
      "----------\n",
      "Please stop sending in saber-toothed tigers. This is getting ridiculous. We only rate dogs.\n",
      "...8/10 https://t.co/iAeQNueou8\n",
      "----------\n",
      "Please only send in dogs. This t-rex is very scary. 5/10 ...might still pet (vid by @helizabethmicha) https://t.co/Vn6w5w8TO2\n",
      "----------\n",
      "Please only send in dogs. Don't submit other things like this pic of Kenny Chesney in a bathtub. Thank you. 9/10 https://t.co/TMpDHHGspy\n",
      "----------\n",
      "Stop sending in lobsters. This is the final warning. We only rate dogs. Thank you... 9/10 https://t.co/B9ZXXKJYNx\n",
      "----------\n",
      "Please send dogs. I'm tired of seeing other stuff like this dangerous pirate. We only rate dogs. Thank you... 10/10 https://t.co/YdLytdZOqv\n",
      "----------\n",
      "For the last time, WE. DO. NOT. RATE. BULBASAUR. We only rate dogs. Please only send dogs. Thank you ...9/10 https://t.co/GboDG8WhJG\n",
      "----------\n",
      "This is actually a lion. We only rate dogs. For the last time please only send dogs. Thank u.\n",
      "12/10 would still pet https://t.co/Pp26dMQxap\n",
      "----------\n",
      "I thought I made this very clear. We only rate dogs. Stop sending other things like this shark. Thank you... 9/10 https://t.co/CXSJZ4Stk3\n",
      "----------\n",
      "Meet Sammy. At first I was like \"that's a snowflake. we only rate dogs,\" but he would've melted by now, so 10/10 https://t.co/MQfPK4zwuh\n",
      "----------\n",
      "Guys this really needs to stop. We've been over this way too many times. This is a giraffe. We only rate dogs.. 7/10 https://t.co/yavgkHYPOC\n",
      "----------\n",
      "I know everyone's excited for Christmas but that doesn't mean you can send in reindeer. We only rate dogs... 8/10 https://t.co/eWjWgbOCYL\n",
      "----------\n",
      "Guys this was terrifying. Really spooked me up. We don't rate ghosts. We rate dogs. Please only send dogs... 9/10 https://t.co/EJImi1udYb\n",
      "----------\n",
      "Ok, I'll admit this is a pretty adorable bunny hopping towards the ocean but please only send in dogs... 11/10 https://t.co/sfsVCGIipI\n",
      "----------\n",
      "Seriously guys?! Only send in dogs. I only rate dogs. This is a baby black bear... 11/10 https://t.co/H7kpabTfLj\n",
      "----------\n",
      "C'mon guys. We've been over this. We only rate dogs. This is a cow. Please only submit dogs. Thank you...... 9/10 https://t.co/WjcELNEqN2\n",
      "----------\n",
      "Guys I'm getting real tired of this. We only rate dogs. Please don't send in other things like this Bulbasaur. 3/10 https://t.co/t5rQHl6W8M\n"
     ]
    }
   ],
   "source": [
    "# Checking for entries not related to dog.\n",
    "error_name=twt_df[twt_df.text.str.match('.* only .* dogs')].text\n",
    "text_sample_size = error_name.size - 1\n",
    "for i, entry in enumerate(error_name):\n",
    "    print(entry)\n",
    "    if i != text_sample_size:\n",
    "        print('----------')"
   ]
  },
  {
   "cell_type": "code",
   "execution_count": 116,
   "id": "011d8681",
   "metadata": {},
   "outputs": [
    {
     "data": {
      "text/plain": [
       "74"
      ]
     },
     "execution_count": 116,
     "metadata": {},
     "output_type": "execute_result"
    }
   ],
   "source": [
    "twt_df[twt_df.text.str.match('.* only .* dogs')].text.count()"
   ]
  },
  {
   "cell_type": "markdown",
   "id": "ed3c96d1",
   "metadata": {},
   "source": [
    "###### Observation\n",
    "> I observed that some entries are not related to dog and they have a pattern which is **\"only rate dogs\"**. Therefore, I decided to drop the rows."
   ]
  },
  {
   "cell_type": "markdown",
   "id": "f0fb8b52",
   "metadata": {},
   "source": [
    "### Quality Issues\n",
    ">1. Tweet id has a wrong data type, its a string instead of integer.\n",
    "\n",
    ">2. Timestamp has a wrong data type, it's a datetime instead of object.\n",
    "\n",
    ">3. Extract tweet source and convert data type to category.\n",
    "\n",
    ">4. Drop rows with entries not related to dogs.\n",
    "\n",
    ">5. Rename O'Malley, Al Cabone, Quizno and Zoey in the name column. \n",
    "\n",
    ">6. Fix the errors (e.g. a, one, by, an, my etc.) in Dog name.\n",
    "\n",
    ">7. Replace the denominator rating with 10.\n",
    "\n",
    ">8. Drop rows with retweets.\n",
    "\n",
    ">9. Drop rows without image.\n",
    "\n",
    ">10. Drop unnecessary columns from the dataframes.\n",
    "\n",
    ">11. Rename columns with appropriate names.\n",
    "\n",
    "### Tideness Issues\n",
    ">1. Merge dog stage into one column.\n",
    "\n",
    ">2. Merge the three datasets into ona dataframe.\n",
    "\n",
    ">3. Merge dog breed into one column."
   ]
  },
  {
   "cell_type": "markdown",
   "id": "1cc46e4b",
   "metadata": {},
   "source": [
    "<a id='Cleaning'></a>\n",
    "## Data Cleaning\n",
    "\n",
    "> After assessing the dataset, I will clean the data with respect to the errors detected."
   ]
  },
  {
   "cell_type": "code",
   "execution_count": 117,
   "id": "bba9d550",
   "metadata": {},
   "outputs": [],
   "source": [
    "# Creating a copy of the original datasets for reference\n",
    "twt_clean_df = twt_df.copy()\n",
    "img_pred_clean_df = img_pred_df.copy()\n",
    "twt_json_clean_df = twt_json_df.copy() "
   ]
  },
  {
   "cell_type": "markdown",
   "id": "5e7dbeaf",
   "metadata": {},
   "source": [
    "##### Quality Issue 1"
   ]
  },
  {
   "cell_type": "markdown",
   "id": "b5dcae17",
   "metadata": {},
   "source": [
    "##### Define:\n",
    "> The datatype of tweet id is integer instead of string."
   ]
  },
  {
   "cell_type": "markdown",
   "id": "8cfe3ab9",
   "metadata": {},
   "source": [
    "##### Code"
   ]
  },
  {
   "cell_type": "code",
   "execution_count": 118,
   "id": "19053910",
   "metadata": {},
   "outputs": [],
   "source": [
    "# Changing the datatype of tweet_id from integer to strings\n",
    "twt_clean_df.tweet_id=twt_clean_df.tweet_id.astype('str')\n",
    "img_pred_clean_df.tweet_id=img_pred_clean_df.tweet_id.astype('str')\n",
    "#Renaming the column from 'id' to 'tweet_id'\n",
    "twt_json_clean_df.rename(columns={'id':'tweet_id'}, inplace=True)\n",
    "#Changing the datatype to string\n",
    "twt_json_clean_df.tweet_id=twt_json_clean_df.tweet_id.astype('str')"
   ]
  },
  {
   "cell_type": "markdown",
   "id": "ea28b503",
   "metadata": {},
   "source": [
    "##### Test"
   ]
  },
  {
   "cell_type": "code",
   "execution_count": 119,
   "id": "58ac1414",
   "metadata": {},
   "outputs": [
    {
     "name": "stdout",
     "output_type": "stream",
     "text": [
      "<class 'pandas.core.frame.DataFrame'>\n",
      "RangeIndex: 2356 entries, 0 to 2355\n",
      "Data columns (total 17 columns):\n",
      " #   Column                      Non-Null Count  Dtype  \n",
      "---  ------                      --------------  -----  \n",
      " 0   tweet_id                    2356 non-null   object \n",
      " 1   in_reply_to_status_id       78 non-null     float64\n",
      " 2   in_reply_to_user_id         78 non-null     float64\n",
      " 3   timestamp                   2356 non-null   object \n",
      " 4   source                      2356 non-null   object \n",
      " 5   text                        2356 non-null   object \n",
      " 6   retweeted_status_id         181 non-null    float64\n",
      " 7   retweeted_status_user_id    181 non-null    float64\n",
      " 8   retweeted_status_timestamp  181 non-null    object \n",
      " 9   expanded_urls               2297 non-null   object \n",
      " 10  rating_numerator            2356 non-null   int64  \n",
      " 11  rating_denominator          2356 non-null   int64  \n",
      " 12  name                        2356 non-null   object \n",
      " 13  doggo                       2356 non-null   object \n",
      " 14  floofer                     2356 non-null   object \n",
      " 15  pupper                      2356 non-null   object \n",
      " 16  puppo                       2356 non-null   object \n",
      "dtypes: float64(4), int64(2), object(11)\n",
      "memory usage: 313.0+ KB\n"
     ]
    }
   ],
   "source": [
    "twt_clean_df.info()"
   ]
  },
  {
   "cell_type": "markdown",
   "id": "11837931",
   "metadata": {},
   "source": [
    "##### Tideness Issue 2"
   ]
  },
  {
   "cell_type": "markdown",
   "id": "964f522e",
   "metadata": {},
   "source": [
    "##### Define\n",
    "To be able to merge the three dataset, we need to rename the id column of the image prediction dataset to tweet id and change the data type, so as to have a universal name"
   ]
  },
  {
   "cell_type": "markdown",
   "id": "2bcdfc1a",
   "metadata": {},
   "source": [
    "##### Code"
   ]
  },
  {
   "cell_type": "code",
   "execution_count": 120,
   "id": "3fc70dd8",
   "metadata": {},
   "outputs": [],
   "source": [
    "# Merge the three DataFrames into one master DataFrame, starting first with archive_clean and json_clean\n",
    "first_archive_master_df = pd.merge(twt_clean_df, twt_json_clean_df, on=['tweet_id','tweet_id'],how='left') \n",
    "# Merge new master with image_clean\n",
    "merged_df = pd.merge(first_archive_master_df, img_pred_clean_df, on='tweet_id',how='left') "
   ]
  },
  {
   "cell_type": "markdown",
   "id": "cc6c2f21",
   "metadata": {},
   "source": [
    "##### Test"
   ]
  },
  {
   "cell_type": "code",
   "execution_count": 121,
   "id": "1c08237b",
   "metadata": {
    "scrolled": true
   },
   "outputs": [
    {
     "name": "stdout",
     "output_type": "stream",
     "text": [
      "<class 'pandas.core.frame.DataFrame'>\n",
      "Int64Index: 2356 entries, 0 to 2355\n",
      "Data columns (total 30 columns):\n",
      " #   Column                      Non-Null Count  Dtype  \n",
      "---  ------                      --------------  -----  \n",
      " 0   tweet_id                    2356 non-null   object \n",
      " 1   in_reply_to_status_id       78 non-null     float64\n",
      " 2   in_reply_to_user_id         78 non-null     float64\n",
      " 3   timestamp                   2356 non-null   object \n",
      " 4   source                      2356 non-null   object \n",
      " 5   text                        2356 non-null   object \n",
      " 6   retweeted_status_id         181 non-null    float64\n",
      " 7   retweeted_status_user_id    181 non-null    float64\n",
      " 8   retweeted_status_timestamp  181 non-null    object \n",
      " 9   expanded_urls               2297 non-null   object \n",
      " 10  rating_numerator            2356 non-null   int64  \n",
      " 11  rating_denominator          2356 non-null   int64  \n",
      " 12  name                        2356 non-null   object \n",
      " 13  doggo                       2356 non-null   object \n",
      " 14  floofer                     2356 non-null   object \n",
      " 15  pupper                      2356 non-null   object \n",
      " 16  puppo                       2356 non-null   object \n",
      " 17  retweet_count               2354 non-null   float64\n",
      " 18  favorite_count              2354 non-null   float64\n",
      " 19  jpg_url                     2075 non-null   object \n",
      " 20  img_num                     2075 non-null   float64\n",
      " 21  p1                          2075 non-null   object \n",
      " 22  p1_conf                     2075 non-null   float64\n",
      " 23  p1_dog                      2075 non-null   object \n",
      " 24  p2                          2075 non-null   object \n",
      " 25  p2_conf                     2075 non-null   float64\n",
      " 26  p2_dog                      2075 non-null   object \n",
      " 27  p3                          2075 non-null   object \n",
      " 28  p3_conf                     2075 non-null   float64\n",
      " 29  p3_dog                      2075 non-null   object \n",
      "dtypes: float64(10), int64(2), object(18)\n",
      "memory usage: 570.6+ KB\n"
     ]
    }
   ],
   "source": [
    "merged_df.info()"
   ]
  },
  {
   "cell_type": "markdown",
   "id": "0dd67296",
   "metadata": {},
   "source": [
    "##### Quality Issue 2"
   ]
  },
  {
   "cell_type": "markdown",
   "id": "dcea1fe3",
   "metadata": {},
   "source": [
    "##### Define:\n",
    "> Timestamp needs to be stripped and converted to the correct datatype (datetime)"
   ]
  },
  {
   "cell_type": "markdown",
   "id": "30d76d09",
   "metadata": {},
   "source": [
    "##### Code"
   ]
  },
  {
   "cell_type": "code",
   "execution_count": 122,
   "id": "5a8bc3c1",
   "metadata": {},
   "outputs": [],
   "source": [
    "###### Changing Timestamp datatype from object to datetime\n",
    "# Strip +0000 from timestamp column\n",
    "merged_df.timestamp = merged_df.timestamp.str.strip('+0000')\n",
    "# Convert data type to datetime\n",
    "merged_df.timestamp = pd.to_datetime(merged_df.timestamp)"
   ]
  },
  {
   "cell_type": "markdown",
   "id": "7f9f597a",
   "metadata": {},
   "source": [
    "##### Test"
   ]
  },
  {
   "cell_type": "code",
   "execution_count": 123,
   "id": "5abc8c8b",
   "metadata": {
    "scrolled": true
   },
   "outputs": [
    {
     "name": "stdout",
     "output_type": "stream",
     "text": [
      "<class 'pandas.core.frame.DataFrame'>\n",
      "Int64Index: 2356 entries, 0 to 2355\n",
      "Data columns (total 30 columns):\n",
      " #   Column                      Non-Null Count  Dtype         \n",
      "---  ------                      --------------  -----         \n",
      " 0   tweet_id                    2356 non-null   object        \n",
      " 1   in_reply_to_status_id       78 non-null     float64       \n",
      " 2   in_reply_to_user_id         78 non-null     float64       \n",
      " 3   timestamp                   2356 non-null   datetime64[ns]\n",
      " 4   source                      2356 non-null   object        \n",
      " 5   text                        2356 non-null   object        \n",
      " 6   retweeted_status_id         181 non-null    float64       \n",
      " 7   retweeted_status_user_id    181 non-null    float64       \n",
      " 8   retweeted_status_timestamp  181 non-null    object        \n",
      " 9   expanded_urls               2297 non-null   object        \n",
      " 10  rating_numerator            2356 non-null   int64         \n",
      " 11  rating_denominator          2356 non-null   int64         \n",
      " 12  name                        2356 non-null   object        \n",
      " 13  doggo                       2356 non-null   object        \n",
      " 14  floofer                     2356 non-null   object        \n",
      " 15  pupper                      2356 non-null   object        \n",
      " 16  puppo                       2356 non-null   object        \n",
      " 17  retweet_count               2354 non-null   float64       \n",
      " 18  favorite_count              2354 non-null   float64       \n",
      " 19  jpg_url                     2075 non-null   object        \n",
      " 20  img_num                     2075 non-null   float64       \n",
      " 21  p1                          2075 non-null   object        \n",
      " 22  p1_conf                     2075 non-null   float64       \n",
      " 23  p1_dog                      2075 non-null   object        \n",
      " 24  p2                          2075 non-null   object        \n",
      " 25  p2_conf                     2075 non-null   float64       \n",
      " 26  p2_dog                      2075 non-null   object        \n",
      " 27  p3                          2075 non-null   object        \n",
      " 28  p3_conf                     2075 non-null   float64       \n",
      " 29  p3_dog                      2075 non-null   object        \n",
      "dtypes: datetime64[ns](1), float64(10), int64(2), object(17)\n",
      "memory usage: 570.6+ KB\n"
     ]
    }
   ],
   "source": [
    "merged_df.info()"
   ]
  },
  {
   "cell_type": "markdown",
   "id": "90b9b6dd",
   "metadata": {},
   "source": [
    "##### Quality Issue 3"
   ]
  },
  {
   "cell_type": "markdown",
   "id": "405aa0af",
   "metadata": {},
   "source": [
    "##### Define:\n",
    "> The tweet source is a url, so I will extract the last part of the url which specifies the exact tweet source. After which i will change the datatype to category."
   ]
  },
  {
   "cell_type": "markdown",
   "id": "0b74c914",
   "metadata": {},
   "source": [
    "##### Code"
   ]
  },
  {
   "cell_type": "code",
   "execution_count": 124,
   "id": "9b1cf156",
   "metadata": {},
   "outputs": [],
   "source": [
    "# Use re library with findall function and extract real source from tags > ...... <\n",
    "merged_df['source'] = merged_df['source'].apply(lambda x: re.findall(r'>(.*)<', x)[0])\n",
    "merged_df['source'] = merged_df['source'].astype('category')"
   ]
  },
  {
   "cell_type": "markdown",
   "id": "72b8f783",
   "metadata": {},
   "source": [
    "##### Test"
   ]
  },
  {
   "cell_type": "code",
   "execution_count": 125,
   "id": "f327358b",
   "metadata": {},
   "outputs": [
    {
     "data": {
      "text/plain": [
       "Twitter for iPhone     2221\n",
       "Vine - Make a Scene      91\n",
       "Twitter Web Client       33\n",
       "TweetDeck                11\n",
       "Name: source, dtype: int64"
      ]
     },
     "execution_count": 125,
     "metadata": {},
     "output_type": "execute_result"
    }
   ],
   "source": [
    "# Check extracted correct information\n",
    "merged_df['source'].value_counts()"
   ]
  },
  {
   "cell_type": "code",
   "execution_count": 126,
   "id": "8c07d6b2",
   "metadata": {},
   "outputs": [
    {
     "name": "stdout",
     "output_type": "stream",
     "text": [
      "<class 'pandas.core.frame.DataFrame'>\n",
      "Int64Index: 2356 entries, 0 to 2355\n",
      "Data columns (total 30 columns):\n",
      " #   Column                      Non-Null Count  Dtype         \n",
      "---  ------                      --------------  -----         \n",
      " 0   tweet_id                    2356 non-null   object        \n",
      " 1   in_reply_to_status_id       78 non-null     float64       \n",
      " 2   in_reply_to_user_id         78 non-null     float64       \n",
      " 3   timestamp                   2356 non-null   datetime64[ns]\n",
      " 4   source                      2356 non-null   category      \n",
      " 5   text                        2356 non-null   object        \n",
      " 6   retweeted_status_id         181 non-null    float64       \n",
      " 7   retweeted_status_user_id    181 non-null    float64       \n",
      " 8   retweeted_status_timestamp  181 non-null    object        \n",
      " 9   expanded_urls               2297 non-null   object        \n",
      " 10  rating_numerator            2356 non-null   int64         \n",
      " 11  rating_denominator          2356 non-null   int64         \n",
      " 12  name                        2356 non-null   object        \n",
      " 13  doggo                       2356 non-null   object        \n",
      " 14  floofer                     2356 non-null   object        \n",
      " 15  pupper                      2356 non-null   object        \n",
      " 16  puppo                       2356 non-null   object        \n",
      " 17  retweet_count               2354 non-null   float64       \n",
      " 18  favorite_count              2354 non-null   float64       \n",
      " 19  jpg_url                     2075 non-null   object        \n",
      " 20  img_num                     2075 non-null   float64       \n",
      " 21  p1                          2075 non-null   object        \n",
      " 22  p1_conf                     2075 non-null   float64       \n",
      " 23  p1_dog                      2075 non-null   object        \n",
      " 24  p2                          2075 non-null   object        \n",
      " 25  p2_conf                     2075 non-null   float64       \n",
      " 26  p2_dog                      2075 non-null   object        \n",
      " 27  p3                          2075 non-null   object        \n",
      " 28  p3_conf                     2075 non-null   float64       \n",
      " 29  p3_dog                      2075 non-null   object        \n",
      "dtypes: category(1), datetime64[ns](1), float64(10), int64(2), object(16)\n",
      "memory usage: 554.7+ KB\n"
     ]
    }
   ],
   "source": [
    "merged_df.info()"
   ]
  },
  {
   "cell_type": "markdown",
   "id": "2d58a0da",
   "metadata": {},
   "source": [
    "##### Quality Issue 4"
   ]
  },
  {
   "cell_type": "markdown",
   "id": "17906bbf",
   "metadata": {},
   "source": [
    "##### Define\n",
    "> To remove entries that are not dogs, i noticed there is a pattern among the wrong entries."
   ]
  },
  {
   "cell_type": "markdown",
   "id": "eedfd29f",
   "metadata": {},
   "source": [
    "##### Code"
   ]
  },
  {
   "cell_type": "code",
   "execution_count": 127,
   "id": "2990e38d",
   "metadata": {},
   "outputs": [],
   "source": [
    "merged_df = merged_df[twt_clean_df[\"text\"].str.contains('.* only .* dogs') == False]"
   ]
  },
  {
   "cell_type": "markdown",
   "id": "402b608f",
   "metadata": {},
   "source": [
    "##### Test"
   ]
  },
  {
   "cell_type": "code",
   "execution_count": 128,
   "id": "f66c8646",
   "metadata": {},
   "outputs": [
    {
     "data": {
      "text/plain": [
       "0"
      ]
     },
     "execution_count": 128,
     "metadata": {},
     "output_type": "execute_result"
    }
   ],
   "source": [
    "merged_df[merged_df.text.str.match('.* only .* dogs')].text.count()"
   ]
  },
  {
   "cell_type": "code",
   "execution_count": 129,
   "id": "2c127303",
   "metadata": {
    "scrolled": true
   },
   "outputs": [
    {
     "name": "stdout",
     "output_type": "stream",
     "text": [
      "<class 'pandas.core.frame.DataFrame'>\n",
      "Int64Index: 2282 entries, 0 to 2355\n",
      "Data columns (total 30 columns):\n",
      " #   Column                      Non-Null Count  Dtype         \n",
      "---  ------                      --------------  -----         \n",
      " 0   tweet_id                    2282 non-null   object        \n",
      " 1   in_reply_to_status_id       77 non-null     float64       \n",
      " 2   in_reply_to_user_id         77 non-null     float64       \n",
      " 3   timestamp                   2282 non-null   datetime64[ns]\n",
      " 4   source                      2282 non-null   category      \n",
      " 5   text                        2282 non-null   object        \n",
      " 6   retweeted_status_id         172 non-null    float64       \n",
      " 7   retweeted_status_user_id    172 non-null    float64       \n",
      " 8   retweeted_status_timestamp  172 non-null    object        \n",
      " 9   expanded_urls               2223 non-null   object        \n",
      " 10  rating_numerator            2282 non-null   int64         \n",
      " 11  rating_denominator          2282 non-null   int64         \n",
      " 12  name                        2282 non-null   object        \n",
      " 13  doggo                       2282 non-null   object        \n",
      " 14  floofer                     2282 non-null   object        \n",
      " 15  pupper                      2282 non-null   object        \n",
      " 16  puppo                       2282 non-null   object        \n",
      " 17  retweet_count               2280 non-null   float64       \n",
      " 18  favorite_count              2280 non-null   float64       \n",
      " 19  jpg_url                     2008 non-null   object        \n",
      " 20  img_num                     2008 non-null   float64       \n",
      " 21  p1                          2008 non-null   object        \n",
      " 22  p1_conf                     2008 non-null   float64       \n",
      " 23  p1_dog                      2008 non-null   object        \n",
      " 24  p2                          2008 non-null   object        \n",
      " 25  p2_conf                     2008 non-null   float64       \n",
      " 26  p2_dog                      2008 non-null   object        \n",
      " 27  p3                          2008 non-null   object        \n",
      " 28  p3_conf                     2008 non-null   float64       \n",
      " 29  p3_dog                      2008 non-null   object        \n",
      "dtypes: category(1), datetime64[ns](1), float64(10), int64(2), object(16)\n",
      "memory usage: 537.3+ KB\n"
     ]
    }
   ],
   "source": [
    "merged_df.info()"
   ]
  },
  {
   "cell_type": "markdown",
   "id": "9b1cffef",
   "metadata": {},
   "source": [
    "##### Quality Issue 5"
   ]
  },
  {
   "cell_type": "markdown",
   "id": "77b4ef65",
   "metadata": {},
   "source": [
    "##### Define \n",
    "> To input the correct names of dogs."
   ]
  },
  {
   "cell_type": "markdown",
   "id": "98da7004",
   "metadata": {},
   "source": [
    "##### Code"
   ]
  },
  {
   "cell_type": "code",
   "execution_count": 130,
   "id": "6f780266",
   "metadata": {},
   "outputs": [],
   "source": [
    "merged_df.name.replace(['O', 'Al', 'his', 'my'], ['O\\'Malley' ,'Al Cabone', 'Quizno', 'Zoey'], inplace=True)"
   ]
  },
  {
   "cell_type": "markdown",
   "id": "9e6d3851",
   "metadata": {},
   "source": [
    "##### Test"
   ]
  },
  {
   "cell_type": "code",
   "execution_count": 131,
   "id": "9545fcf4",
   "metadata": {
    "scrolled": true
   },
   "outputs": [
    {
     "data": {
      "text/plain": [
       "775    O'Malley\n",
       "Name: name, dtype: object"
      ]
     },
     "execution_count": 131,
     "metadata": {},
     "output_type": "execute_result"
    }
   ],
   "source": [
    "merged_df.name[merged_df.name=='O\\'Malley']"
   ]
  },
  {
   "cell_type": "markdown",
   "id": "cf2584e3",
   "metadata": {},
   "source": [
    "##### Quality Issue 6"
   ]
  },
  {
   "cell_type": "markdown",
   "id": "16987433",
   "metadata": {},
   "source": [
    "##### Define\n",
    "> To input null for dogs with wrong name (i.e name not mentioned in tweet text)"
   ]
  },
  {
   "cell_type": "markdown",
   "id": "6247bda1",
   "metadata": {},
   "source": [
    "##### Code"
   ]
  },
  {
   "cell_type": "code",
   "execution_count": 132,
   "id": "5e0ddc7c",
   "metadata": {
    "scrolled": true
   },
   "outputs": [],
   "source": [
    "# I noticed all incorrect names have their first letter has lowercase. We will use this to change them into null values. \n",
    "# for loop iterates through name column checking if the first letter is lowercase.\n",
    "for name in merged_df['name']:\n",
    "    if name[0].islower() == True:\n",
    "         merged_df.name = merged_df.name.replace({name:'None'})"
   ]
  },
  {
   "cell_type": "code",
   "execution_count": 133,
   "id": "f962df12",
   "metadata": {},
   "outputs": [],
   "source": [
    "merged_df.name.replace('None',np.nan, inplace=True)"
   ]
  },
  {
   "cell_type": "markdown",
   "id": "9f2f021c",
   "metadata": {},
   "source": [
    "##### Test"
   ]
  },
  {
   "cell_type": "code",
   "execution_count": 134,
   "id": "1f0c61f2",
   "metadata": {
    "scrolled": true
   },
   "outputs": [
    {
     "data": {
      "text/plain": [
       "['Phineas',\n",
       " 'Tilly',\n",
       " 'Archie',\n",
       " 'Darla',\n",
       " 'Franklin',\n",
       " nan,\n",
       " 'Jax',\n",
       " 'Zoey',\n",
       " 'Cassie',\n",
       " 'Koda',\n",
       " 'Bruno',\n",
       " 'Ted',\n",
       " 'Stuart',\n",
       " 'Oliver',\n",
       " 'Jim',\n",
       " 'Zeke',\n",
       " 'Ralphus',\n",
       " 'Canela',\n",
       " 'Gerald',\n",
       " 'Jeffrey',\n",
       " 'Maya',\n",
       " 'Mingus',\n",
       " 'Derek',\n",
       " 'Roscoe',\n",
       " 'Waffles',\n",
       " 'Jimbo',\n",
       " 'Maisey',\n",
       " 'Lilly',\n",
       " 'Earl',\n",
       " 'Lola',\n",
       " 'Kevin',\n",
       " 'Yogi',\n",
       " 'Noah',\n",
       " 'Bella',\n",
       " 'Grizzwald',\n",
       " 'Rusty',\n",
       " 'Gus',\n",
       " 'Stanley',\n",
       " 'Alfy',\n",
       " 'Koko',\n",
       " 'Rey',\n",
       " 'Gary',\n",
       " 'Elliot',\n",
       " 'Louis',\n",
       " 'Jesse',\n",
       " 'Romeo',\n",
       " 'Bailey',\n",
       " 'Duddles',\n",
       " 'Jack',\n",
       " 'Emmy',\n",
       " 'Steven',\n",
       " 'Beau',\n",
       " 'Snoopy',\n",
       " 'Shadow',\n",
       " 'Terrance',\n",
       " 'Aja',\n",
       " 'Penny',\n",
       " 'Dante',\n",
       " 'Nelly',\n",
       " 'Ginger',\n",
       " 'Benedict',\n",
       " 'Venti',\n",
       " 'Goose',\n",
       " 'Nugget',\n",
       " 'Cash',\n",
       " 'Coco',\n",
       " 'Jed',\n",
       " 'Sebastian',\n",
       " 'Walter',\n",
       " 'Sierra',\n",
       " 'Monkey',\n",
       " 'Harry',\n",
       " 'Kody',\n",
       " 'Lassie',\n",
       " 'Rover',\n",
       " 'Napolean',\n",
       " 'Dawn',\n",
       " 'Boomer',\n",
       " 'Cody',\n",
       " 'Rumble',\n",
       " 'Clifford',\n",
       " 'Dewey',\n",
       " 'Scout',\n",
       " 'Gizmo',\n",
       " 'Cooper',\n",
       " 'Harold',\n",
       " 'Shikha',\n",
       " 'Jamesy',\n",
       " 'Lili',\n",
       " 'Sammy',\n",
       " 'Meatball',\n",
       " 'Paisley',\n",
       " 'Albus',\n",
       " 'Neptune',\n",
       " 'Quinn',\n",
       " 'Belle',\n",
       " 'Zooey',\n",
       " 'Dave',\n",
       " 'Jersey',\n",
       " 'Hobbes',\n",
       " 'Burt',\n",
       " 'Lorenzo',\n",
       " 'Carl',\n",
       " 'Jordy',\n",
       " 'Milky',\n",
       " 'Trooper',\n",
       " 'Winston',\n",
       " 'Sophie',\n",
       " 'Wyatt',\n",
       " 'Rosie',\n",
       " 'Thor',\n",
       " 'Oscar',\n",
       " 'Luna',\n",
       " 'Callie',\n",
       " 'Cermet',\n",
       " 'George',\n",
       " 'Marlee',\n",
       " 'Arya',\n",
       " 'Einstein',\n",
       " 'Alice',\n",
       " 'Rumpole',\n",
       " 'Benny',\n",
       " 'Aspen',\n",
       " 'Jarod',\n",
       " 'Wiggles',\n",
       " 'General',\n",
       " 'Sailor',\n",
       " 'Astrid',\n",
       " 'Iggy',\n",
       " 'Snoop',\n",
       " 'Kyle',\n",
       " 'Leo',\n",
       " 'Riley',\n",
       " 'Gidget',\n",
       " 'Noosh',\n",
       " 'Odin',\n",
       " 'Jerry',\n",
       " 'Charlie',\n",
       " 'Georgie',\n",
       " 'Rontu',\n",
       " 'Cannon',\n",
       " 'Furzey',\n",
       " 'Daisy',\n",
       " 'Tuck',\n",
       " 'Barney',\n",
       " 'Vixen',\n",
       " 'Jarvis',\n",
       " 'Mimosa',\n",
       " 'Pickles',\n",
       " 'Bungalo',\n",
       " 'Brady',\n",
       " 'Margo',\n",
       " 'Sadie',\n",
       " 'Hank',\n",
       " 'Tycho',\n",
       " 'Stephan',\n",
       " 'Indie',\n",
       " 'Winnie',\n",
       " 'Bentley',\n",
       " 'Ken',\n",
       " 'Max',\n",
       " 'Maddie',\n",
       " 'Pipsy',\n",
       " 'Monty',\n",
       " 'Sojourner',\n",
       " 'Odie',\n",
       " 'Arlo',\n",
       " 'Sunny',\n",
       " 'Vincent',\n",
       " 'Lucy',\n",
       " 'Clark',\n",
       " 'Mookie',\n",
       " 'Meera',\n",
       " 'Buddy',\n",
       " 'Ava',\n",
       " 'Rory',\n",
       " 'Eli',\n",
       " 'Ash',\n",
       " 'Tucker',\n",
       " 'Tobi',\n",
       " 'Chester',\n",
       " 'Wilson',\n",
       " 'Sunshine',\n",
       " 'Lipton',\n",
       " 'Gabby',\n",
       " 'Bronte',\n",
       " 'Poppy',\n",
       " 'Rhino',\n",
       " 'Willow',\n",
       " 'Orion',\n",
       " 'Eevee',\n",
       " 'Smiley',\n",
       " 'Logan',\n",
       " 'Moreton',\n",
       " 'Klein',\n",
       " 'Miguel',\n",
       " 'Emanuel',\n",
       " 'Kuyu',\n",
       " 'Dutch',\n",
       " 'Pete',\n",
       " 'Scooter',\n",
       " 'Reggie',\n",
       " 'Kyro',\n",
       " 'Samson',\n",
       " 'Loki',\n",
       " 'Mia',\n",
       " 'Malcolm',\n",
       " 'Dexter',\n",
       " 'Alfie',\n",
       " 'Fiona',\n",
       " 'Mutt',\n",
       " 'Bear',\n",
       " 'Doobert',\n",
       " 'Beebop',\n",
       " 'Alexander',\n",
       " 'Sailer',\n",
       " 'Brutus',\n",
       " 'Kona',\n",
       " 'Boots',\n",
       " 'Ralphie',\n",
       " 'Phil',\n",
       " 'Cupid',\n",
       " 'Pawnd',\n",
       " 'Pilot',\n",
       " 'Ike',\n",
       " 'Mo',\n",
       " 'Toby',\n",
       " 'Sweet',\n",
       " 'Pablo',\n",
       " 'Nala',\n",
       " 'Balto',\n",
       " 'Crawford',\n",
       " 'Gabe',\n",
       " 'Mattie',\n",
       " 'Jimison',\n",
       " 'Hercules',\n",
       " 'Duchess',\n",
       " 'Harlso',\n",
       " 'Sampson',\n",
       " 'Sundance',\n",
       " 'Luca',\n",
       " 'Flash',\n",
       " 'Finn',\n",
       " 'Peaches',\n",
       " 'Howie',\n",
       " 'Jazzy',\n",
       " 'Anna',\n",
       " 'Bo',\n",
       " 'Seamus',\n",
       " 'Wafer',\n",
       " 'Chelsea',\n",
       " 'Tom',\n",
       " 'Moose',\n",
       " 'Florence',\n",
       " 'Autumn',\n",
       " 'Dido',\n",
       " 'Eugene',\n",
       " 'Herschel',\n",
       " 'Strudel',\n",
       " 'Tebow',\n",
       " 'Chloe',\n",
       " 'Betty',\n",
       " 'Timber',\n",
       " 'Binky',\n",
       " 'Dudley',\n",
       " 'Comet',\n",
       " 'Larry',\n",
       " 'Levi',\n",
       " 'Akumi',\n",
       " 'Titan',\n",
       " 'Olivia',\n",
       " 'Alf',\n",
       " 'Oshie',\n",
       " 'Bruce',\n",
       " 'Chubbs',\n",
       " 'Sky',\n",
       " 'Atlas',\n",
       " 'Eleanor',\n",
       " 'Layla',\n",
       " 'Rocky',\n",
       " 'Baron',\n",
       " 'Tyr',\n",
       " 'Bauer',\n",
       " 'Swagger',\n",
       " 'Brandi',\n",
       " 'Mary',\n",
       " 'Moe',\n",
       " 'Halo',\n",
       " 'Augie',\n",
       " 'Craig',\n",
       " 'Sam',\n",
       " 'Hunter',\n",
       " 'Pavlov',\n",
       " 'Maximus',\n",
       " 'Wallace',\n",
       " 'Ito',\n",
       " 'Milo',\n",
       " 'Ollie',\n",
       " 'Cali',\n",
       " 'Lennon',\n",
       " 'Major',\n",
       " 'Duke',\n",
       " 'Reginald',\n",
       " 'Sansa',\n",
       " 'Shooter',\n",
       " 'Django',\n",
       " 'Diogi',\n",
       " 'Sonny',\n",
       " 'Philbert',\n",
       " 'Marley',\n",
       " 'Severus',\n",
       " 'Ronnie',\n",
       " 'Anakin',\n",
       " 'Bones',\n",
       " 'Mauve',\n",
       " 'Chef',\n",
       " 'Doc',\n",
       " 'Sobe',\n",
       " 'Longfellow',\n",
       " 'Mister',\n",
       " 'Iroh',\n",
       " 'Baloo',\n",
       " 'Stubert',\n",
       " 'Paull',\n",
       " 'Timison',\n",
       " 'Davey',\n",
       " 'Pancake',\n",
       " 'Tyrone',\n",
       " 'Snicku',\n",
       " 'Ruby',\n",
       " 'Brody',\n",
       " 'Rizzy',\n",
       " 'Mack',\n",
       " 'Butter',\n",
       " 'Nimbus',\n",
       " 'Laika',\n",
       " 'Dobby',\n",
       " 'Juno',\n",
       " 'Maude',\n",
       " 'Lily',\n",
       " 'Newt',\n",
       " 'Benji',\n",
       " 'Nida',\n",
       " 'Robin',\n",
       " 'Monster',\n",
       " 'BeBe',\n",
       " 'Remus',\n",
       " 'Mabel',\n",
       " 'Misty',\n",
       " 'Happy',\n",
       " 'Mosby',\n",
       " 'Maggie',\n",
       " 'Leela',\n",
       " 'Ralphy',\n",
       " 'Brownie',\n",
       " 'Meyer',\n",
       " 'Stella',\n",
       " 'Frank',\n",
       " 'Tonks',\n",
       " 'Lincoln',\n",
       " 'Oakley',\n",
       " 'Dale',\n",
       " 'Rizzo',\n",
       " 'Arnie',\n",
       " 'Pinot',\n",
       " 'Dallas',\n",
       " 'Hero',\n",
       " 'Frankie',\n",
       " 'Stormy',\n",
       " 'Mairi',\n",
       " 'Loomis',\n",
       " 'Godi',\n",
       " 'Kenny',\n",
       " 'Deacon',\n",
       " 'Timmy',\n",
       " 'Harper',\n",
       " 'Chipson',\n",
       " 'Combo',\n",
       " 'Dash',\n",
       " 'Bell',\n",
       " 'Hurley',\n",
       " 'Jay',\n",
       " 'Mya',\n",
       " 'Strider',\n",
       " 'Wesley',\n",
       " 'Solomon',\n",
       " 'Huck',\n",
       " \"O'Malley\",\n",
       " 'Blue',\n",
       " 'Finley',\n",
       " 'Sprinkles',\n",
       " 'Heinrich',\n",
       " 'Shakespeare',\n",
       " 'Fizz',\n",
       " 'Chip',\n",
       " 'Grey',\n",
       " 'Roosevelt',\n",
       " 'Gromit',\n",
       " 'Willem',\n",
       " 'Dakota',\n",
       " 'Dixie',\n",
       " 'Al Cabone',\n",
       " 'Jackson',\n",
       " 'Carbon',\n",
       " 'DonDon',\n",
       " 'Kirby',\n",
       " 'Lou',\n",
       " 'Nollie',\n",
       " 'Chevy',\n",
       " 'Tito',\n",
       " 'Louie',\n",
       " 'Rupert',\n",
       " 'Rufus',\n",
       " 'Brudge',\n",
       " 'Shadoe',\n",
       " 'Colby',\n",
       " 'Angel',\n",
       " 'Brat',\n",
       " 'Tove',\n",
       " 'Aubie',\n",
       " 'Kota',\n",
       " 'Eve',\n",
       " 'Glenn',\n",
       " 'Shelby',\n",
       " 'Sephie',\n",
       " 'Bonaparte',\n",
       " 'Albert',\n",
       " 'Wishes',\n",
       " 'Rose',\n",
       " 'Theo',\n",
       " 'Rocco',\n",
       " 'Fido',\n",
       " 'Emma',\n",
       " 'Spencer',\n",
       " 'Lilli',\n",
       " 'Boston',\n",
       " 'Brandonald',\n",
       " 'Corey',\n",
       " 'Leonard',\n",
       " 'Chompsky',\n",
       " 'Beckham',\n",
       " 'Devón',\n",
       " 'Gert',\n",
       " 'Watson',\n",
       " 'Rubio',\n",
       " 'Keith',\n",
       " 'Dex',\n",
       " 'Carly',\n",
       " 'Ace',\n",
       " 'Tayzie',\n",
       " 'Grizzie',\n",
       " 'Fred',\n",
       " 'Gilbert',\n",
       " 'Zoe',\n",
       " 'Stewie',\n",
       " 'Calvin',\n",
       " 'Lilah',\n",
       " 'Spanky',\n",
       " 'Jameson',\n",
       " 'Piper',\n",
       " 'Atticus',\n",
       " 'Blu',\n",
       " 'Dietrich',\n",
       " 'Divine',\n",
       " 'Tripp',\n",
       " 'Quizno',\n",
       " 'Cora',\n",
       " 'Huxley',\n",
       " 'Keurig',\n",
       " 'Bookstore',\n",
       " 'Linus',\n",
       " 'Abby',\n",
       " 'Shaggy',\n",
       " 'Shiloh',\n",
       " 'Gustav',\n",
       " 'Arlen',\n",
       " 'Percy',\n",
       " 'Lenox',\n",
       " 'Sugar',\n",
       " 'Harvey',\n",
       " 'Blanket',\n",
       " 'Geno',\n",
       " 'Stark',\n",
       " 'Beya',\n",
       " 'Kilo',\n",
       " 'Kayla',\n",
       " 'Maxaroni',\n",
       " 'Doug',\n",
       " 'Edmund',\n",
       " 'Aqua',\n",
       " 'Theodore',\n",
       " 'Chase',\n",
       " 'Rorie',\n",
       " 'Simba',\n",
       " 'Charles',\n",
       " 'Bayley',\n",
       " 'Axel',\n",
       " 'Storkson',\n",
       " 'Remy',\n",
       " 'Chadrick',\n",
       " 'Kellogg',\n",
       " 'Buckley',\n",
       " 'Livvie',\n",
       " 'Terry',\n",
       " 'Hermione',\n",
       " 'Ralpher',\n",
       " 'Aldrick',\n",
       " 'Rooney',\n",
       " 'Crystal',\n",
       " 'Ziva',\n",
       " 'Stefan',\n",
       " 'Pupcasso',\n",
       " 'Puff',\n",
       " 'Flurpson',\n",
       " 'Coleman',\n",
       " 'Enchilada',\n",
       " 'Raymond',\n",
       " 'Rueben',\n",
       " 'Cilantro',\n",
       " 'Karll',\n",
       " 'Sprout',\n",
       " 'Blitz',\n",
       " 'Bloop',\n",
       " 'Lillie',\n",
       " 'Ashleigh',\n",
       " 'Kreggory',\n",
       " 'Sarge',\n",
       " 'Luther',\n",
       " 'Ivar',\n",
       " 'Jangle',\n",
       " 'Schnitzel',\n",
       " 'Panda',\n",
       " 'Berkeley',\n",
       " 'Ralphé',\n",
       " 'Charleson',\n",
       " 'Clyde',\n",
       " 'Harnold',\n",
       " 'Sid',\n",
       " 'Pippa',\n",
       " 'Otis',\n",
       " 'Carper',\n",
       " 'Bowie',\n",
       " 'Alexanderson',\n",
       " 'Suki',\n",
       " 'Barclay',\n",
       " 'Skittle',\n",
       " 'Ebby',\n",
       " 'Flávio',\n",
       " 'Smokey',\n",
       " 'Link',\n",
       " 'Jennifur',\n",
       " 'Ozzy',\n",
       " 'Bluebert',\n",
       " 'Stephanus',\n",
       " 'Bubbles',\n",
       " 'Zeus',\n",
       " 'Bertson',\n",
       " 'Nico',\n",
       " 'Michelangelope',\n",
       " 'Siba',\n",
       " 'Calbert',\n",
       " 'Curtis',\n",
       " 'Travis',\n",
       " 'Thumas',\n",
       " 'Kanu',\n",
       " 'Lance',\n",
       " 'Opie',\n",
       " 'Kane',\n",
       " 'Olive',\n",
       " 'Chuckles',\n",
       " 'Staniel',\n",
       " 'Sora',\n",
       " 'Beemo',\n",
       " 'Gunner',\n",
       " 'Lacy',\n",
       " 'Tater',\n",
       " 'Olaf',\n",
       " 'Cecil',\n",
       " 'Vince',\n",
       " 'Karma',\n",
       " 'Billy',\n",
       " 'Walker',\n",
       " 'Rodney',\n",
       " 'Klevin',\n",
       " 'Malikai',\n",
       " 'Bobble',\n",
       " 'River',\n",
       " 'Jebberson',\n",
       " 'Remington',\n",
       " 'Farfle',\n",
       " 'Jiminus',\n",
       " 'Clarkus',\n",
       " 'Finnegus',\n",
       " 'Cupcake',\n",
       " 'Kathmandu',\n",
       " 'Ellie',\n",
       " 'Katie',\n",
       " 'Kara',\n",
       " 'Adele',\n",
       " 'Zara',\n",
       " 'Ambrose',\n",
       " 'Jimothy',\n",
       " 'Bode',\n",
       " 'Terrenth',\n",
       " 'Reese',\n",
       " 'Chesterson',\n",
       " 'Lucia',\n",
       " 'Bisquick',\n",
       " 'Ralphson',\n",
       " 'Socks',\n",
       " 'Rambo',\n",
       " 'Rudy',\n",
       " 'Fiji',\n",
       " 'Rilo',\n",
       " 'Bilbo',\n",
       " 'Coopson',\n",
       " 'Yoda',\n",
       " 'Millie',\n",
       " 'Chet',\n",
       " 'Crouton',\n",
       " 'Daniel',\n",
       " 'Kaia',\n",
       " 'Murphy',\n",
       " 'Dotsy',\n",
       " 'Eazy',\n",
       " 'Coops',\n",
       " 'Fillup',\n",
       " 'Miley',\n",
       " 'Charl',\n",
       " 'Reagan',\n",
       " 'Yukon',\n",
       " 'CeCe',\n",
       " 'Cuddles',\n",
       " 'Claude',\n",
       " 'Jessiga',\n",
       " 'Carter',\n",
       " 'Ole',\n",
       " 'Pherb',\n",
       " 'Blipson',\n",
       " 'Reptar',\n",
       " 'Trevith',\n",
       " 'Berb',\n",
       " 'Bob',\n",
       " 'Colin',\n",
       " 'Brian',\n",
       " 'Oliviér',\n",
       " 'Grady',\n",
       " 'Kobe',\n",
       " 'Freddery',\n",
       " 'Bodie',\n",
       " 'Dunkin',\n",
       " 'Wally',\n",
       " 'Tupawc',\n",
       " 'Amber',\n",
       " 'Edgar',\n",
       " 'Teddy',\n",
       " 'Kingsley',\n",
       " 'Brockly',\n",
       " 'Richie',\n",
       " 'Molly',\n",
       " 'Vinscent',\n",
       " 'Cedrick',\n",
       " 'Hazel',\n",
       " 'Lolo',\n",
       " 'Eriq',\n",
       " 'Phred',\n",
       " 'Oddie',\n",
       " 'Maxwell',\n",
       " 'Geoff',\n",
       " 'Covach',\n",
       " 'Durg',\n",
       " 'Fynn',\n",
       " 'Ricky',\n",
       " 'Herald',\n",
       " 'Lucky',\n",
       " 'Ferg',\n",
       " 'Trip',\n",
       " 'Clarence',\n",
       " 'Hamrick',\n",
       " 'Brad',\n",
       " 'Pubert',\n",
       " 'Frönq',\n",
       " 'Derby',\n",
       " 'Lizzie',\n",
       " 'Ember',\n",
       " 'Blakely',\n",
       " 'Opal',\n",
       " 'Marq',\n",
       " 'Kramer',\n",
       " 'Barry',\n",
       " 'Gordon',\n",
       " 'Baxter',\n",
       " 'Mona',\n",
       " 'Horace',\n",
       " 'Crimson',\n",
       " 'Birf',\n",
       " 'Hammond',\n",
       " 'Lorelei',\n",
       " 'Marty',\n",
       " 'Brooks',\n",
       " 'Petrick',\n",
       " 'Hubertson',\n",
       " 'Gerbald',\n",
       " 'Oreo',\n",
       " 'Bruiser',\n",
       " 'Perry',\n",
       " 'Bobby',\n",
       " 'Jeph',\n",
       " 'Obi',\n",
       " 'Tino',\n",
       " 'Kulet',\n",
       " 'Sweets',\n",
       " 'Lupe',\n",
       " 'Tiger',\n",
       " 'Jiminy',\n",
       " 'Griffin',\n",
       " 'Banjo',\n",
       " 'Brandy',\n",
       " 'Lulu',\n",
       " 'Darrel',\n",
       " 'Taco',\n",
       " 'Joey',\n",
       " 'Patrick',\n",
       " 'Kreg',\n",
       " 'Todo',\n",
       " 'Tess',\n",
       " 'Ulysses',\n",
       " 'Toffee',\n",
       " 'Apollo',\n",
       " 'Asher',\n",
       " 'Glacier',\n",
       " 'Chuck',\n",
       " 'Champ',\n",
       " 'Ozzie',\n",
       " 'Griswold',\n",
       " 'Cheesy',\n",
       " 'Moofasa',\n",
       " 'Hector',\n",
       " 'Goliath',\n",
       " 'Kawhi',\n",
       " 'Emmie',\n",
       " 'Penelope',\n",
       " 'Willie',\n",
       " 'Rinna',\n",
       " 'Mike',\n",
       " 'William',\n",
       " 'Dwight',\n",
       " 'Evy',\n",
       " 'Rascal',\n",
       " 'Linda',\n",
       " 'Tug',\n",
       " 'Tango',\n",
       " 'Grizz',\n",
       " 'Jerome',\n",
       " 'Crumpet',\n",
       " 'Jessifer',\n",
       " 'Izzy',\n",
       " 'Ralph',\n",
       " 'Sandy',\n",
       " 'Humphrey',\n",
       " 'Tassy',\n",
       " 'Juckson',\n",
       " 'Chuq',\n",
       " 'Tyrus',\n",
       " 'Karl',\n",
       " 'Godzilla',\n",
       " 'Vinnie',\n",
       " 'Kenneth',\n",
       " 'Herm',\n",
       " 'Bert',\n",
       " 'Striker',\n",
       " 'Donny',\n",
       " 'Pepper',\n",
       " 'Bernie',\n",
       " 'Buddah',\n",
       " 'Lenny',\n",
       " 'Arnold',\n",
       " 'Zuzu',\n",
       " 'Mollie',\n",
       " 'Laela',\n",
       " 'Tedders',\n",
       " 'Superpup',\n",
       " 'Rufio',\n",
       " 'Jeb',\n",
       " 'Rodman',\n",
       " 'Jonah',\n",
       " 'Chesney',\n",
       " 'Henry',\n",
       " 'Bobbay',\n",
       " 'Mitch',\n",
       " 'Kaiya',\n",
       " 'Acro',\n",
       " 'Aiden',\n",
       " 'Obie',\n",
       " 'Dot',\n",
       " 'Shnuggles',\n",
       " 'Kendall',\n",
       " 'Jeffri',\n",
       " 'Steve',\n",
       " 'Mac',\n",
       " 'Fletcher',\n",
       " 'Kenzie',\n",
       " 'Pumpkin',\n",
       " 'Schnozz',\n",
       " 'Gustaf',\n",
       " 'Cheryl',\n",
       " 'Ed',\n",
       " 'Leonidas',\n",
       " 'Norman',\n",
       " 'Caryl',\n",
       " 'Scott',\n",
       " 'Taz',\n",
       " 'Darby',\n",
       " 'Jackie',\n",
       " 'Jazz',\n",
       " 'Franq',\n",
       " 'Pippin',\n",
       " 'Rolf',\n",
       " 'Snickers',\n",
       " 'Ridley',\n",
       " 'Cal',\n",
       " 'Bradley',\n",
       " 'Bubba',\n",
       " 'Tuco',\n",
       " 'Patch',\n",
       " 'Mojo',\n",
       " 'Batdog',\n",
       " 'Dylan',\n",
       " 'Mark',\n",
       " 'JD',\n",
       " 'Alejandro',\n",
       " 'Scruffers',\n",
       " 'Pip',\n",
       " 'Julius',\n",
       " 'Tanner',\n",
       " 'Sparky',\n",
       " 'Anthony',\n",
       " 'Holly',\n",
       " 'Jett',\n",
       " 'Amy',\n",
       " 'Sage',\n",
       " 'Andy',\n",
       " 'Mason',\n",
       " 'Trigger',\n",
       " 'Antony',\n",
       " 'Creg',\n",
       " 'Traviss',\n",
       " 'Gin',\n",
       " 'Jeffrie',\n",
       " 'Danny',\n",
       " 'Ester',\n",
       " 'Pluto',\n",
       " 'Bloo',\n",
       " 'Edd',\n",
       " 'Willy',\n",
       " 'Herb',\n",
       " 'Damon',\n",
       " 'Peanut',\n",
       " 'Nigel',\n",
       " 'Butters',\n",
       " 'Sandra',\n",
       " 'Fabio',\n",
       " 'Randall',\n",
       " 'Liam',\n",
       " 'Tommy',\n",
       " 'Ben',\n",
       " 'Raphael',\n",
       " 'Julio',\n",
       " 'Andru',\n",
       " 'Kloey',\n",
       " 'Shawwn',\n",
       " 'Skye',\n",
       " 'Kollin',\n",
       " 'Ronduh',\n",
       " 'Billl',\n",
       " 'Saydee',\n",
       " 'Dug',\n",
       " 'Tessa',\n",
       " 'Sully',\n",
       " 'Kirk',\n",
       " 'Ralf',\n",
       " 'Clarq',\n",
       " 'Jaspers',\n",
       " 'Samsom',\n",
       " 'Harrison',\n",
       " 'Chaz',\n",
       " 'Jeremy',\n",
       " 'Jaycob',\n",
       " 'Lambeau',\n",
       " 'Ruffles',\n",
       " 'Amélie',\n",
       " 'Bobb',\n",
       " 'Banditt',\n",
       " 'Kevon',\n",
       " 'Winifred',\n",
       " 'Hanz',\n",
       " 'Churlie',\n",
       " 'Zeek',\n",
       " 'Timofy',\n",
       " 'Maks',\n",
       " 'Jomathan',\n",
       " 'Kallie',\n",
       " 'Marvin',\n",
       " 'Spark',\n",
       " 'Gòrdón',\n",
       " 'Jo',\n",
       " 'DayZ',\n",
       " 'Jareld',\n",
       " 'Torque',\n",
       " 'Ron',\n",
       " 'Skittles',\n",
       " 'Cleopatricia',\n",
       " 'Erik',\n",
       " 'Stu',\n",
       " 'Tedrick',\n",
       " 'Filup',\n",
       " 'Kial',\n",
       " 'Naphaniel',\n",
       " 'Dook',\n",
       " 'Hall',\n",
       " 'Philippe',\n",
       " 'Biden',\n",
       " 'Fwed',\n",
       " 'Genevieve',\n",
       " 'Joshwa',\n",
       " 'Bradlay',\n",
       " 'Clybe',\n",
       " 'Keet',\n",
       " 'Carll',\n",
       " 'Jockson',\n",
       " 'Josep',\n",
       " 'Lugan',\n",
       " 'Christoper']"
      ]
     },
     "execution_count": 134,
     "metadata": {},
     "output_type": "execute_result"
    }
   ],
   "source": [
    "#To test if the lower case \n",
    "list(merged_df['name'].unique())"
   ]
  },
  {
   "cell_type": "markdown",
   "id": "c6ebf0aa",
   "metadata": {},
   "source": [
    "##### Quality Issue 7"
   ]
  },
  {
   "cell_type": "markdown",
   "id": "b7096dce",
   "metadata": {},
   "source": [
    "##### Define\n",
    "> To change the rating_denominator to 10, so as to have a uniform denominator."
   ]
  },
  {
   "cell_type": "markdown",
   "id": "c44598e1",
   "metadata": {},
   "source": [
    "##### Code"
   ]
  },
  {
   "cell_type": "code",
   "execution_count": 135,
   "id": "5cb0599d",
   "metadata": {},
   "outputs": [],
   "source": [
    "merged_df.rating_denominator=merged_df.rating_denominator=10"
   ]
  },
  {
   "cell_type": "markdown",
   "id": "4120bb4a",
   "metadata": {},
   "source": [
    "##### Test"
   ]
  },
  {
   "cell_type": "code",
   "execution_count": 136,
   "id": "a51053d9",
   "metadata": {
    "scrolled": true
   },
   "outputs": [
    {
     "data": {
      "text/plain": [
       "10    2282\n",
       "Name: rating_denominator, dtype: int64"
      ]
     },
     "execution_count": 136,
     "metadata": {},
     "output_type": "execute_result"
    }
   ],
   "source": [
    "merged_df.rating_denominator.value_counts()"
   ]
  },
  {
   "cell_type": "markdown",
   "id": "acdb6dd1",
   "metadata": {},
   "source": [
    "##### Quality Issue 8"
   ]
  },
  {
   "cell_type": "markdown",
   "id": "e6cf9e30",
   "metadata": {},
   "source": [
    "##### Define\n",
    "> To remove the retweets."
   ]
  },
  {
   "cell_type": "markdown",
   "id": "4a01e592",
   "metadata": {},
   "source": [
    "##### Code"
   ]
  },
  {
   "cell_type": "code",
   "execution_count": 137,
   "id": "3342dece",
   "metadata": {},
   "outputs": [],
   "source": [
    "# the \"retweet_status_id\" includes the original tweet_id if there is a retweet. There are 172 retweets.\n",
    "# We keep the rows that are null and remove the retweets.\n",
    "merged_df = merged_df[merged_df.retweeted_status_id.isnull()]"
   ]
  },
  {
   "cell_type": "markdown",
   "id": "fb1fa37d",
   "metadata": {},
   "source": [
    "##### Test"
   ]
  },
  {
   "cell_type": "code",
   "execution_count": 138,
   "id": "3e60cb0b",
   "metadata": {
    "scrolled": true
   },
   "outputs": [
    {
     "name": "stdout",
     "output_type": "stream",
     "text": [
      "<class 'pandas.core.frame.DataFrame'>\n",
      "Int64Index: 2110 entries, 0 to 2355\n",
      "Data columns (total 30 columns):\n",
      " #   Column                      Non-Null Count  Dtype         \n",
      "---  ------                      --------------  -----         \n",
      " 0   tweet_id                    2110 non-null   object        \n",
      " 1   in_reply_to_status_id       77 non-null     float64       \n",
      " 2   in_reply_to_user_id         77 non-null     float64       \n",
      " 3   timestamp                   2110 non-null   datetime64[ns]\n",
      " 4   source                      2110 non-null   category      \n",
      " 5   text                        2110 non-null   object        \n",
      " 6   retweeted_status_id         0 non-null      float64       \n",
      " 7   retweeted_status_user_id    0 non-null      float64       \n",
      " 8   retweeted_status_timestamp  0 non-null      object        \n",
      " 9   expanded_urls               2052 non-null   object        \n",
      " 10  rating_numerator            2110 non-null   int64         \n",
      " 11  rating_denominator          2110 non-null   int64         \n",
      " 12  name                        1392 non-null   object        \n",
      " 13  doggo                       2110 non-null   object        \n",
      " 14  floofer                     2110 non-null   object        \n",
      " 15  pupper                      2110 non-null   object        \n",
      " 16  puppo                       2110 non-null   object        \n",
      " 17  retweet_count               2110 non-null   float64       \n",
      " 18  favorite_count              2110 non-null   float64       \n",
      " 19  jpg_url                     1930 non-null   object        \n",
      " 20  img_num                     1930 non-null   float64       \n",
      " 21  p1                          1930 non-null   object        \n",
      " 22  p1_conf                     1930 non-null   float64       \n",
      " 23  p1_dog                      1930 non-null   object        \n",
      " 24  p2                          1930 non-null   object        \n",
      " 25  p2_conf                     1930 non-null   float64       \n",
      " 26  p2_dog                      1930 non-null   object        \n",
      " 27  p3                          1930 non-null   object        \n",
      " 28  p3_conf                     1930 non-null   float64       \n",
      " 29  p3_dog                      1930 non-null   object        \n",
      "dtypes: category(1), datetime64[ns](1), float64(10), int64(2), object(16)\n",
      "memory usage: 496.8+ KB\n"
     ]
    }
   ],
   "source": [
    "merged_df.info()"
   ]
  },
  {
   "cell_type": "markdown",
   "id": "3d8e6003",
   "metadata": {},
   "source": [
    "##### Quality Issue 9"
   ]
  },
  {
   "cell_type": "markdown",
   "id": "7c4c69dc",
   "metadata": {},
   "source": [
    "##### Define\n",
    "> To remove entries with no image url."
   ]
  },
  {
   "cell_type": "markdown",
   "id": "3f90c0d0",
   "metadata": {},
   "source": [
    "##### Code"
   ]
  },
  {
   "cell_type": "code",
   "execution_count": 139,
   "id": "cf585aea",
   "metadata": {},
   "outputs": [],
   "source": [
    "# After deleting the retweets and replies we still have 126 tweets without an image, as this was one of the project's\n",
    "# requirements we will delete the tweets without an image. This time we will keep the rows with an image.\n",
    "merged_df = merged_df[merged_df.jpg_url.notnull()]"
   ]
  },
  {
   "cell_type": "markdown",
   "id": "4ad045ad",
   "metadata": {},
   "source": [
    "##### Test"
   ]
  },
  {
   "cell_type": "code",
   "execution_count": 140,
   "id": "f209d3c1",
   "metadata": {
    "scrolled": true
   },
   "outputs": [
    {
     "name": "stdout",
     "output_type": "stream",
     "text": [
      "<class 'pandas.core.frame.DataFrame'>\n",
      "Int64Index: 1930 entries, 0 to 2355\n",
      "Data columns (total 30 columns):\n",
      " #   Column                      Non-Null Count  Dtype         \n",
      "---  ------                      --------------  -----         \n",
      " 0   tweet_id                    1930 non-null   object        \n",
      " 1   in_reply_to_status_id       22 non-null     float64       \n",
      " 2   in_reply_to_user_id         22 non-null     float64       \n",
      " 3   timestamp                   1930 non-null   datetime64[ns]\n",
      " 4   source                      1930 non-null   category      \n",
      " 5   text                        1930 non-null   object        \n",
      " 6   retweeted_status_id         0 non-null      float64       \n",
      " 7   retweeted_status_user_id    0 non-null      float64       \n",
      " 8   retweeted_status_timestamp  0 non-null      object        \n",
      " 9   expanded_urls               1930 non-null   object        \n",
      " 10  rating_numerator            1930 non-null   int64         \n",
      " 11  rating_denominator          1930 non-null   int64         \n",
      " 12  name                        1351 non-null   object        \n",
      " 13  doggo                       1930 non-null   object        \n",
      " 14  floofer                     1930 non-null   object        \n",
      " 15  pupper                      1930 non-null   object        \n",
      " 16  puppo                       1930 non-null   object        \n",
      " 17  retweet_count               1930 non-null   float64       \n",
      " 18  favorite_count              1930 non-null   float64       \n",
      " 19  jpg_url                     1930 non-null   object        \n",
      " 20  img_num                     1930 non-null   float64       \n",
      " 21  p1                          1930 non-null   object        \n",
      " 22  p1_conf                     1930 non-null   float64       \n",
      " 23  p1_dog                      1930 non-null   object        \n",
      " 24  p2                          1930 non-null   object        \n",
      " 25  p2_conf                     1930 non-null   float64       \n",
      " 26  p2_dog                      1930 non-null   object        \n",
      " 27  p3                          1930 non-null   object        \n",
      " 28  p3_conf                     1930 non-null   float64       \n",
      " 29  p3_dog                      1930 non-null   object        \n",
      "dtypes: category(1), datetime64[ns](1), float64(10), int64(2), object(16)\n",
      "memory usage: 454.4+ KB\n"
     ]
    }
   ],
   "source": [
    "merged_df.info()"
   ]
  },
  {
   "cell_type": "code",
   "execution_count": 141,
   "id": "aee94f1b",
   "metadata": {
    "scrolled": true
   },
   "outputs": [
    {
     "data": {
      "text/html": [
       "<div>\n",
       "<style scoped>\n",
       "    .dataframe tbody tr th:only-of-type {\n",
       "        vertical-align: middle;\n",
       "    }\n",
       "\n",
       "    .dataframe tbody tr th {\n",
       "        vertical-align: top;\n",
       "    }\n",
       "\n",
       "    .dataframe thead th {\n",
       "        text-align: right;\n",
       "    }\n",
       "</style>\n",
       "<table border=\"1\" class=\"dataframe\">\n",
       "  <thead>\n",
       "    <tr style=\"text-align: right;\">\n",
       "      <th></th>\n",
       "      <th>tweet_id</th>\n",
       "      <th>in_reply_to_status_id</th>\n",
       "      <th>in_reply_to_user_id</th>\n",
       "      <th>timestamp</th>\n",
       "      <th>source</th>\n",
       "      <th>text</th>\n",
       "      <th>retweeted_status_id</th>\n",
       "      <th>retweeted_status_user_id</th>\n",
       "      <th>retweeted_status_timestamp</th>\n",
       "      <th>expanded_urls</th>\n",
       "      <th>rating_numerator</th>\n",
       "      <th>rating_denominator</th>\n",
       "      <th>name</th>\n",
       "      <th>doggo</th>\n",
       "      <th>floofer</th>\n",
       "      <th>pupper</th>\n",
       "      <th>puppo</th>\n",
       "      <th>retweet_count</th>\n",
       "      <th>favorite_count</th>\n",
       "      <th>jpg_url</th>\n",
       "      <th>img_num</th>\n",
       "      <th>p1</th>\n",
       "      <th>p1_conf</th>\n",
       "      <th>p1_dog</th>\n",
       "      <th>p2</th>\n",
       "      <th>p2_conf</th>\n",
       "      <th>p2_dog</th>\n",
       "      <th>p3</th>\n",
       "      <th>p3_conf</th>\n",
       "      <th>p3_dog</th>\n",
       "    </tr>\n",
       "  </thead>\n",
       "  <tbody>\n",
       "    <tr>\n",
       "      <th>1800</th>\n",
       "      <td>676975532580409345</td>\n",
       "      <td>NaN</td>\n",
       "      <td>NaN</td>\n",
       "      <td>2015-12-16 04:01:59</td>\n",
       "      <td>Twitter for iPhone</td>\n",
       "      <td>This is Cooper. He doesn't know how cheese wor...</td>\n",
       "      <td>NaN</td>\n",
       "      <td>NaN</td>\n",
       "      <td>NaN</td>\n",
       "      <td>https://twitter.com/dog_rates/status/676975532...</td>\n",
       "      <td>11</td>\n",
       "      <td>10</td>\n",
       "      <td>Cooper</td>\n",
       "      <td>None</td>\n",
       "      <td>None</td>\n",
       "      <td>None</td>\n",
       "      <td>None</td>\n",
       "      <td>1203.0</td>\n",
       "      <td>3015.0</td>\n",
       "      <td>https://pbs.twimg.com/media/CWUZpydWcAAeipD.jpg</td>\n",
       "      <td>1.0</td>\n",
       "      <td>malamute</td>\n",
       "      <td>0.363257</td>\n",
       "      <td>True</td>\n",
       "      <td>Siberian_husky</td>\n",
       "      <td>0.245862</td>\n",
       "      <td>True</td>\n",
       "      <td>Eskimo_dog</td>\n",
       "      <td>0.125547</td>\n",
       "      <td>True</td>\n",
       "    </tr>\n",
       "    <tr>\n",
       "      <th>1597</th>\n",
       "      <td>686050296934563840</td>\n",
       "      <td>NaN</td>\n",
       "      <td>NaN</td>\n",
       "      <td>2016-01-10 05:01:51</td>\n",
       "      <td>Twitter for iPhone</td>\n",
       "      <td>This is Flávio. He's a Macedonian Poppycock. 9...</td>\n",
       "      <td>NaN</td>\n",
       "      <td>NaN</td>\n",
       "      <td>NaN</td>\n",
       "      <td>https://twitter.com/dog_rates/status/686050296...</td>\n",
       "      <td>11</td>\n",
       "      <td>10</td>\n",
       "      <td>Flávio</td>\n",
       "      <td>None</td>\n",
       "      <td>None</td>\n",
       "      <td>None</td>\n",
       "      <td>None</td>\n",
       "      <td>836.0</td>\n",
       "      <td>2420.0</td>\n",
       "      <td>https://pbs.twimg.com/media/CYVXBb9WsAAwL3p.jpg</td>\n",
       "      <td>1.0</td>\n",
       "      <td>Pomeranian</td>\n",
       "      <td>0.985789</td>\n",
       "      <td>True</td>\n",
       "      <td>keeshond</td>\n",
       "      <td>0.004083</td>\n",
       "      <td>True</td>\n",
       "      <td>Pekinese</td>\n",
       "      <td>0.003334</td>\n",
       "      <td>True</td>\n",
       "    </tr>\n",
       "    <tr>\n",
       "      <th>2271</th>\n",
       "      <td>667495797102141441</td>\n",
       "      <td>NaN</td>\n",
       "      <td>NaN</td>\n",
       "      <td>2015-11-20 00:12:54</td>\n",
       "      <td>Twitter Web Client</td>\n",
       "      <td>This is Philippe from Soviet Russia. Commandin...</td>\n",
       "      <td>NaN</td>\n",
       "      <td>NaN</td>\n",
       "      <td>NaN</td>\n",
       "      <td>https://twitter.com/dog_rates/status/667495797...</td>\n",
       "      <td>9</td>\n",
       "      <td>10</td>\n",
       "      <td>Philippe</td>\n",
       "      <td>None</td>\n",
       "      <td>None</td>\n",
       "      <td>None</td>\n",
       "      <td>None</td>\n",
       "      <td>294.0</td>\n",
       "      <td>565.0</td>\n",
       "      <td>https://pbs.twimg.com/media/CUNr4-7UwAAg2lq.jpg</td>\n",
       "      <td>1.0</td>\n",
       "      <td>Chihuahua</td>\n",
       "      <td>0.143957</td>\n",
       "      <td>True</td>\n",
       "      <td>Christmas_stocking</td>\n",
       "      <td>0.118651</td>\n",
       "      <td>False</td>\n",
       "      <td>ski_mask</td>\n",
       "      <td>0.092482</td>\n",
       "      <td>False</td>\n",
       "    </tr>\n",
       "    <tr>\n",
       "      <th>585</th>\n",
       "      <td>800018252395122689</td>\n",
       "      <td>NaN</td>\n",
       "      <td>NaN</td>\n",
       "      <td>2016-11-19 16:49:49</td>\n",
       "      <td>Twitter for iPhone</td>\n",
       "      <td>Here's a doggo doin a struggle. 11/10 much det...</td>\n",
       "      <td>NaN</td>\n",
       "      <td>NaN</td>\n",
       "      <td>NaN</td>\n",
       "      <td>https://twitter.com/dog_rates/status/800018252...</td>\n",
       "      <td>11</td>\n",
       "      <td>10</td>\n",
       "      <td>NaN</td>\n",
       "      <td>doggo</td>\n",
       "      <td>None</td>\n",
       "      <td>None</td>\n",
       "      <td>None</td>\n",
       "      <td>15351.0</td>\n",
       "      <td>31768.0</td>\n",
       "      <td>https://pbs.twimg.com/ext_tw_video_thumb/80001...</td>\n",
       "      <td>1.0</td>\n",
       "      <td>vacuum</td>\n",
       "      <td>0.289485</td>\n",
       "      <td>False</td>\n",
       "      <td>punching_bag</td>\n",
       "      <td>0.243297</td>\n",
       "      <td>False</td>\n",
       "      <td>barbell</td>\n",
       "      <td>0.143630</td>\n",
       "      <td>False</td>\n",
       "    </tr>\n",
       "    <tr>\n",
       "      <th>1756</th>\n",
       "      <td>678767140346941444</td>\n",
       "      <td>NaN</td>\n",
       "      <td>NaN</td>\n",
       "      <td>2015-12-21 02:41:11</td>\n",
       "      <td>Twitter for iPhone</td>\n",
       "      <td>This is Mia. She makes awful decisions. 8/10 h...</td>\n",
       "      <td>NaN</td>\n",
       "      <td>NaN</td>\n",
       "      <td>NaN</td>\n",
       "      <td>https://twitter.com/dog_rates/status/678767140...</td>\n",
       "      <td>8</td>\n",
       "      <td>10</td>\n",
       "      <td>Mia</td>\n",
       "      <td>None</td>\n",
       "      <td>None</td>\n",
       "      <td>None</td>\n",
       "      <td>None</td>\n",
       "      <td>1553.0</td>\n",
       "      <td>3864.0</td>\n",
       "      <td>https://pbs.twimg.com/media/CWt3G6EVEAIGEPr.jpg</td>\n",
       "      <td>1.0</td>\n",
       "      <td>harp</td>\n",
       "      <td>0.821120</td>\n",
       "      <td>False</td>\n",
       "      <td>window_screen</td>\n",
       "      <td>0.025121</td>\n",
       "      <td>False</td>\n",
       "      <td>mosquito_net</td>\n",
       "      <td>0.016716</td>\n",
       "      <td>False</td>\n",
       "    </tr>\n",
       "    <tr>\n",
       "      <th>844</th>\n",
       "      <td>766693177336135680</td>\n",
       "      <td>NaN</td>\n",
       "      <td>NaN</td>\n",
       "      <td>2016-08-19 17:47:52</td>\n",
       "      <td>Twitter for iPhone</td>\n",
       "      <td>This is Brudge. He's a Doberdog. Going to be h...</td>\n",
       "      <td>NaN</td>\n",
       "      <td>NaN</td>\n",
       "      <td>NaN</td>\n",
       "      <td>https://twitter.com/dog_rates/status/766693177...</td>\n",
       "      <td>11</td>\n",
       "      <td>10</td>\n",
       "      <td>Brudge</td>\n",
       "      <td>None</td>\n",
       "      <td>None</td>\n",
       "      <td>None</td>\n",
       "      <td>None</td>\n",
       "      <td>918.0</td>\n",
       "      <td>4484.0</td>\n",
       "      <td>https://pbs.twimg.com/media/CqPXYLLXEAAU2HC.jpg</td>\n",
       "      <td>1.0</td>\n",
       "      <td>Doberman</td>\n",
       "      <td>0.948355</td>\n",
       "      <td>True</td>\n",
       "      <td>vizsla</td>\n",
       "      <td>0.015032</td>\n",
       "      <td>True</td>\n",
       "      <td>Rhodesian_ridgeback</td>\n",
       "      <td>0.009631</td>\n",
       "      <td>True</td>\n",
       "    </tr>\n",
       "    <tr>\n",
       "      <th>693</th>\n",
       "      <td>786963064373534720</td>\n",
       "      <td>NaN</td>\n",
       "      <td>NaN</td>\n",
       "      <td>2016-10-14 16:13:10</td>\n",
       "      <td>Twitter for iPhone</td>\n",
       "      <td>This is Rory. He's got an interview in a few m...</td>\n",
       "      <td>NaN</td>\n",
       "      <td>NaN</td>\n",
       "      <td>NaN</td>\n",
       "      <td>https://twitter.com/dog_rates/status/786963064...</td>\n",
       "      <td>12</td>\n",
       "      <td>10</td>\n",
       "      <td>Rory</td>\n",
       "      <td>None</td>\n",
       "      <td>None</td>\n",
       "      <td>None</td>\n",
       "      <td>None</td>\n",
       "      <td>9327.0</td>\n",
       "      <td>29725.0</td>\n",
       "      <td>https://pbs.twimg.com/media/Cuvau3MW8AAxaRv.jpg</td>\n",
       "      <td>1.0</td>\n",
       "      <td>golden_retriever</td>\n",
       "      <td>0.915303</td>\n",
       "      <td>True</td>\n",
       "      <td>Saluki</td>\n",
       "      <td>0.046213</td>\n",
       "      <td>True</td>\n",
       "      <td>Labrador_retriever</td>\n",
       "      <td>0.037504</td>\n",
       "      <td>True</td>\n",
       "    </tr>\n",
       "    <tr>\n",
       "      <th>376</th>\n",
       "      <td>828046555563323392</td>\n",
       "      <td>NaN</td>\n",
       "      <td>NaN</td>\n",
       "      <td>2017-02-05 01:04:17</td>\n",
       "      <td>Twitter for iPhone</td>\n",
       "      <td>This is Sailer. He waits on the roof for his o...</td>\n",
       "      <td>NaN</td>\n",
       "      <td>NaN</td>\n",
       "      <td>NaN</td>\n",
       "      <td>https://twitter.com/dog_rates/status/828046555...</td>\n",
       "      <td>13</td>\n",
       "      <td>10</td>\n",
       "      <td>Sailer</td>\n",
       "      <td>None</td>\n",
       "      <td>None</td>\n",
       "      <td>None</td>\n",
       "      <td>None</td>\n",
       "      <td>3260.0</td>\n",
       "      <td>12923.0</td>\n",
       "      <td>https://pbs.twimg.com/media/C33P8PrUcAMiQQs.jpg</td>\n",
       "      <td>3.0</td>\n",
       "      <td>patio</td>\n",
       "      <td>0.272972</td>\n",
       "      <td>False</td>\n",
       "      <td>window_screen</td>\n",
       "      <td>0.131295</td>\n",
       "      <td>False</td>\n",
       "      <td>boathouse</td>\n",
       "      <td>0.046393</td>\n",
       "      <td>False</td>\n",
       "    </tr>\n",
       "    <tr>\n",
       "      <th>1985</th>\n",
       "      <td>672898206762672129</td>\n",
       "      <td>NaN</td>\n",
       "      <td>NaN</td>\n",
       "      <td>2015-12-04 22:00:08</td>\n",
       "      <td>Twitter for iPhone</td>\n",
       "      <td>This is Cheryl AKA Queen Pupper of the Skies. ...</td>\n",
       "      <td>NaN</td>\n",
       "      <td>NaN</td>\n",
       "      <td>NaN</td>\n",
       "      <td>https://twitter.com/dog_rates/status/672898206...</td>\n",
       "      <td>11</td>\n",
       "      <td>10</td>\n",
       "      <td>Cheryl</td>\n",
       "      <td>None</td>\n",
       "      <td>None</td>\n",
       "      <td>pupper</td>\n",
       "      <td>None</td>\n",
       "      <td>459.0</td>\n",
       "      <td>944.0</td>\n",
       "      <td>https://pbs.twimg.com/media/CVadWcCXIAAL4Sh.jpg</td>\n",
       "      <td>1.0</td>\n",
       "      <td>motor_scooter</td>\n",
       "      <td>0.835819</td>\n",
       "      <td>False</td>\n",
       "      <td>bobsled</td>\n",
       "      <td>0.035856</td>\n",
       "      <td>False</td>\n",
       "      <td>moped</td>\n",
       "      <td>0.033079</td>\n",
       "      <td>False</td>\n",
       "    </tr>\n",
       "    <tr>\n",
       "      <th>223</th>\n",
       "      <td>849412302885593088</td>\n",
       "      <td>NaN</td>\n",
       "      <td>NaN</td>\n",
       "      <td>2017-04-05 00:04:08</td>\n",
       "      <td>Twitter for iPhone</td>\n",
       "      <td>This is Noosh. He noticed you were in the show...</td>\n",
       "      <td>NaN</td>\n",
       "      <td>NaN</td>\n",
       "      <td>NaN</td>\n",
       "      <td>https://twitter.com/dog_rates/status/849412302...</td>\n",
       "      <td>12</td>\n",
       "      <td>10</td>\n",
       "      <td>Noosh</td>\n",
       "      <td>None</td>\n",
       "      <td>None</td>\n",
       "      <td>None</td>\n",
       "      <td>None</td>\n",
       "      <td>3487.0</td>\n",
       "      <td>17039.0</td>\n",
       "      <td>https://pbs.twimg.com/media/C8m3-iQVoAAETnF.jpg</td>\n",
       "      <td>4.0</td>\n",
       "      <td>schipperke</td>\n",
       "      <td>0.907559</td>\n",
       "      <td>True</td>\n",
       "      <td>crossword_puzzle</td>\n",
       "      <td>0.017934</td>\n",
       "      <td>False</td>\n",
       "      <td>Chihuahua</td>\n",
       "      <td>0.016191</td>\n",
       "      <td>True</td>\n",
       "    </tr>\n",
       "  </tbody>\n",
       "</table>\n",
       "</div>"
      ],
      "text/plain": [
       "                tweet_id  in_reply_to_status_id  in_reply_to_user_id  \\\n",
       "1800  676975532580409345                    NaN                  NaN   \n",
       "1597  686050296934563840                    NaN                  NaN   \n",
       "2271  667495797102141441                    NaN                  NaN   \n",
       "585   800018252395122689                    NaN                  NaN   \n",
       "1756  678767140346941444                    NaN                  NaN   \n",
       "844   766693177336135680                    NaN                  NaN   \n",
       "693   786963064373534720                    NaN                  NaN   \n",
       "376   828046555563323392                    NaN                  NaN   \n",
       "1985  672898206762672129                    NaN                  NaN   \n",
       "223   849412302885593088                    NaN                  NaN   \n",
       "\n",
       "               timestamp              source  \\\n",
       "1800 2015-12-16 04:01:59  Twitter for iPhone   \n",
       "1597 2016-01-10 05:01:51  Twitter for iPhone   \n",
       "2271 2015-11-20 00:12:54  Twitter Web Client   \n",
       "585  2016-11-19 16:49:49  Twitter for iPhone   \n",
       "1756 2015-12-21 02:41:11  Twitter for iPhone   \n",
       "844  2016-08-19 17:47:52  Twitter for iPhone   \n",
       "693  2016-10-14 16:13:10  Twitter for iPhone   \n",
       "376  2017-02-05 01:04:17  Twitter for iPhone   \n",
       "1985 2015-12-04 22:00:08  Twitter for iPhone   \n",
       "223  2017-04-05 00:04:08  Twitter for iPhone   \n",
       "\n",
       "                                                   text  retweeted_status_id  \\\n",
       "1800  This is Cooper. He doesn't know how cheese wor...                  NaN   \n",
       "1597  This is Flávio. He's a Macedonian Poppycock. 9...                  NaN   \n",
       "2271  This is Philippe from Soviet Russia. Commandin...                  NaN   \n",
       "585   Here's a doggo doin a struggle. 11/10 much det...                  NaN   \n",
       "1756  This is Mia. She makes awful decisions. 8/10 h...                  NaN   \n",
       "844   This is Brudge. He's a Doberdog. Going to be h...                  NaN   \n",
       "693   This is Rory. He's got an interview in a few m...                  NaN   \n",
       "376   This is Sailer. He waits on the roof for his o...                  NaN   \n",
       "1985  This is Cheryl AKA Queen Pupper of the Skies. ...                  NaN   \n",
       "223   This is Noosh. He noticed you were in the show...                  NaN   \n",
       "\n",
       "      retweeted_status_user_id retweeted_status_timestamp  \\\n",
       "1800                       NaN                        NaN   \n",
       "1597                       NaN                        NaN   \n",
       "2271                       NaN                        NaN   \n",
       "585                        NaN                        NaN   \n",
       "1756                       NaN                        NaN   \n",
       "844                        NaN                        NaN   \n",
       "693                        NaN                        NaN   \n",
       "376                        NaN                        NaN   \n",
       "1985                       NaN                        NaN   \n",
       "223                        NaN                        NaN   \n",
       "\n",
       "                                          expanded_urls  rating_numerator  \\\n",
       "1800  https://twitter.com/dog_rates/status/676975532...                11   \n",
       "1597  https://twitter.com/dog_rates/status/686050296...                11   \n",
       "2271  https://twitter.com/dog_rates/status/667495797...                 9   \n",
       "585   https://twitter.com/dog_rates/status/800018252...                11   \n",
       "1756  https://twitter.com/dog_rates/status/678767140...                 8   \n",
       "844   https://twitter.com/dog_rates/status/766693177...                11   \n",
       "693   https://twitter.com/dog_rates/status/786963064...                12   \n",
       "376   https://twitter.com/dog_rates/status/828046555...                13   \n",
       "1985  https://twitter.com/dog_rates/status/672898206...                11   \n",
       "223   https://twitter.com/dog_rates/status/849412302...                12   \n",
       "\n",
       "      rating_denominator      name  doggo floofer  pupper puppo  \\\n",
       "1800                  10    Cooper   None    None    None  None   \n",
       "1597                  10    Flávio   None    None    None  None   \n",
       "2271                  10  Philippe   None    None    None  None   \n",
       "585                   10       NaN  doggo    None    None  None   \n",
       "1756                  10       Mia   None    None    None  None   \n",
       "844                   10    Brudge   None    None    None  None   \n",
       "693                   10      Rory   None    None    None  None   \n",
       "376                   10    Sailer   None    None    None  None   \n",
       "1985                  10    Cheryl   None    None  pupper  None   \n",
       "223                   10     Noosh   None    None    None  None   \n",
       "\n",
       "      retweet_count  favorite_count  \\\n",
       "1800         1203.0          3015.0   \n",
       "1597          836.0          2420.0   \n",
       "2271          294.0           565.0   \n",
       "585         15351.0         31768.0   \n",
       "1756         1553.0          3864.0   \n",
       "844           918.0          4484.0   \n",
       "693          9327.0         29725.0   \n",
       "376          3260.0         12923.0   \n",
       "1985          459.0           944.0   \n",
       "223          3487.0         17039.0   \n",
       "\n",
       "                                                jpg_url  img_num  \\\n",
       "1800    https://pbs.twimg.com/media/CWUZpydWcAAeipD.jpg      1.0   \n",
       "1597    https://pbs.twimg.com/media/CYVXBb9WsAAwL3p.jpg      1.0   \n",
       "2271    https://pbs.twimg.com/media/CUNr4-7UwAAg2lq.jpg      1.0   \n",
       "585   https://pbs.twimg.com/ext_tw_video_thumb/80001...      1.0   \n",
       "1756    https://pbs.twimg.com/media/CWt3G6EVEAIGEPr.jpg      1.0   \n",
       "844     https://pbs.twimg.com/media/CqPXYLLXEAAU2HC.jpg      1.0   \n",
       "693     https://pbs.twimg.com/media/Cuvau3MW8AAxaRv.jpg      1.0   \n",
       "376     https://pbs.twimg.com/media/C33P8PrUcAMiQQs.jpg      3.0   \n",
       "1985    https://pbs.twimg.com/media/CVadWcCXIAAL4Sh.jpg      1.0   \n",
       "223     https://pbs.twimg.com/media/C8m3-iQVoAAETnF.jpg      4.0   \n",
       "\n",
       "                    p1   p1_conf p1_dog                  p2   p2_conf p2_dog  \\\n",
       "1800          malamute  0.363257   True      Siberian_husky  0.245862   True   \n",
       "1597        Pomeranian  0.985789   True            keeshond  0.004083   True   \n",
       "2271         Chihuahua  0.143957   True  Christmas_stocking  0.118651  False   \n",
       "585             vacuum  0.289485  False        punching_bag  0.243297  False   \n",
       "1756              harp  0.821120  False       window_screen  0.025121  False   \n",
       "844           Doberman  0.948355   True              vizsla  0.015032   True   \n",
       "693   golden_retriever  0.915303   True              Saluki  0.046213   True   \n",
       "376              patio  0.272972  False       window_screen  0.131295  False   \n",
       "1985     motor_scooter  0.835819  False             bobsled  0.035856  False   \n",
       "223         schipperke  0.907559   True    crossword_puzzle  0.017934  False   \n",
       "\n",
       "                       p3   p3_conf p3_dog  \n",
       "1800           Eskimo_dog  0.125547   True  \n",
       "1597             Pekinese  0.003334   True  \n",
       "2271             ski_mask  0.092482  False  \n",
       "585               barbell  0.143630  False  \n",
       "1756         mosquito_net  0.016716  False  \n",
       "844   Rhodesian_ridgeback  0.009631   True  \n",
       "693    Labrador_retriever  0.037504   True  \n",
       "376             boathouse  0.046393  False  \n",
       "1985                moped  0.033079  False  \n",
       "223             Chihuahua  0.016191   True  "
      ]
     },
     "execution_count": 141,
     "metadata": {},
     "output_type": "execute_result"
    }
   ],
   "source": [
    "merged_df.sample(10)"
   ]
  },
  {
   "cell_type": "markdown",
   "id": "dda557be",
   "metadata": {},
   "source": [
    "##### Tideness Issue 1"
   ]
  },
  {
   "cell_type": "markdown",
   "id": "2fbc49e7",
   "metadata": {},
   "source": [
    "##### Define\n",
    "> To merge dog stages, so that we can have a single column."
   ]
  },
  {
   "cell_type": "markdown",
   "id": "35a05fa9",
   "metadata": {},
   "source": [
    "##### Code"
   ]
  },
  {
   "cell_type": "code",
   "execution_count": 142,
   "id": "0231aceb",
   "metadata": {},
   "outputs": [],
   "source": [
    "# Melt the 4 columns into a column'types' to be deleted and a value'dog_type'column to keep.\n",
    "merged_df['dog_stage'] = merged_df[\"doggo\"] + merged_df[\"floofer\"] +  merged_df[\"pupper\"]+ merged_df[\"puppo\"]"
   ]
  },
  {
   "cell_type": "code",
   "execution_count": 143,
   "id": "7ea782a1",
   "metadata": {},
   "outputs": [
    {
     "data": {
      "text/plain": [
       "NoneNoneNoneNone       1625\n",
       "NoneNonepupperNone      203\n",
       "doggoNoneNoneNone        63\n",
       "NoneNoneNonepuppo        22\n",
       "doggoNonepupperNone       9\n",
       "NoneflooferNoneNone       7\n",
       "doggoNoneNonepuppo        1\n",
       "Name: dog_stage, dtype: int64"
      ]
     },
     "execution_count": 143,
     "metadata": {},
     "output_type": "execute_result"
    }
   ],
   "source": [
    "merged_df.dog_stage.value_counts()"
   ]
  },
  {
   "cell_type": "code",
   "execution_count": 144,
   "id": "fa8b5f38",
   "metadata": {},
   "outputs": [],
   "source": [
    "# We write a function to rename each entry appropriately\n",
    "def func(i):\n",
    "    if i == \"NoneNoneNoneNone\":\n",
    "        return \"None\"\n",
    "    elif i == \"NoneNonepupperNone\":\n",
    "        return \"pupper\"\n",
    "    elif i == \"doggoNoneNoneNone\":\n",
    "        return \"doggo\"\n",
    "    elif i == \"NoneNoneNonepuppo\":\n",
    "        return \"puppo\"\n",
    "    elif i == \"doggoNonepupperNone\":\n",
    "        return \"doggo/pupper\"\n",
    "    elif i == \"NoneflooferNoneNone\":\n",
    "        return \"floofer\"\n",
    "    elif i == \"doggoNoneNonepuppo\":\n",
    "        return \"doggo/puppo\"\n",
    "merged_df[\"dog_stage\"] = merged_df[\"dog_stage\"].apply(lambda x : func(x))"
   ]
  },
  {
   "cell_type": "markdown",
   "id": "92934107",
   "metadata": {},
   "source": [
    "##### Test"
   ]
  },
  {
   "cell_type": "code",
   "execution_count": 145,
   "id": "c47aaad8",
   "metadata": {
    "scrolled": true
   },
   "outputs": [
    {
     "data": {
      "text/plain": [
       "None            1625\n",
       "pupper           203\n",
       "doggo             63\n",
       "puppo             22\n",
       "doggo/pupper       9\n",
       "floofer            7\n",
       "doggo/puppo        1\n",
       "Name: dog_stage, dtype: int64"
      ]
     },
     "execution_count": 145,
     "metadata": {},
     "output_type": "execute_result"
    }
   ],
   "source": [
    "merged_df.dog_stage.value_counts()"
   ]
  },
  {
   "cell_type": "markdown",
   "id": "a1d89e2f",
   "metadata": {},
   "source": [
    "##### Tideness Issue 3"
   ]
  },
  {
   "cell_type": "markdown",
   "id": "1cfbfd5c",
   "metadata": {},
   "source": [
    "##### Define\n",
    "> To determine dog breed and the probability of prediction being true."
   ]
  },
  {
   "cell_type": "markdown",
   "id": "d7e1508c",
   "metadata": {},
   "source": [
    "##### Code"
   ]
  },
  {
   "cell_type": "code",
   "execution_count": 146,
   "id": "63bc1b78",
   "metadata": {},
   "outputs": [],
   "source": [
    "# create 2 empty lists to save our choice for each row in the dataset\n",
    "breed = []\n",
    "confidence = []\n",
    "\n",
    "# function that iterates through prediction columns to find the best prediction which is a breed of dog.\n",
    "def breed_confidence(row):\n",
    "    if row['p1_dog'] == True:\n",
    "        breed.append(row['p1'])\n",
    "        confidence.append(row['p1_conf'])\n",
    "    elif row['p2_dog'] == True:\n",
    "        breed.append(row['p2'])\n",
    "        confidence.append(row['p2_conf'])\n",
    "    elif row['p3_dog'] == True:\n",
    "        breed.append(row['p3'])\n",
    "        confidence.append(row['p3_conf'])\n",
    "    else:\n",
    "        breed.append(np.nan)\n",
    "        confidence.append(0)\n",
    "        \n",
    "# call function using pandas apply by columns\n",
    "merged_df.apply(breed_confidence, axis=1)\n",
    "\n",
    "# add lists created to master dataframe\n",
    "merged_df['breed'] = breed\n",
    "merged_df['confidence'] = confidence"
   ]
  },
  {
   "cell_type": "markdown",
   "id": "6861f586",
   "metadata": {},
   "source": [
    "##### Test"
   ]
  },
  {
   "cell_type": "code",
   "execution_count": 147,
   "id": "242c4c0e",
   "metadata": {},
   "outputs": [],
   "source": [
    "pd.set_option(\"display.max_columns\", None)"
   ]
  },
  {
   "cell_type": "code",
   "execution_count": 148,
   "id": "91ac36d8",
   "metadata": {
    "scrolled": true
   },
   "outputs": [
    {
     "data": {
      "text/html": [
       "<div>\n",
       "<style scoped>\n",
       "    .dataframe tbody tr th:only-of-type {\n",
       "        vertical-align: middle;\n",
       "    }\n",
       "\n",
       "    .dataframe tbody tr th {\n",
       "        vertical-align: top;\n",
       "    }\n",
       "\n",
       "    .dataframe thead th {\n",
       "        text-align: right;\n",
       "    }\n",
       "</style>\n",
       "<table border=\"1\" class=\"dataframe\">\n",
       "  <thead>\n",
       "    <tr style=\"text-align: right;\">\n",
       "      <th></th>\n",
       "      <th>tweet_id</th>\n",
       "      <th>in_reply_to_status_id</th>\n",
       "      <th>in_reply_to_user_id</th>\n",
       "      <th>timestamp</th>\n",
       "      <th>source</th>\n",
       "      <th>text</th>\n",
       "      <th>retweeted_status_id</th>\n",
       "      <th>retweeted_status_user_id</th>\n",
       "      <th>retweeted_status_timestamp</th>\n",
       "      <th>expanded_urls</th>\n",
       "      <th>rating_numerator</th>\n",
       "      <th>rating_denominator</th>\n",
       "      <th>name</th>\n",
       "      <th>doggo</th>\n",
       "      <th>floofer</th>\n",
       "      <th>pupper</th>\n",
       "      <th>puppo</th>\n",
       "      <th>retweet_count</th>\n",
       "      <th>favorite_count</th>\n",
       "      <th>jpg_url</th>\n",
       "      <th>img_num</th>\n",
       "      <th>p1</th>\n",
       "      <th>p1_conf</th>\n",
       "      <th>p1_dog</th>\n",
       "      <th>p2</th>\n",
       "      <th>p2_conf</th>\n",
       "      <th>p2_dog</th>\n",
       "      <th>p3</th>\n",
       "      <th>p3_conf</th>\n",
       "      <th>p3_dog</th>\n",
       "      <th>dog_stage</th>\n",
       "      <th>breed</th>\n",
       "      <th>confidence</th>\n",
       "    </tr>\n",
       "  </thead>\n",
       "  <tbody>\n",
       "    <tr>\n",
       "      <th>0</th>\n",
       "      <td>892420643555336193</td>\n",
       "      <td>NaN</td>\n",
       "      <td>NaN</td>\n",
       "      <td>2017-08-01 16:23:56</td>\n",
       "      <td>Twitter for iPhone</td>\n",
       "      <td>This is Phineas. He's a mystical boy. Only eve...</td>\n",
       "      <td>NaN</td>\n",
       "      <td>NaN</td>\n",
       "      <td>NaN</td>\n",
       "      <td>https://twitter.com/dog_rates/status/892420643...</td>\n",
       "      <td>13</td>\n",
       "      <td>10</td>\n",
       "      <td>Phineas</td>\n",
       "      <td>None</td>\n",
       "      <td>None</td>\n",
       "      <td>None</td>\n",
       "      <td>None</td>\n",
       "      <td>8853.0</td>\n",
       "      <td>39467.0</td>\n",
       "      <td>https://pbs.twimg.com/media/DGKD1-bXoAAIAUK.jpg</td>\n",
       "      <td>1.0</td>\n",
       "      <td>orange</td>\n",
       "      <td>0.097049</td>\n",
       "      <td>False</td>\n",
       "      <td>bagel</td>\n",
       "      <td>0.085851</td>\n",
       "      <td>False</td>\n",
       "      <td>banana</td>\n",
       "      <td>0.076110</td>\n",
       "      <td>False</td>\n",
       "      <td>None</td>\n",
       "      <td>NaN</td>\n",
       "      <td>0.000000</td>\n",
       "    </tr>\n",
       "    <tr>\n",
       "      <th>1</th>\n",
       "      <td>892177421306343426</td>\n",
       "      <td>NaN</td>\n",
       "      <td>NaN</td>\n",
       "      <td>2017-08-01 00:17:27</td>\n",
       "      <td>Twitter for iPhone</td>\n",
       "      <td>This is Tilly. She's just checking pup on you....</td>\n",
       "      <td>NaN</td>\n",
       "      <td>NaN</td>\n",
       "      <td>NaN</td>\n",
       "      <td>https://twitter.com/dog_rates/status/892177421...</td>\n",
       "      <td>13</td>\n",
       "      <td>10</td>\n",
       "      <td>Tilly</td>\n",
       "      <td>None</td>\n",
       "      <td>None</td>\n",
       "      <td>None</td>\n",
       "      <td>None</td>\n",
       "      <td>6514.0</td>\n",
       "      <td>33819.0</td>\n",
       "      <td>https://pbs.twimg.com/media/DGGmoV4XsAAUL6n.jpg</td>\n",
       "      <td>1.0</td>\n",
       "      <td>Chihuahua</td>\n",
       "      <td>0.323581</td>\n",
       "      <td>True</td>\n",
       "      <td>Pekinese</td>\n",
       "      <td>0.090647</td>\n",
       "      <td>True</td>\n",
       "      <td>papillon</td>\n",
       "      <td>0.068957</td>\n",
       "      <td>True</td>\n",
       "      <td>None</td>\n",
       "      <td>Chihuahua</td>\n",
       "      <td>0.323581</td>\n",
       "    </tr>\n",
       "    <tr>\n",
       "      <th>2</th>\n",
       "      <td>891815181378084864</td>\n",
       "      <td>NaN</td>\n",
       "      <td>NaN</td>\n",
       "      <td>2017-07-31 00:18:03</td>\n",
       "      <td>Twitter for iPhone</td>\n",
       "      <td>This is Archie. He is a rare Norwegian Pouncin...</td>\n",
       "      <td>NaN</td>\n",
       "      <td>NaN</td>\n",
       "      <td>NaN</td>\n",
       "      <td>https://twitter.com/dog_rates/status/891815181...</td>\n",
       "      <td>12</td>\n",
       "      <td>10</td>\n",
       "      <td>Archie</td>\n",
       "      <td>None</td>\n",
       "      <td>None</td>\n",
       "      <td>None</td>\n",
       "      <td>None</td>\n",
       "      <td>4328.0</td>\n",
       "      <td>25461.0</td>\n",
       "      <td>https://pbs.twimg.com/media/DGBdLU1WsAANxJ9.jpg</td>\n",
       "      <td>1.0</td>\n",
       "      <td>Chihuahua</td>\n",
       "      <td>0.716012</td>\n",
       "      <td>True</td>\n",
       "      <td>malamute</td>\n",
       "      <td>0.078253</td>\n",
       "      <td>True</td>\n",
       "      <td>kelpie</td>\n",
       "      <td>0.031379</td>\n",
       "      <td>True</td>\n",
       "      <td>None</td>\n",
       "      <td>Chihuahua</td>\n",
       "      <td>0.716012</td>\n",
       "    </tr>\n",
       "    <tr>\n",
       "      <th>3</th>\n",
       "      <td>891689557279858688</td>\n",
       "      <td>NaN</td>\n",
       "      <td>NaN</td>\n",
       "      <td>2017-07-30 15:58:51</td>\n",
       "      <td>Twitter for iPhone</td>\n",
       "      <td>This is Darla. She commenced a snooze mid meal...</td>\n",
       "      <td>NaN</td>\n",
       "      <td>NaN</td>\n",
       "      <td>NaN</td>\n",
       "      <td>https://twitter.com/dog_rates/status/891689557...</td>\n",
       "      <td>13</td>\n",
       "      <td>10</td>\n",
       "      <td>Darla</td>\n",
       "      <td>None</td>\n",
       "      <td>None</td>\n",
       "      <td>None</td>\n",
       "      <td>None</td>\n",
       "      <td>8964.0</td>\n",
       "      <td>42908.0</td>\n",
       "      <td>https://pbs.twimg.com/media/DF_q7IAWsAEuuN8.jpg</td>\n",
       "      <td>1.0</td>\n",
       "      <td>paper_towel</td>\n",
       "      <td>0.170278</td>\n",
       "      <td>False</td>\n",
       "      <td>Labrador_retriever</td>\n",
       "      <td>0.168086</td>\n",
       "      <td>True</td>\n",
       "      <td>spatula</td>\n",
       "      <td>0.040836</td>\n",
       "      <td>False</td>\n",
       "      <td>None</td>\n",
       "      <td>Labrador_retriever</td>\n",
       "      <td>0.168086</td>\n",
       "    </tr>\n",
       "    <tr>\n",
       "      <th>4</th>\n",
       "      <td>891327558926688256</td>\n",
       "      <td>NaN</td>\n",
       "      <td>NaN</td>\n",
       "      <td>2017-07-29 16:00:24</td>\n",
       "      <td>Twitter for iPhone</td>\n",
       "      <td>This is Franklin. He would like you to stop ca...</td>\n",
       "      <td>NaN</td>\n",
       "      <td>NaN</td>\n",
       "      <td>NaN</td>\n",
       "      <td>https://twitter.com/dog_rates/status/891327558...</td>\n",
       "      <td>12</td>\n",
       "      <td>10</td>\n",
       "      <td>Franklin</td>\n",
       "      <td>None</td>\n",
       "      <td>None</td>\n",
       "      <td>None</td>\n",
       "      <td>None</td>\n",
       "      <td>9774.0</td>\n",
       "      <td>41048.0</td>\n",
       "      <td>https://pbs.twimg.com/media/DF6hr6BUMAAzZgT.jpg</td>\n",
       "      <td>2.0</td>\n",
       "      <td>basset</td>\n",
       "      <td>0.555712</td>\n",
       "      <td>True</td>\n",
       "      <td>English_springer</td>\n",
       "      <td>0.225770</td>\n",
       "      <td>True</td>\n",
       "      <td>German_short-haired_pointer</td>\n",
       "      <td>0.175219</td>\n",
       "      <td>True</td>\n",
       "      <td>None</td>\n",
       "      <td>basset</td>\n",
       "      <td>0.555712</td>\n",
       "    </tr>\n",
       "  </tbody>\n",
       "</table>\n",
       "</div>"
      ],
      "text/plain": [
       "             tweet_id  in_reply_to_status_id  in_reply_to_user_id  \\\n",
       "0  892420643555336193                    NaN                  NaN   \n",
       "1  892177421306343426                    NaN                  NaN   \n",
       "2  891815181378084864                    NaN                  NaN   \n",
       "3  891689557279858688                    NaN                  NaN   \n",
       "4  891327558926688256                    NaN                  NaN   \n",
       "\n",
       "            timestamp              source  \\\n",
       "0 2017-08-01 16:23:56  Twitter for iPhone   \n",
       "1 2017-08-01 00:17:27  Twitter for iPhone   \n",
       "2 2017-07-31 00:18:03  Twitter for iPhone   \n",
       "3 2017-07-30 15:58:51  Twitter for iPhone   \n",
       "4 2017-07-29 16:00:24  Twitter for iPhone   \n",
       "\n",
       "                                                text  retweeted_status_id  \\\n",
       "0  This is Phineas. He's a mystical boy. Only eve...                  NaN   \n",
       "1  This is Tilly. She's just checking pup on you....                  NaN   \n",
       "2  This is Archie. He is a rare Norwegian Pouncin...                  NaN   \n",
       "3  This is Darla. She commenced a snooze mid meal...                  NaN   \n",
       "4  This is Franklin. He would like you to stop ca...                  NaN   \n",
       "\n",
       "   retweeted_status_user_id retweeted_status_timestamp  \\\n",
       "0                       NaN                        NaN   \n",
       "1                       NaN                        NaN   \n",
       "2                       NaN                        NaN   \n",
       "3                       NaN                        NaN   \n",
       "4                       NaN                        NaN   \n",
       "\n",
       "                                       expanded_urls  rating_numerator  \\\n",
       "0  https://twitter.com/dog_rates/status/892420643...                13   \n",
       "1  https://twitter.com/dog_rates/status/892177421...                13   \n",
       "2  https://twitter.com/dog_rates/status/891815181...                12   \n",
       "3  https://twitter.com/dog_rates/status/891689557...                13   \n",
       "4  https://twitter.com/dog_rates/status/891327558...                12   \n",
       "\n",
       "   rating_denominator      name doggo floofer pupper puppo  retweet_count  \\\n",
       "0                  10   Phineas  None    None   None  None         8853.0   \n",
       "1                  10     Tilly  None    None   None  None         6514.0   \n",
       "2                  10    Archie  None    None   None  None         4328.0   \n",
       "3                  10     Darla  None    None   None  None         8964.0   \n",
       "4                  10  Franklin  None    None   None  None         9774.0   \n",
       "\n",
       "   favorite_count                                          jpg_url  img_num  \\\n",
       "0         39467.0  https://pbs.twimg.com/media/DGKD1-bXoAAIAUK.jpg      1.0   \n",
       "1         33819.0  https://pbs.twimg.com/media/DGGmoV4XsAAUL6n.jpg      1.0   \n",
       "2         25461.0  https://pbs.twimg.com/media/DGBdLU1WsAANxJ9.jpg      1.0   \n",
       "3         42908.0  https://pbs.twimg.com/media/DF_q7IAWsAEuuN8.jpg      1.0   \n",
       "4         41048.0  https://pbs.twimg.com/media/DF6hr6BUMAAzZgT.jpg      2.0   \n",
       "\n",
       "            p1   p1_conf p1_dog                  p2   p2_conf p2_dog  \\\n",
       "0       orange  0.097049  False               bagel  0.085851  False   \n",
       "1    Chihuahua  0.323581   True            Pekinese  0.090647   True   \n",
       "2    Chihuahua  0.716012   True            malamute  0.078253   True   \n",
       "3  paper_towel  0.170278  False  Labrador_retriever  0.168086   True   \n",
       "4       basset  0.555712   True    English_springer  0.225770   True   \n",
       "\n",
       "                            p3   p3_conf p3_dog dog_stage               breed  \\\n",
       "0                       banana  0.076110  False      None                 NaN   \n",
       "1                     papillon  0.068957   True      None           Chihuahua   \n",
       "2                       kelpie  0.031379   True      None           Chihuahua   \n",
       "3                      spatula  0.040836  False      None  Labrador_retriever   \n",
       "4  German_short-haired_pointer  0.175219   True      None              basset   \n",
       "\n",
       "   confidence  \n",
       "0    0.000000  \n",
       "1    0.323581  \n",
       "2    0.716012  \n",
       "3    0.168086  \n",
       "4    0.555712  "
      ]
     },
     "execution_count": 148,
     "metadata": {},
     "output_type": "execute_result"
    }
   ],
   "source": [
    "merged_df.head()"
   ]
  },
  {
   "cell_type": "markdown",
   "id": "e28171ff",
   "metadata": {},
   "source": [
    "##### Quality Issue 10"
   ]
  },
  {
   "cell_type": "markdown",
   "id": "5ba31746",
   "metadata": {},
   "source": [
    "##### Define: \n",
    "> Dropping unnecessary columns"
   ]
  },
  {
   "cell_type": "markdown",
   "id": "b0b79c83",
   "metadata": {},
   "source": [
    "##### Code"
   ]
  },
  {
   "cell_type": "code",
   "execution_count": 149,
   "id": "1e90177b",
   "metadata": {},
   "outputs": [],
   "source": [
    "# Drop predictions and prediction probability columns and the different dog stage columns\n",
    "merged_df = merged_df.drop(['doggo','floofer','pupper','puppo','p1','p1_conf','p1_dog','p2','p2_conf','p2_dog','p3','p3_conf','p3_dog', 'in_reply_to_status_id', 'in_reply_to_user_id', \n",
    "                            'retweeted_status_timestamp', 'retweeted_status_user_id','retweeted_status_id', 'expanded_urls', 'img_num'],axis=1)"
   ]
  },
  {
   "cell_type": "markdown",
   "id": "2bf2637b",
   "metadata": {},
   "source": [
    "##### Test"
   ]
  },
  {
   "cell_type": "code",
   "execution_count": 150,
   "id": "8621b16f",
   "metadata": {},
   "outputs": [
    {
     "name": "stdout",
     "output_type": "stream",
     "text": [
      "<class 'pandas.core.frame.DataFrame'>\n",
      "Int64Index: 1930 entries, 0 to 2355\n",
      "Data columns (total 13 columns):\n",
      " #   Column              Non-Null Count  Dtype         \n",
      "---  ------              --------------  -----         \n",
      " 0   tweet_id            1930 non-null   object        \n",
      " 1   timestamp           1930 non-null   datetime64[ns]\n",
      " 2   source              1930 non-null   category      \n",
      " 3   text                1930 non-null   object        \n",
      " 4   rating_numerator    1930 non-null   int64         \n",
      " 5   rating_denominator  1930 non-null   int64         \n",
      " 6   name                1351 non-null   object        \n",
      " 7   retweet_count       1930 non-null   float64       \n",
      " 8   favorite_count      1930 non-null   float64       \n",
      " 9   jpg_url             1930 non-null   object        \n",
      " 10  dog_stage           1930 non-null   object        \n",
      " 11  breed               1629 non-null   object        \n",
      " 12  confidence          1930 non-null   float64       \n",
      "dtypes: category(1), datetime64[ns](1), float64(3), int64(2), object(6)\n",
      "memory usage: 198.1+ KB\n"
     ]
    }
   ],
   "source": [
    "merged_df.info()"
   ]
  },
  {
   "cell_type": "code",
   "execution_count": 151,
   "id": "507b6e3c",
   "metadata": {
    "scrolled": true
   },
   "outputs": [
    {
     "data": {
      "text/html": [
       "<div>\n",
       "<style scoped>\n",
       "    .dataframe tbody tr th:only-of-type {\n",
       "        vertical-align: middle;\n",
       "    }\n",
       "\n",
       "    .dataframe tbody tr th {\n",
       "        vertical-align: top;\n",
       "    }\n",
       "\n",
       "    .dataframe thead th {\n",
       "        text-align: right;\n",
       "    }\n",
       "</style>\n",
       "<table border=\"1\" class=\"dataframe\">\n",
       "  <thead>\n",
       "    <tr style=\"text-align: right;\">\n",
       "      <th></th>\n",
       "      <th>tweet_id</th>\n",
       "      <th>timestamp</th>\n",
       "      <th>source</th>\n",
       "      <th>text</th>\n",
       "      <th>rating_numerator</th>\n",
       "      <th>rating_denominator</th>\n",
       "      <th>name</th>\n",
       "      <th>retweet_count</th>\n",
       "      <th>favorite_count</th>\n",
       "      <th>jpg_url</th>\n",
       "      <th>dog_stage</th>\n",
       "      <th>breed</th>\n",
       "      <th>confidence</th>\n",
       "    </tr>\n",
       "  </thead>\n",
       "  <tbody>\n",
       "    <tr>\n",
       "      <th>0</th>\n",
       "      <td>892420643555336193</td>\n",
       "      <td>2017-08-01 16:23:56</td>\n",
       "      <td>Twitter for iPhone</td>\n",
       "      <td>This is Phineas. He's a mystical boy. Only eve...</td>\n",
       "      <td>13</td>\n",
       "      <td>10</td>\n",
       "      <td>Phineas</td>\n",
       "      <td>8853.0</td>\n",
       "      <td>39467.0</td>\n",
       "      <td>https://pbs.twimg.com/media/DGKD1-bXoAAIAUK.jpg</td>\n",
       "      <td>None</td>\n",
       "      <td>NaN</td>\n",
       "      <td>0.000000</td>\n",
       "    </tr>\n",
       "    <tr>\n",
       "      <th>1</th>\n",
       "      <td>892177421306343426</td>\n",
       "      <td>2017-08-01 00:17:27</td>\n",
       "      <td>Twitter for iPhone</td>\n",
       "      <td>This is Tilly. She's just checking pup on you....</td>\n",
       "      <td>13</td>\n",
       "      <td>10</td>\n",
       "      <td>Tilly</td>\n",
       "      <td>6514.0</td>\n",
       "      <td>33819.0</td>\n",
       "      <td>https://pbs.twimg.com/media/DGGmoV4XsAAUL6n.jpg</td>\n",
       "      <td>None</td>\n",
       "      <td>Chihuahua</td>\n",
       "      <td>0.323581</td>\n",
       "    </tr>\n",
       "    <tr>\n",
       "      <th>2</th>\n",
       "      <td>891815181378084864</td>\n",
       "      <td>2017-07-31 00:18:03</td>\n",
       "      <td>Twitter for iPhone</td>\n",
       "      <td>This is Archie. He is a rare Norwegian Pouncin...</td>\n",
       "      <td>12</td>\n",
       "      <td>10</td>\n",
       "      <td>Archie</td>\n",
       "      <td>4328.0</td>\n",
       "      <td>25461.0</td>\n",
       "      <td>https://pbs.twimg.com/media/DGBdLU1WsAANxJ9.jpg</td>\n",
       "      <td>None</td>\n",
       "      <td>Chihuahua</td>\n",
       "      <td>0.716012</td>\n",
       "    </tr>\n",
       "    <tr>\n",
       "      <th>3</th>\n",
       "      <td>891689557279858688</td>\n",
       "      <td>2017-07-30 15:58:51</td>\n",
       "      <td>Twitter for iPhone</td>\n",
       "      <td>This is Darla. She commenced a snooze mid meal...</td>\n",
       "      <td>13</td>\n",
       "      <td>10</td>\n",
       "      <td>Darla</td>\n",
       "      <td>8964.0</td>\n",
       "      <td>42908.0</td>\n",
       "      <td>https://pbs.twimg.com/media/DF_q7IAWsAEuuN8.jpg</td>\n",
       "      <td>None</td>\n",
       "      <td>Labrador_retriever</td>\n",
       "      <td>0.168086</td>\n",
       "    </tr>\n",
       "    <tr>\n",
       "      <th>4</th>\n",
       "      <td>891327558926688256</td>\n",
       "      <td>2017-07-29 16:00:24</td>\n",
       "      <td>Twitter for iPhone</td>\n",
       "      <td>This is Franklin. He would like you to stop ca...</td>\n",
       "      <td>12</td>\n",
       "      <td>10</td>\n",
       "      <td>Franklin</td>\n",
       "      <td>9774.0</td>\n",
       "      <td>41048.0</td>\n",
       "      <td>https://pbs.twimg.com/media/DF6hr6BUMAAzZgT.jpg</td>\n",
       "      <td>None</td>\n",
       "      <td>basset</td>\n",
       "      <td>0.555712</td>\n",
       "    </tr>\n",
       "  </tbody>\n",
       "</table>\n",
       "</div>"
      ],
      "text/plain": [
       "             tweet_id           timestamp              source  \\\n",
       "0  892420643555336193 2017-08-01 16:23:56  Twitter for iPhone   \n",
       "1  892177421306343426 2017-08-01 00:17:27  Twitter for iPhone   \n",
       "2  891815181378084864 2017-07-31 00:18:03  Twitter for iPhone   \n",
       "3  891689557279858688 2017-07-30 15:58:51  Twitter for iPhone   \n",
       "4  891327558926688256 2017-07-29 16:00:24  Twitter for iPhone   \n",
       "\n",
       "                                                text  rating_numerator  \\\n",
       "0  This is Phineas. He's a mystical boy. Only eve...                13   \n",
       "1  This is Tilly. She's just checking pup on you....                13   \n",
       "2  This is Archie. He is a rare Norwegian Pouncin...                12   \n",
       "3  This is Darla. She commenced a snooze mid meal...                13   \n",
       "4  This is Franklin. He would like you to stop ca...                12   \n",
       "\n",
       "   rating_denominator      name  retweet_count  favorite_count  \\\n",
       "0                  10   Phineas         8853.0         39467.0   \n",
       "1                  10     Tilly         6514.0         33819.0   \n",
       "2                  10    Archie         4328.0         25461.0   \n",
       "3                  10     Darla         8964.0         42908.0   \n",
       "4                  10  Franklin         9774.0         41048.0   \n",
       "\n",
       "                                           jpg_url dog_stage  \\\n",
       "0  https://pbs.twimg.com/media/DGKD1-bXoAAIAUK.jpg      None   \n",
       "1  https://pbs.twimg.com/media/DGGmoV4XsAAUL6n.jpg      None   \n",
       "2  https://pbs.twimg.com/media/DGBdLU1WsAANxJ9.jpg      None   \n",
       "3  https://pbs.twimg.com/media/DF_q7IAWsAEuuN8.jpg      None   \n",
       "4  https://pbs.twimg.com/media/DF6hr6BUMAAzZgT.jpg      None   \n",
       "\n",
       "                breed  confidence  \n",
       "0                 NaN    0.000000  \n",
       "1           Chihuahua    0.323581  \n",
       "2           Chihuahua    0.716012  \n",
       "3  Labrador_retriever    0.168086  \n",
       "4              basset    0.555712  "
      ]
     },
     "execution_count": 151,
     "metadata": {},
     "output_type": "execute_result"
    }
   ],
   "source": [
    "merged_df.head()"
   ]
  },
  {
   "cell_type": "markdown",
   "id": "5af6fbb2",
   "metadata": {},
   "source": [
    "##### Quality Issue 11"
   ]
  },
  {
   "cell_type": "markdown",
   "id": "de507ccd",
   "metadata": {},
   "source": [
    "##### Define\n",
    "> Rename columns with appropriate names"
   ]
  },
  {
   "cell_type": "markdown",
   "id": "bfe8ff99",
   "metadata": {},
   "source": [
    "##### Code"
   ]
  },
  {
   "cell_type": "code",
   "execution_count": 152,
   "id": "e7804263",
   "metadata": {},
   "outputs": [],
   "source": [
    "# Rename columns to make easier to understand for someone not familiar with the original data sets\n",
    "merged_df = merged_df.rename(columns = {'timestamp':'tweet_date',\n",
    "                           'source': 'tweet_source',\n",
    "                           'text': 'tweet_text',\n",
    "                           'retweet_count': 'no_of_retweets',\n",
    "                           'rating_numerator': 'dog_rating',\n",
    "                           'rating_denominator':'possible_rating',\n",
    "                           'name': 'dog_name',\n",
    "                           'favorite_count':'no_of_likes',\n",
    "                           'jpg_url': 'image_link',\n",
    "                           'breed': 'dog_breed',\n",
    "                           'confidence': 'probability_AI_calc'})"
   ]
  },
  {
   "cell_type": "markdown",
   "id": "1ad10467",
   "metadata": {},
   "source": [
    "##### Test"
   ]
  },
  {
   "cell_type": "code",
   "execution_count": 153,
   "id": "e5edb0a1",
   "metadata": {
    "scrolled": true
   },
   "outputs": [
    {
     "name": "stdout",
     "output_type": "stream",
     "text": [
      "<class 'pandas.core.frame.DataFrame'>\n",
      "Int64Index: 1930 entries, 0 to 2355\n",
      "Data columns (total 13 columns):\n",
      " #   Column               Non-Null Count  Dtype         \n",
      "---  ------               --------------  -----         \n",
      " 0   tweet_id             1930 non-null   object        \n",
      " 1   tweet_date           1930 non-null   datetime64[ns]\n",
      " 2   tweet_source         1930 non-null   category      \n",
      " 3   tweet_text           1930 non-null   object        \n",
      " 4   dog_rating           1930 non-null   int64         \n",
      " 5   possible_rating      1930 non-null   int64         \n",
      " 6   dog_name             1351 non-null   object        \n",
      " 7   no_of_retweets       1930 non-null   float64       \n",
      " 8   no_of_likes          1930 non-null   float64       \n",
      " 9   image_link           1930 non-null   object        \n",
      " 10  dog_stage            1930 non-null   object        \n",
      " 11  dog_breed            1629 non-null   object        \n",
      " 12  probability_AI_calc  1930 non-null   float64       \n",
      "dtypes: category(1), datetime64[ns](1), float64(3), int64(2), object(6)\n",
      "memory usage: 198.1+ KB\n"
     ]
    }
   ],
   "source": [
    "merged_df.info()"
   ]
  },
  {
   "cell_type": "markdown",
   "id": "158b48c1",
   "metadata": {},
   "source": [
    "### Storing Dataset"
   ]
  },
  {
   "cell_type": "markdown",
   "id": "a11b7a3b",
   "metadata": {},
   "source": [
    "After assessing, cleaning and merging of all dateset, I will save it to a csv file"
   ]
  },
  {
   "cell_type": "code",
   "execution_count": 154,
   "id": "e2a34d2d",
   "metadata": {},
   "outputs": [],
   "source": [
    "#Saving the cleaned dataset to a csv file\n",
    "merged_df.to_csv('twitter_archive_master.csv', index = False)"
   ]
  },
  {
   "cell_type": "markdown",
   "id": "1e06bd3b",
   "metadata": {},
   "source": [
    "##### Loading Dataset for analysis"
   ]
  },
  {
   "cell_type": "code",
   "execution_count": 155,
   "id": "d4a2412b",
   "metadata": {},
   "outputs": [],
   "source": [
    "# Loading dataset for analysis\n",
    "df = pd.read_csv('twitter_archive_master.csv')"
   ]
  },
  {
   "cell_type": "code",
   "execution_count": 156,
   "id": "ec25a7e2",
   "metadata": {
    "scrolled": true
   },
   "outputs": [
    {
     "name": "stdout",
     "output_type": "stream",
     "text": [
      "<class 'pandas.core.frame.DataFrame'>\n",
      "RangeIndex: 1930 entries, 0 to 1929\n",
      "Data columns (total 13 columns):\n",
      " #   Column               Non-Null Count  Dtype  \n",
      "---  ------               --------------  -----  \n",
      " 0   tweet_id             1930 non-null   int64  \n",
      " 1   tweet_date           1930 non-null   object \n",
      " 2   tweet_source         1930 non-null   object \n",
      " 3   tweet_text           1930 non-null   object \n",
      " 4   dog_rating           1930 non-null   int64  \n",
      " 5   possible_rating      1930 non-null   int64  \n",
      " 6   dog_name             1351 non-null   object \n",
      " 7   no_of_retweets       1930 non-null   float64\n",
      " 8   no_of_likes          1930 non-null   float64\n",
      " 9   image_link           1930 non-null   object \n",
      " 10  dog_stage            1930 non-null   object \n",
      " 11  dog_breed            1629 non-null   object \n",
      " 12  probability_AI_calc  1930 non-null   float64\n",
      "dtypes: float64(3), int64(3), object(7)\n",
      "memory usage: 196.1+ KB\n"
     ]
    }
   ],
   "source": [
    "df.info()"
   ]
  },
  {
   "cell_type": "code",
   "execution_count": 157,
   "id": "7ef09948",
   "metadata": {},
   "outputs": [],
   "source": [
    "# Changing datatype\n",
    "df.tweet_id=df.tweet_id.astype('str')\n",
    "df.no_of_retweets=df.no_of_retweets.astype('int')\n",
    "df.no_of_likes=df.no_of_likes.astype('int')"
   ]
  },
  {
   "cell_type": "code",
   "execution_count": 158,
   "id": "738d9d65",
   "metadata": {
    "scrolled": true
   },
   "outputs": [
    {
     "name": "stdout",
     "output_type": "stream",
     "text": [
      "<class 'pandas.core.frame.DataFrame'>\n",
      "RangeIndex: 1930 entries, 0 to 1929\n",
      "Data columns (total 13 columns):\n",
      " #   Column               Non-Null Count  Dtype  \n",
      "---  ------               --------------  -----  \n",
      " 0   tweet_id             1930 non-null   object \n",
      " 1   tweet_date           1930 non-null   object \n",
      " 2   tweet_source         1930 non-null   object \n",
      " 3   tweet_text           1930 non-null   object \n",
      " 4   dog_rating           1930 non-null   int64  \n",
      " 5   possible_rating      1930 non-null   int64  \n",
      " 6   dog_name             1351 non-null   object \n",
      " 7   no_of_retweets       1930 non-null   int32  \n",
      " 8   no_of_likes          1930 non-null   int32  \n",
      " 9   image_link           1930 non-null   object \n",
      " 10  dog_stage            1930 non-null   object \n",
      " 11  dog_breed            1629 non-null   object \n",
      " 12  probability_AI_calc  1930 non-null   float64\n",
      "dtypes: float64(1), int32(2), int64(2), object(8)\n",
      "memory usage: 181.1+ KB\n"
     ]
    }
   ],
   "source": [
    "df.info()"
   ]
  },
  {
   "cell_type": "markdown",
   "id": "a60c6910",
   "metadata": {},
   "source": [
    "## Data Analysis"
   ]
  },
  {
   "cell_type": "markdown",
   "id": "34e5d6a8",
   "metadata": {},
   "source": [
    "#### Summary Statistics"
   ]
  },
  {
   "cell_type": "code",
   "execution_count": 159,
   "id": "e18261ca",
   "metadata": {},
   "outputs": [
    {
     "data": {
      "text/html": [
       "<div>\n",
       "<style scoped>\n",
       "    .dataframe tbody tr th:only-of-type {\n",
       "        vertical-align: middle;\n",
       "    }\n",
       "\n",
       "    .dataframe tbody tr th {\n",
       "        vertical-align: top;\n",
       "    }\n",
       "\n",
       "    .dataframe thead th {\n",
       "        text-align: right;\n",
       "    }\n",
       "</style>\n",
       "<table border=\"1\" class=\"dataframe\">\n",
       "  <thead>\n",
       "    <tr style=\"text-align: right;\">\n",
       "      <th></th>\n",
       "      <th>dog_rating</th>\n",
       "      <th>possible_rating</th>\n",
       "      <th>no_of_retweets</th>\n",
       "      <th>no_of_likes</th>\n",
       "      <th>probability_AI_calc</th>\n",
       "    </tr>\n",
       "  </thead>\n",
       "  <tbody>\n",
       "    <tr>\n",
       "      <th>count</th>\n",
       "      <td>1930.000000</td>\n",
       "      <td>1930.0</td>\n",
       "      <td>1930.000000</td>\n",
       "      <td>1930.000000</td>\n",
       "      <td>1930.000000</td>\n",
       "    </tr>\n",
       "    <tr>\n",
       "      <th>mean</th>\n",
       "      <td>12.339378</td>\n",
       "      <td>10.0</td>\n",
       "      <td>2705.691710</td>\n",
       "      <td>8677.446632</td>\n",
       "      <td>0.463259</td>\n",
       "    </tr>\n",
       "    <tr>\n",
       "      <th>std</th>\n",
       "      <td>42.178118</td>\n",
       "      <td>0.0</td>\n",
       "      <td>4642.819181</td>\n",
       "      <td>12047.825074</td>\n",
       "      <td>0.340148</td>\n",
       "    </tr>\n",
       "    <tr>\n",
       "      <th>min</th>\n",
       "      <td>0.000000</td>\n",
       "      <td>10.0</td>\n",
       "      <td>16.000000</td>\n",
       "      <td>81.000000</td>\n",
       "      <td>0.000000</td>\n",
       "    </tr>\n",
       "    <tr>\n",
       "      <th>25%</th>\n",
       "      <td>10.000000</td>\n",
       "      <td>10.0</td>\n",
       "      <td>612.250000</td>\n",
       "      <td>1876.500000</td>\n",
       "      <td>0.138796</td>\n",
       "    </tr>\n",
       "    <tr>\n",
       "      <th>50%</th>\n",
       "      <td>11.000000</td>\n",
       "      <td>10.0</td>\n",
       "      <td>1323.500000</td>\n",
       "      <td>3997.500000</td>\n",
       "      <td>0.455205</td>\n",
       "    </tr>\n",
       "    <tr>\n",
       "      <th>75%</th>\n",
       "      <td>12.000000</td>\n",
       "      <td>10.0</td>\n",
       "      <td>3129.750000</td>\n",
       "      <td>11098.000000</td>\n",
       "      <td>0.776559</td>\n",
       "    </tr>\n",
       "    <tr>\n",
       "      <th>max</th>\n",
       "      <td>1776.000000</td>\n",
       "      <td>10.0</td>\n",
       "      <td>79515.000000</td>\n",
       "      <td>132810.000000</td>\n",
       "      <td>0.999956</td>\n",
       "    </tr>\n",
       "  </tbody>\n",
       "</table>\n",
       "</div>"
      ],
      "text/plain": [
       "        dog_rating  possible_rating  no_of_retweets    no_of_likes  \\\n",
       "count  1930.000000           1930.0     1930.000000    1930.000000   \n",
       "mean     12.339378             10.0     2705.691710    8677.446632   \n",
       "std      42.178118              0.0     4642.819181   12047.825074   \n",
       "min       0.000000             10.0       16.000000      81.000000   \n",
       "25%      10.000000             10.0      612.250000    1876.500000   \n",
       "50%      11.000000             10.0     1323.500000    3997.500000   \n",
       "75%      12.000000             10.0     3129.750000   11098.000000   \n",
       "max    1776.000000             10.0    79515.000000  132810.000000   \n",
       "\n",
       "       probability_AI_calc  \n",
       "count          1930.000000  \n",
       "mean              0.463259  \n",
       "std               0.340148  \n",
       "min               0.000000  \n",
       "25%               0.138796  \n",
       "50%               0.455205  \n",
       "75%               0.776559  \n",
       "max               0.999956  "
      ]
     },
     "execution_count": 159,
     "metadata": {},
     "output_type": "execute_result"
    }
   ],
   "source": [
    "df.describe()"
   ]
  },
  {
   "cell_type": "markdown",
   "id": "e188178b",
   "metadata": {},
   "source": [
    "### Research Question 1: Top Ten Most common Breeds of Dog"
   ]
  },
  {
   "cell_type": "code",
   "execution_count": 160,
   "id": "e2961a58",
   "metadata": {
    "scrolled": false
   },
   "outputs": [
    {
     "data": {
      "image/png": "[encoded data removed]",
      "text/plain": [
       "<Figure size 600x400 with 1 Axes>"
      ]
     },
     "metadata": {
      "needs_background": "light"
     },
     "output_type": "display_data"
    }
   ],
   "source": [
    "# Plot counts of the 10 most common dog breeds\n",
    "top_breeds = (df.dog_breed.value_counts()\n",
    "              .head(10)\n",
    "              .to_frame()\n",
    "              .reset_index()\n",
    "              .rename(columns={'index': 'dog_breed', 'dog_breed': 'total'}))\n",
    "top_breeds['dog_breed'] = top_breeds['dog_breed'].str.title()\n",
    "plt.figure(dpi=100);\n",
    "ax = sns.barplot(x='total', y='dog_breed', data=top_breeds);\n",
    "ax.set_title('Ten Most Common Dog Breeds in WeRateDogs Tweets');\n",
    "ax.set_ylabel('Dog Breed');\n",
    "ax.set_xlabel('Total');"
   ]
  },
  {
   "cell_type": "markdown",
   "id": "8bc0b5b9",
   "metadata": {},
   "source": [
    "### Research Question 2: Top 10 dog breeds with highest likes."
   ]
  },
  {
   "cell_type": "code",
   "execution_count": 161,
   "id": "0745c728",
   "metadata": {
    "scrolled": true
   },
   "outputs": [
    {
     "data": {
      "text/plain": [
       "dog_breed\n",
       "golden_retriever      1880654\n",
       "Labrador_retriever    1166598\n",
       "Pembroke              1005629\n",
       "Chihuahua              714214\n",
       "French_bulldog         552600\n",
       "Samoyed                462315\n",
       "cocker_spaniel         391085\n",
       "pug                    375134\n",
       "chow                   344244\n",
       "toy_poodle             339068\n",
       "Name: no_of_likes, dtype: int32"
      ]
     },
     "execution_count": 161,
     "metadata": {},
     "output_type": "execute_result"
    }
   ],
   "source": [
    "# Total number of likes grouped by breed\n",
    "df.groupby('dog_breed')['no_of_likes'].sum().nlargest(10)"
   ]
  },
  {
   "cell_type": "code",
   "execution_count": 162,
   "id": "75c3ee5d",
   "metadata": {
    "scrolled": false
   },
   "outputs": [
    {
     "data": {
      "image/png": "[encoded data removed]",
      "text/plain": [
       "<Figure size 432x288 with 1 Axes>"
      ]
     },
     "metadata": {
      "needs_background": "light"
     },
     "output_type": "display_data"
    }
   ],
   "source": [
    "# Total number of likes grouped by breed\n",
    "df.groupby('dog_breed')['no_of_likes'].sum().nlargest(10).plot(kind='bar', title='Top 10 dog breeds with highest likes');"
   ]
  },
  {
   "cell_type": "markdown",
   "id": "c32154f5",
   "metadata": {},
   "source": [
    "### Research Question 3: Top 10 dog breeds with highest retweets."
   ]
  },
  {
   "cell_type": "code",
   "execution_count": 163,
   "id": "b3314612",
   "metadata": {
    "scrolled": true
   },
   "outputs": [
    {
     "data": {
      "text/plain": [
       "dog_breed\n",
       "golden_retriever      573414\n",
       "Labrador_retriever    364842\n",
       "Pembroke              284125\n",
       "Chihuahua             243403\n",
       "Samoyed               169366\n",
       "French_bulldog        152322\n",
       "cocker_spaniel        142320\n",
       "pug                   116039\n",
       "toy_poodle            115768\n",
       "Pomeranian            112171\n",
       "Name: no_of_retweets, dtype: int32"
      ]
     },
     "execution_count": 163,
     "metadata": {},
     "output_type": "execute_result"
    }
   ],
   "source": [
    "# Total number of likes grouped by breed\n",
    "df.groupby('dog_breed')['no_of_retweets'].sum().nlargest(10)"
   ]
  },
  {
   "cell_type": "code",
   "execution_count": 164,
   "id": "37613461",
   "metadata": {},
   "outputs": [
    {
     "data": {
      "image/png": "[encoded data removed]",
      "text/plain": [
       "<Figure size 432x288 with 1 Axes>"
      ]
     },
     "metadata": {
      "needs_background": "light"
     },
     "output_type": "display_data"
    }
   ],
   "source": [
    "# Total number of likes grouped by breed\n",
    "df.groupby('dog_breed')['no_of_retweets'].sum().nlargest(10).plot(kind='bar', title='Top 10 dog breeds with highest retweets');"
   ]
  },
  {
   "cell_type": "markdown",
   "id": "b2135520",
   "metadata": {},
   "source": [
    "<a id='conclusions'></a>\n",
    "\n",
    "### Conclusions"
   ]
  },
  {
   "cell_type": "markdown",
   "id": "9a3ce7b6",
   "metadata": {},
   "source": [
    "It was observed that Golden Retriever has the highest number of likes and retweets.While, Labrador Retriever comes in second highest."
   ]
  },
  {
   "cell_type": "markdown",
   "id": "2c41c4e0",
   "metadata": {},
   "source": [
    "### Recommendation"
   ]
  },
  {
   "cell_type": "markdown",
   "id": "f6c60aff",
   "metadata": {},
   "source": [
    "The datasets have a lot of errors like dog name and structuring, which during the process of cleaning, I had to drop them. \n",
    "To derive more accurate information from these datasets, I recommend that the dataset should be properly structured with less errors."
   ]
  }
 ],
 "metadata": {
  "kernelspec": {
   "display_name": "Python 3 (ipykernel)",
   "language": "python",
   "name": "python3"
  },
  "language_info": {
   "codemirror_mode": {
    "name": "ipython",
    "version": 3
   },
   "file_extension": ".py",
   "mimetype": "text/x-python",
   "name": "python",
   "nbconvert_exporter": "python",
   "pygments_lexer": "ipython3",
   "version": "3.9.12"
  }
 },
 "nbformat": 4,
 "nbformat_minor": 5
}
